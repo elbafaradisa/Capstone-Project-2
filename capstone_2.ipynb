{
 "cells": [
  {
   "attachments": {},
   "cell_type": "markdown",
   "metadata": {},
   "source": [
    "# Latar Belakang\n",
    "TSA merupakan badan pemerintah Amerika Serikat yang bertanggung jawab dalam masalah keamanan penerbangan. TSA mencatat klaim yang diajukan oleh para penumpang pesawat seperti kehilangan ataupun kerusakan barang. Data klaim yang diajukan kepada TSA tersebut dapat digunakan oleh TSA sebagai acuan untuk terus dapat meningkatkan kinerja keamanan dalam penerbangan.\n"
   ]
  },
  {
   "attachments": {},
   "cell_type": "markdown",
   "metadata": {},
   "source": [
    "# Pernyataan Masalah\n",
    "TSA ingin melakukan evaluasi terkait keamanan bandara. TSA ingin mengetahui bandara mana saja yang memiliki jumlah klaim terbanyak serta jenis klaim apa yang paling banyak dilaporkan oleh penumpang. Informasi ini akan membantu TSA untuk mengetahui bandara mana saja yang membutuhkan peningkatan sistem keamanan sehingga dapat mengurangi jumlah klaim yang diajukan oleh penumpang pada TSA. \n",
    "\n",
    "Sebagai seorang *data analyst*, saya akan mencoba menjawab pertanyaan:\n",
    "\n",
    "**Bagaimana karakteristik dari klaim yang diajukan oleh para penumpang?**"
   ]
  },
  {
   "cell_type": "code",
   "execution_count": 1,
   "metadata": {},
   "outputs": [],
   "source": [
    "import pandas as pd\n",
    "import numpy as np\n",
    "import seaborn as sns\n",
    "import matplotlib.pyplot as plt"
   ]
  },
  {
   "attachments": {},
   "cell_type": "markdown",
   "metadata": {},
   "source": [
    "Dataset ini terdiri dari 13 kolom yaitu : \n",
    "\n",
    "* Claim Number : Nomor unik dari setiap klaim yamg diajukan penumpang\n",
    "* Date Received : Tanggal diterimanya pengajuan klaim dari penumpang oleh TSA\n",
    "* Incident Date : Tanggal kejadian atau kasus yang dialami oleh penumpang\n",
    "* Airport Code : Kode bandara\n",
    "* Airport Name : Nama Bandara\n",
    "* Airline Name : Nama maskapai penerbangan\n",
    "* Claim Type : Jenis klaim yang diajukan penumpang\n",
    "* Claim Site : Tempat pengajuan klaim oleh penumpang\n",
    "* Item : Nama item dalam klaim yang diajukan penumpang\n",
    "* Claim Amount : Jumlah harga klaim yang diajukan penumpang (dalam dollar)\n",
    "* Status : Status dari klaim yang diajukan penumpang\n",
    "* Close Amount : Jumlah harga klaim yang dibayarkan (dalam dollar)\n",
    "* Disposition : Disposisi terhadap klaim yang telah diajukan penumpang\n",
    "\n",
    "\n",
    "\n",
    "Berikut lima baris teratas dan lima baris terbawah dari dataset tsa_claims."
   ]
  },
  {
   "cell_type": "code",
   "execution_count": 2,
   "metadata": {},
   "outputs": [
    {
     "name": "stderr",
     "output_type": "stream",
     "text": [
      "C:\\Users\\haqib\\AppData\\Local\\Temp\\ipykernel_30912\\1558201155.py:1: DtypeWarning: Columns (0,11,12) have mixed types. Specify dtype option on import or set low_memory=False.\n",
      "  df = pd.read_csv('tsa_claims.csv')\n"
     ]
    },
    {
     "data": {
      "text/html": [
       "<div>\n",
       "<style scoped>\n",
       "    .dataframe tbody tr th:only-of-type {\n",
       "        vertical-align: middle;\n",
       "    }\n",
       "\n",
       "    .dataframe tbody tr th {\n",
       "        vertical-align: top;\n",
       "    }\n",
       "\n",
       "    .dataframe thead th {\n",
       "        text-align: right;\n",
       "    }\n",
       "</style>\n",
       "<table border=\"1\" class=\"dataframe\">\n",
       "  <thead>\n",
       "    <tr style=\"text-align: right;\">\n",
       "      <th></th>\n",
       "      <th>Claim Number</th>\n",
       "      <th>Date Received</th>\n",
       "      <th>Incident Date</th>\n",
       "      <th>Airport Code</th>\n",
       "      <th>Airport Name</th>\n",
       "      <th>Airline Name</th>\n",
       "      <th>Claim Type</th>\n",
       "      <th>Claim Site</th>\n",
       "      <th>Item</th>\n",
       "      <th>Claim Amount</th>\n",
       "      <th>Status</th>\n",
       "      <th>Close Amount</th>\n",
       "      <th>Disposition</th>\n",
       "    </tr>\n",
       "  </thead>\n",
       "  <tbody>\n",
       "    <tr>\n",
       "      <th>0</th>\n",
       "      <td>0909802M</td>\n",
       "      <td>4-Jan-02</td>\n",
       "      <td>12/12/2002 0:00</td>\n",
       "      <td>EWR</td>\n",
       "      <td>Newark International Airport</td>\n",
       "      <td>Continental Airlines</td>\n",
       "      <td>Property Damage</td>\n",
       "      <td>Checkpoint</td>\n",
       "      <td>Other</td>\n",
       "      <td>$350.00</td>\n",
       "      <td>Approved</td>\n",
       "      <td>$350.00</td>\n",
       "      <td>Approve in Full</td>\n",
       "    </tr>\n",
       "    <tr>\n",
       "      <th>1</th>\n",
       "      <td>0202417M</td>\n",
       "      <td>2-Feb-02</td>\n",
       "      <td>1/16/2004 0:00</td>\n",
       "      <td>SEA</td>\n",
       "      <td>Seattle-Tacoma International</td>\n",
       "      <td>NaN</td>\n",
       "      <td>Property Damage</td>\n",
       "      <td>Checked Baggage</td>\n",
       "      <td>Luggage (all types including footlockers)</td>\n",
       "      <td>$100.00</td>\n",
       "      <td>Settled</td>\n",
       "      <td>$50.00</td>\n",
       "      <td>Settle</td>\n",
       "    </tr>\n",
       "    <tr>\n",
       "      <th>2</th>\n",
       "      <td>0202445M</td>\n",
       "      <td>4-Feb-02</td>\n",
       "      <td>11/26/2003 0:00</td>\n",
       "      <td>STL</td>\n",
       "      <td>Lambert St. Louis International</td>\n",
       "      <td>American Airlines</td>\n",
       "      <td>Property Damage</td>\n",
       "      <td>Checked Baggage</td>\n",
       "      <td>Cell Phones</td>\n",
       "      <td>$278.88</td>\n",
       "      <td>Settled</td>\n",
       "      <td>$227.92</td>\n",
       "      <td>Settle</td>\n",
       "    </tr>\n",
       "    <tr>\n",
       "      <th>3</th>\n",
       "      <td>0909816M</td>\n",
       "      <td>7-Feb-02</td>\n",
       "      <td>1/6/2003 0:00</td>\n",
       "      <td>MIA</td>\n",
       "      <td>Miami International Airport</td>\n",
       "      <td>American Airlines</td>\n",
       "      <td>Property Damage</td>\n",
       "      <td>Checkpoint</td>\n",
       "      <td>Luggage (all types including footlockers)</td>\n",
       "      <td>$50.00</td>\n",
       "      <td>Approved</td>\n",
       "      <td>$50.00</td>\n",
       "      <td>Approve in Full</td>\n",
       "    </tr>\n",
       "    <tr>\n",
       "      <th>4</th>\n",
       "      <td>2005032379513</td>\n",
       "      <td>18-Feb-02</td>\n",
       "      <td>2/5/2005 0:00</td>\n",
       "      <td>MCO</td>\n",
       "      <td>Orlando International Airport</td>\n",
       "      <td>Delta (Song)</td>\n",
       "      <td>Property Damage</td>\n",
       "      <td>Checkpoint</td>\n",
       "      <td>Baby - Strollers; car seats; playpen; etc.</td>\n",
       "      <td>$84.79</td>\n",
       "      <td>Approved</td>\n",
       "      <td>$84.79</td>\n",
       "      <td>Approve in Full</td>\n",
       "    </tr>\n",
       "  </tbody>\n",
       "</table>\n",
       "</div>"
      ],
      "text/plain": [
       "    Claim Number Date Received    Incident Date Airport Code  \\\n",
       "0       0909802M      4-Jan-02  12/12/2002 0:00          EWR   \n",
       "1       0202417M      2-Feb-02   1/16/2004 0:00          SEA   \n",
       "2       0202445M      4-Feb-02  11/26/2003 0:00          STL   \n",
       "3       0909816M      7-Feb-02    1/6/2003 0:00          MIA   \n",
       "4  2005032379513     18-Feb-02    2/5/2005 0:00          MCO   \n",
       "\n",
       "                      Airport Name          Airline Name       Claim Type  \\\n",
       "0     Newark International Airport  Continental Airlines  Property Damage   \n",
       "1     Seattle-Tacoma International                   NaN  Property Damage   \n",
       "2  Lambert St. Louis International     American Airlines  Property Damage   \n",
       "3      Miami International Airport     American Airlines  Property Damage   \n",
       "4    Orlando International Airport          Delta (Song)  Property Damage   \n",
       "\n",
       "        Claim Site                                        Item Claim Amount  \\\n",
       "0       Checkpoint                                       Other     $350.00    \n",
       "1  Checked Baggage   Luggage (all types including footlockers)     $100.00    \n",
       "2  Checked Baggage                                 Cell Phones     $278.88    \n",
       "3       Checkpoint   Luggage (all types including footlockers)      $50.00    \n",
       "4       Checkpoint  Baby - Strollers; car seats; playpen; etc.      $84.79    \n",
       "\n",
       "     Status Close Amount      Disposition  \n",
       "0  Approved     $350.00   Approve in Full  \n",
       "1   Settled      $50.00            Settle  \n",
       "2   Settled     $227.92            Settle  \n",
       "3  Approved      $50.00   Approve in Full  \n",
       "4  Approved      $84.79   Approve in Full  "
      ]
     },
     "metadata": {},
     "output_type": "display_data"
    },
    {
     "data": {
      "text/html": [
       "<div>\n",
       "<style scoped>\n",
       "    .dataframe tbody tr th:only-of-type {\n",
       "        vertical-align: middle;\n",
       "    }\n",
       "\n",
       "    .dataframe tbody tr th {\n",
       "        vertical-align: top;\n",
       "    }\n",
       "\n",
       "    .dataframe thead th {\n",
       "        text-align: right;\n",
       "    }\n",
       "</style>\n",
       "<table border=\"1\" class=\"dataframe\">\n",
       "  <thead>\n",
       "    <tr style=\"text-align: right;\">\n",
       "      <th></th>\n",
       "      <th>Claim Number</th>\n",
       "      <th>Date Received</th>\n",
       "      <th>Incident Date</th>\n",
       "      <th>Airport Code</th>\n",
       "      <th>Airport Name</th>\n",
       "      <th>Airline Name</th>\n",
       "      <th>Claim Type</th>\n",
       "      <th>Claim Site</th>\n",
       "      <th>Item</th>\n",
       "      <th>Claim Amount</th>\n",
       "      <th>Status</th>\n",
       "      <th>Close Amount</th>\n",
       "      <th>Disposition</th>\n",
       "    </tr>\n",
       "  </thead>\n",
       "  <tbody>\n",
       "    <tr>\n",
       "      <th>204262</th>\n",
       "      <td>2015120427297</td>\n",
       "      <td>20-Nov-15</td>\n",
       "      <td>16-Oct-15</td>\n",
       "      <td>-</td>\n",
       "      <td>-</td>\n",
       "      <td>-</td>\n",
       "      <td>Property Damage</td>\n",
       "      <td>Checked Baggage</td>\n",
       "      <td>Baggage/Cases/Purses; Books; Magazines &amp; Other...</td>\n",
       "      <td>-</td>\n",
       "      <td>-</td>\n",
       "      <td>NaN</td>\n",
       "      <td>NaN</td>\n",
       "    </tr>\n",
       "    <tr>\n",
       "      <th>204263</th>\n",
       "      <td>2015123027969</td>\n",
       "      <td>17-Dec-15</td>\n",
       "      <td>2-Dec-15</td>\n",
       "      <td>-</td>\n",
       "      <td>-</td>\n",
       "      <td>-</td>\n",
       "      <td>Property Damage</td>\n",
       "      <td>Checked Baggage</td>\n",
       "      <td>Audio/Video; Home Decor</td>\n",
       "      <td>-</td>\n",
       "      <td>-</td>\n",
       "      <td>NaN</td>\n",
       "      <td>NaN</td>\n",
       "    </tr>\n",
       "    <tr>\n",
       "      <th>204264</th>\n",
       "      <td>2016010428072</td>\n",
       "      <td>22-Dec-15</td>\n",
       "      <td>20-Dec-15</td>\n",
       "      <td>-</td>\n",
       "      <td>-</td>\n",
       "      <td>-</td>\n",
       "      <td>Passenger Property Loss</td>\n",
       "      <td>Checked Baggage</td>\n",
       "      <td>Clothing</td>\n",
       "      <td>-</td>\n",
       "      <td>-</td>\n",
       "      <td>NaN</td>\n",
       "      <td>NaN</td>\n",
       "    </tr>\n",
       "    <tr>\n",
       "      <th>204265</th>\n",
       "      <td>2016011328300</td>\n",
       "      <td>30-Dec-15</td>\n",
       "      <td>28-Dec-15</td>\n",
       "      <td>-</td>\n",
       "      <td>-</td>\n",
       "      <td>-</td>\n",
       "      <td>Passenger Property Loss</td>\n",
       "      <td>Checked Baggage</td>\n",
       "      <td>Tools &amp; Home Improvement Supplies</td>\n",
       "      <td>-</td>\n",
       "      <td>-</td>\n",
       "      <td>NaN</td>\n",
       "      <td>NaN</td>\n",
       "    </tr>\n",
       "    <tr>\n",
       "      <th>204266</th>\n",
       "      <td>2015123128015</td>\n",
       "      <td>31-Dec-15</td>\n",
       "      <td>23-Nov-15</td>\n",
       "      <td>-</td>\n",
       "      <td>-</td>\n",
       "      <td>-</td>\n",
       "      <td>Passenger Property Loss</td>\n",
       "      <td>Checkpoint</td>\n",
       "      <td>Personal Accessories</td>\n",
       "      <td>-</td>\n",
       "      <td>-</td>\n",
       "      <td>NaN</td>\n",
       "      <td>NaN</td>\n",
       "    </tr>\n",
       "  </tbody>\n",
       "</table>\n",
       "</div>"
      ],
      "text/plain": [
       "         Claim Number Date Received Incident Date Airport Code Airport Name  \\\n",
       "204262  2015120427297     20-Nov-15     16-Oct-15            -            -   \n",
       "204263  2015123027969     17-Dec-15      2-Dec-15            -            -   \n",
       "204264  2016010428072     22-Dec-15     20-Dec-15            -            -   \n",
       "204265  2016011328300     30-Dec-15     28-Dec-15            -            -   \n",
       "204266  2015123128015     31-Dec-15     23-Nov-15            -            -   \n",
       "\n",
       "       Airline Name               Claim Type       Claim Site  \\\n",
       "204262            -          Property Damage  Checked Baggage   \n",
       "204263            -          Property Damage  Checked Baggage   \n",
       "204264            -  Passenger Property Loss  Checked Baggage   \n",
       "204265            -  Passenger Property Loss  Checked Baggage   \n",
       "204266            -  Passenger Property Loss       Checkpoint   \n",
       "\n",
       "                                                     Item Claim Amount Status  \\\n",
       "204262  Baggage/Cases/Purses; Books; Magazines & Other...            -      -   \n",
       "204263                            Audio/Video; Home Decor            -      -   \n",
       "204264                                           Clothing            -      -   \n",
       "204265                  Tools & Home Improvement Supplies            -      -   \n",
       "204266                               Personal Accessories            -      -   \n",
       "\n",
       "       Close Amount Disposition  \n",
       "204262          NaN         NaN  \n",
       "204263          NaN         NaN  \n",
       "204264          NaN         NaN  \n",
       "204265          NaN         NaN  \n",
       "204266          NaN         NaN  "
      ]
     },
     "metadata": {},
     "output_type": "display_data"
    }
   ],
   "source": [
    "df = pd.read_csv('tsa_claims.csv')\n",
    "display(df.head(),df.tail())"
   ]
  },
  {
   "attachments": {},
   "cell_type": "markdown",
   "metadata": {},
   "source": [
    "# Data Understanding and Cleaning\n",
    "Sebelum masuk ke dalam tahap analisis, perlu dilakukan terlebih dahulu tahap *data understanding*. Dari tahapan tersebut akan diketahui anomali-anomali apa saja yang ada pada data dan nantinya perlu ditangani dengan tahapan *data cleaning*. Setiap penangan anomali yang dilakukan, akan disertai dengan justifikasi langkah yang diambil, baik secara *domain knowledge* maupun secara statistik."
   ]
  },
  {
   "cell_type": "code",
   "execution_count": 3,
   "metadata": {},
   "outputs": [
    {
     "name": "stdout",
     "output_type": "stream",
     "text": [
      "<class 'pandas.core.frame.DataFrame'>\n",
      "RangeIndex: 204267 entries, 0 to 204266\n",
      "Data columns (total 13 columns):\n",
      " #   Column         Non-Null Count   Dtype \n",
      "---  ------         --------------   ----- \n",
      " 0   Claim Number   204267 non-null  object\n",
      " 1   Date Received  204004 non-null  object\n",
      " 2   Incident Date  202084 non-null  object\n",
      " 3   Airport Code   195743 non-null  object\n",
      " 4   Airport Name   195743 non-null  object\n",
      " 5   Airline Name   169893 non-null  object\n",
      " 6   Claim Type     196354 non-null  object\n",
      " 7   Claim Site     203527 non-null  object\n",
      " 8   Item           200301 non-null  object\n",
      " 9   Claim Amount   200224 non-null  object\n",
      " 10  Status         204262 non-null  object\n",
      " 11  Close Amount   135315 non-null  object\n",
      " 12  Disposition    131359 non-null  object\n",
      "dtypes: object(13)\n",
      "memory usage: 20.3+ MB\n"
     ]
    }
   ],
   "source": [
    "# Melihat informasi secara umum dari dataset dan tipe data setiap value dalam dataset\n",
    "\n",
    "df.info()"
   ]
  },
  {
   "cell_type": "code",
   "execution_count": 4,
   "metadata": {},
   "outputs": [
    {
     "data": {
      "text/plain": [
       "Claim Number         0\n",
       "Date Received      263\n",
       "Incident Date     2183\n",
       "Airport Code      8524\n",
       "Airport Name      8524\n",
       "Airline Name     34374\n",
       "Claim Type        7913\n",
       "Claim Site         740\n",
       "Item              3966\n",
       "Claim Amount      4043\n",
       "Status               5\n",
       "Close Amount     68952\n",
       "Disposition      72908\n",
       "dtype: int64"
      ]
     },
     "execution_count": 4,
     "metadata": {},
     "output_type": "execute_result"
    }
   ],
   "source": [
    "# Melihat jumlah missing values di setiap kolom dalam dataset\n",
    "\n",
    "df.isnull().sum()"
   ]
  },
  {
   "cell_type": "code",
   "execution_count": 5,
   "metadata": {},
   "outputs": [
    {
     "data": {
      "text/html": [
       "<div>\n",
       "<style scoped>\n",
       "    .dataframe tbody tr th:only-of-type {\n",
       "        vertical-align: middle;\n",
       "    }\n",
       "\n",
       "    .dataframe tbody tr th {\n",
       "        vertical-align: top;\n",
       "    }\n",
       "\n",
       "    .dataframe thead th {\n",
       "        text-align: right;\n",
       "    }\n",
       "</style>\n",
       "<table border=\"1\" class=\"dataframe\">\n",
       "  <thead>\n",
       "    <tr style=\"text-align: right;\">\n",
       "      <th></th>\n",
       "      <th>Claim Number</th>\n",
       "      <th>Date Received</th>\n",
       "      <th>Incident Date</th>\n",
       "      <th>Airport Code</th>\n",
       "      <th>Airport Name</th>\n",
       "      <th>Airline Name</th>\n",
       "      <th>Claim Type</th>\n",
       "      <th>Claim Site</th>\n",
       "      <th>Item</th>\n",
       "      <th>Claim Amount</th>\n",
       "      <th>Status</th>\n",
       "      <th>Close Amount</th>\n",
       "      <th>Disposition</th>\n",
       "    </tr>\n",
       "  </thead>\n",
       "  <tbody>\n",
       "    <tr>\n",
       "      <th>count</th>\n",
       "      <td>204267</td>\n",
       "      <td>204004</td>\n",
       "      <td>202084</td>\n",
       "      <td>195743</td>\n",
       "      <td>195743</td>\n",
       "      <td>169893</td>\n",
       "      <td>196354</td>\n",
       "      <td>203527</td>\n",
       "      <td>200301</td>\n",
       "      <td>200224</td>\n",
       "      <td>204262</td>\n",
       "      <td>135315</td>\n",
       "      <td>131359</td>\n",
       "    </tr>\n",
       "    <tr>\n",
       "      <th>unique</th>\n",
       "      <td>204258</td>\n",
       "      <td>4007</td>\n",
       "      <td>26807</td>\n",
       "      <td>465</td>\n",
       "      <td>485</td>\n",
       "      <td>318</td>\n",
       "      <td>11</td>\n",
       "      <td>6</td>\n",
       "      <td>4704</td>\n",
       "      <td>36117</td>\n",
       "      <td>15</td>\n",
       "      <td>17162</td>\n",
       "      <td>3</td>\n",
       "    </tr>\n",
       "    <tr>\n",
       "      <th>top</th>\n",
       "      <td>2013121110011</td>\n",
       "      <td>5-Dec-03</td>\n",
       "      <td>12/27/2004 0:00</td>\n",
       "      <td>LAX</td>\n",
       "      <td>John F. Kennedy International</td>\n",
       "      <td>American Airlines</td>\n",
       "      <td>Passenger Property Loss</td>\n",
       "      <td>Checked Baggage</td>\n",
       "      <td>Other</td>\n",
       "      <td>$0.00</td>\n",
       "      <td>Denied</td>\n",
       "      <td>$0.00</td>\n",
       "      <td>Deny</td>\n",
       "    </tr>\n",
       "    <tr>\n",
       "      <th>freq</th>\n",
       "      <td>2</td>\n",
       "      <td>682</td>\n",
       "      <td>144</td>\n",
       "      <td>9596</td>\n",
       "      <td>9232</td>\n",
       "      <td>17553</td>\n",
       "      <td>117868</td>\n",
       "      <td>159753</td>\n",
       "      <td>36908</td>\n",
       "      <td>28445</td>\n",
       "      <td>68339</td>\n",
       "      <td>71546</td>\n",
       "      <td>68382</td>\n",
       "    </tr>\n",
       "  </tbody>\n",
       "</table>\n",
       "</div>"
      ],
      "text/plain": [
       "         Claim Number Date Received    Incident Date Airport Code  \\\n",
       "count          204267        204004           202084       195743   \n",
       "unique         204258          4007            26807          465   \n",
       "top     2013121110011      5-Dec-03  12/27/2004 0:00          LAX   \n",
       "freq                2           682              144         9596   \n",
       "\n",
       "                         Airport Name       Airline Name  \\\n",
       "count                          195743             169893   \n",
       "unique                            485                318   \n",
       "top     John F. Kennedy International  American Airlines   \n",
       "freq                             9232              17553   \n",
       "\n",
       "                     Claim Type       Claim Site    Item Claim Amount  Status  \\\n",
       "count                    196354           203527  200301       200224  204262   \n",
       "unique                       11                6    4704        36117      15   \n",
       "top     Passenger Property Loss  Checked Baggage   Other       $0.00   Denied   \n",
       "freq                     117868           159753   36908        28445   68339   \n",
       "\n",
       "       Close Amount Disposition  \n",
       "count        135315      131359  \n",
       "unique        17162           3  \n",
       "top          $0.00         Deny  \n",
       "freq          71546       68382  "
      ]
     },
     "execution_count": 5,
     "metadata": {},
     "output_type": "execute_result"
    }
   ],
   "source": [
    "# Melihat ringkasan statistik dari dataset\n",
    "\n",
    "df.describe()"
   ]
  },
  {
   "cell_type": "code",
   "execution_count": 6,
   "metadata": {},
   "outputs": [
    {
     "data": {
      "text/html": [
       "<div>\n",
       "<style scoped>\n",
       "    .dataframe tbody tr th:only-of-type {\n",
       "        vertical-align: middle;\n",
       "    }\n",
       "\n",
       "    .dataframe tbody tr th {\n",
       "        vertical-align: top;\n",
       "    }\n",
       "\n",
       "    .dataframe thead th {\n",
       "        text-align: right;\n",
       "    }\n",
       "</style>\n",
       "<table border=\"1\" class=\"dataframe\">\n",
       "  <thead>\n",
       "    <tr style=\"text-align: right;\">\n",
       "      <th></th>\n",
       "      <th>Column Name</th>\n",
       "      <th>Number of Unique</th>\n",
       "      <th>Unique Sample</th>\n",
       "    </tr>\n",
       "  </thead>\n",
       "  <tbody>\n",
       "    <tr>\n",
       "      <th>0</th>\n",
       "      <td>Claim Number</td>\n",
       "      <td>204258</td>\n",
       "      <td>[0909802M, 0202417M, 0202445M, 0909816M, 2005032379513, 2005032479636, 2007050124750, 12772, 14268, 2004102965797, 2005071188575, 2005070788431, 14460, 13334, 0616771L, 15242, 15324, 15361, 0616636L, 0714534M, 0616540L, 16410, 0616723L, 2004092763985, 16403, 0702564M, 16759, 0616777L, 15352, 14907, 17892, 17846, 17201, 2004050550501, 18170, 18202, 18193, 18222, 18171, 18274, 0616726L, 18315, 16961, 17666, 18141, 18301, 0909839M, 15542, 18065, 18109, 18098, 18101, 18394, 0616699L, 18438, 18620, 21003, 21021, 0616631L, 18221, 0616675L, 18804, 0616760L, 18917, 18919, 21134, 19009, 0616624L, 20887, 21013, 19029, 18966, 19133, 23663, 0616802L, 15769, 18181, 23623, 0702504M, 0714563M, 0616579L, 23284, 18386, 18908, 23278, 21111, 21254, 0714547M, 19239, 19039, 19078, 20938, 21052, 21053, 21054, 21253, 0616528L, 19229, 20937, 0616610L, ...]</td>\n",
       "    </tr>\n",
       "    <tr>\n",
       "      <th>1</th>\n",
       "      <td>Date Received</td>\n",
       "      <td>4007</td>\n",
       "      <td>[4-Jan-02, 2-Feb-02, 4-Feb-02, 7-Feb-02, 18-Feb-02, 30-Apr-02, 20-Jun-02, 25-Jun-02, 6-Jul-02, 7-Jul-02, 8-Jul-02, 12-Jul-02, 15-Jul-02, 18-Jul-02, 22-Jul-02, 24-Jul-02, 5-Aug-02, 8-Aug-02, 12-Aug-02, 19-Aug-02, 21-Aug-02, 9-Sep-02, 11-Sep-02, 16-Sep-02, 18-Sep-02, 19-Sep-02, 20-Sep-02, 23-Sep-02, 24-Sep-02, 25-Sep-02, 26-Sep-02, 27-Sep-02, 30-Sep-02, 2-Oct-02, 5-Oct-02, 7-Oct-02, 8-Oct-02, 9-Oct-02, 10-Oct-02, 11-Oct-02, 15-Oct-02, 17-Oct-02, 18-Oct-02, 19-Oct-02, 21-Oct-02, 22-Oct-02, 23-Oct-02, 25-Oct-02, 28-Oct-02, 29-Oct-02, 31-Oct-02, 1-Nov-02, 4-Nov-02, 5-Nov-02, 6-Nov-02, 7-Nov-02, 8-Nov-02, 9-Nov-02, 12-Nov-02, 13-Nov-02, 14-Nov-02, 15-Nov-02, 16-Nov-02, 18-Nov-02, 19-Nov-02, 20-Nov-02, 21-Nov-02, 22-Nov-02, 24-Nov-02, 25-Nov-02, 26-Nov-02, 27-Nov-02, 29-Nov-02, 2-Dec-02, 3-Dec-02, 4-Dec-02, 5-Dec-02, 6-Dec-02, 9-Dec-02, 10-Dec-02, 11-Dec-02, 12-Dec-02, 13-Dec-02, 16-Dec-02, 17-Dec-02, 18-Dec-02, 19-Dec-02, 20-Dec-02, 21-Dec-02, 23-Dec-02, 24-Dec-02, 26-Dec-02, 27-Dec-02, 30-Dec-02, 31-Dec-02, 2-Jan-03, 3-Jan-03, 5-Jan-03, 6-Jan-03, 7-Jan-03, ...]</td>\n",
       "    </tr>\n",
       "    <tr>\n",
       "      <th>2</th>\n",
       "      <td>Incident Date</td>\n",
       "      <td>26807</td>\n",
       "      <td>[12/12/2002 0:00, 1/16/2004 0:00, 11/26/2003 0:00, 1/6/2003 0:00, 2/5/2005 0:00, 2/17/2005 0:00, 4/26/2007 0:00, 5/9/2002 0:00, 6/16/2002 0:00, 5/4/2002 0:00, 6/23/2005 0:00, 6/17/2005 0:00, 6/12/2002 0:00, 6/4/2002 0:00, nan, 5/31/2002 0:00, 3/11/2002 0:00, 3/6/2002 0:00, 7/10/2002 0:00, 7/26/2002 0:00, 7/19/2002 0:00, 6/22/2002 0:00, 7/12/2002 0:00, 7/13/2002 0:00, 6/28/2002 0:00, 8/23/2002 0:00, 8/30/2002 0:00, 8/19/2002 0:00, 8/5/2002 0:00, 8/2/2002 0:00, 8/12/2002 0:00, 7/28/2002 0:00, 7/23/2002 0:00, 8/16/2002 0:00, 8/13/2002 0:00, 9/1/2002 0:00, 8/14/2002 0:00, 12/31/2002 0:00, 7/1/2002 0:00, 8/20/2002 0:00, 8/21/2002 0:00, 8/24/2002 0:00, 7/27/2002 0:00, 8/31/2002 0:00, 8/15/2002 0:00, 9/12/2002 0:00, 8/29/2002 0:00, 9/10/2002 0:00, 7/31/2002 0:00, 8/3/2002 0:00, 8/21/2003 0:00, 9/3/2002 0:00, 9/26/2002 0:00, 8/22/2002 0:00, 8/7/2002 0:00, 7/18/2002 0:00, 9/8/2002 0:00, 9/9/2002 0:00, 9/25/2002 0:00, 4/10/2002 0:00, 10/7/2002 0:00, 9/29/2002 0:00, 9/20/2002 0:00, 9/24/2002 0:00, 9/27/2002 0:00, 9/22/2002 0:00, 9/15/2002 0:00, 10/2/2002 0:00, 9/28/2002 0:00, 9/13/2002 0:00, 9/14/2002 0:00, 8/9/2002 0:00, 10/19/2002 0:00, 10/3/2002 0:00, 9/21/2002 0:00, 10/14/2002 0:00, 10/13/2002 0:00, 8/28/2002 0:00, 10/1/2002 0:00, 10/6/2002 0:00, 10/8/2002 0:00, 9/18/2002 0:00, 10/10/2002 0:00, 10/9/2002 0:00, 10/20/2002 0:00, 9/11/2002 0:00, 10/16/2002 0:00, 10/5/2002 0:00, 10/15/2002 0:00, 10/27/2002 0:00, 10/18/2002 0:00, 10/22/2002 0:00, 10/21/2002 0:00, 10/23/2002 0:00, 10/7/2004 0:00, 7/24/2002 0:00, 10/28/2002 0:00, 9/19/2002 0:00, 10/26/2002 0:00, 9/30/2002 0:00, ...]</td>\n",
       "    </tr>\n",
       "    <tr>\n",
       "      <th>3</th>\n",
       "      <td>Airport Code</td>\n",
       "      <td>465</td>\n",
       "      <td>[EWR, SEA, STL, MIA, MCO, CAK, PHL, BWI, PHX, ATL, ORD, CLT, nan, SDF, RDU, BOS, PVD, CMH, MDW, BDL, JFK, DCA, BHM, TPA, CLE, COS, HOU, TSA, SAT, SYR, MOB, LAX, LGA, PIT, OAK, BNA, SLC, PBI, SMF, DTW, ORF, DFW, PSP, OKC, SAN, TOL, MSP, DEN, LAS, IAH, CVG, SJC, FNT, RIC, ELP, MEM, ABE, RSW, RNO, HNL, IAD, ABQ, PDX, ROC, SNA, AUS, MKE, PWM, FLL, LGB, ITO, GPT, BUR, LEX, JAX, TUL, MSO, TUS, BUF, BTR, ONT, MSY, DAB, DSM, BGM, CHA, CHS, JNU, MHT, IND, GEG, OMA, ISP, TYS, HSV, FWA, MDT, CLL, ALB, BGR, ...]</td>\n",
       "    </tr>\n",
       "    <tr>\n",
       "      <th>4</th>\n",
       "      <td>Airport Name</td>\n",
       "      <td>485</td>\n",
       "      <td>[Newark International Airport, Seattle-Tacoma International, Lambert St. Louis International, Miami International Airport, Orlando International Airport, Akron-Canton Regional, Philadelphia International Airport, Baltimore/Washington Intl Thurgood Marshall, Phoenix Sky Harbor International, Hartsfield-Jackson Atlanta International Airport, Chicago O'Hare International Airport, Charlotte/Douglas International Airport, nan, Louisville International, Raleigh-Durham International, Boston (Logan) International Airport, TF Green Airport; Providence, Port Columbus International, Midway International Airport, Bradley International Airport, John F. Kennedy International, Ronald Reagan Washington National Airport, Birmingham International Airport, Tampa International, Cleveland Hopkins International, Colorado Springs Municipal, William P. Hobby, TSA - Non-Specified Airport, San Antonio International, Syracuse-Hancock International, Mobile Regional, Los Angeles International Airport, LaGuardia, Pittsburgh International Airport, Metropolitan Oakland International, Nashville International, Salt Lake City International Airport, Palm Beach International, Sacramento International Airport, Detroit Metropolitan Wayne County Airport, Norfolk International, Dallas-Fort Worth International Airport, Palm Springs International, Will Rogers World, San Diego International, Toledo Express, Minneapolis/ St.Paul International Airport, Denver International Airport, McCarran International, Houston - George Bush Intercontinental Airport, Cincinnati/Northern Kentucky International, Norman Y Mineta San Jose International, Bishop International; Flint, Richmond International, El Paso International Airport, Memphis International Airport, Lehigh Valley International Airport; Allentown, Southwest Florida International, Reno/Tahoe International, Honolulu International Airport, Washington Dulles International, Albuquerque International Sunport Airport, Portland International, Greater Rochester International, John Wayne, Austin-Bergstrom International Airport, General Mitchell International Airport, Portland International Jetport, Ft. Lauderdale-Hollywood International, Long Beach, Hilo International, Gulfport-Biloxi International, Bob Hope, Blue Grass ;Lexington, Jacksonville International, Tulsa International Airport, Missoula International, Tucson International, Buffalo Niagara International, Baton Rouge Metropolitan, Ontario International, New Orleans International, Daytona Beach International, Des Moines International, Greater Binghamton Airport, Chattanooga Metropolitan, Charleston International, Juneau International, Manchester Regional Airport, Indianapolis International, Spokane International, Eppley Airfield, Long Island McArthur; Islip, Mcghee Tyson ;Knoxville, Huntsville International Airport, Ft. Wayne Municipal- Baer Field, Harrisburg International, Easterwood/College Station; TX, Albany International, Bangor International Airport, ...]</td>\n",
       "    </tr>\n",
       "    <tr>\n",
       "      <th>5</th>\n",
       "      <td>Airline Name</td>\n",
       "      <td>318</td>\n",
       "      <td>[Continental Airlines, nan, American Airlines, Delta (Song), Air Tran Airlines(do not use), USAir, Southwest Airlines, AirTran Airlines, Northwest Airlines, Delta Air Lines, America West, UAL, Virgin Atlantic, Jet Blue, Alaska Airlines, Aloha Airlines, Tran Meridian Airlines, Spirit Airlines, Frontier Airlines, American West, Air Canada, British Airways, America Trans Air, Aero Mexico, Hawaiian Airlines, Lufthansa, Horizon Air, Lan Airlines, Midwest Express Airlines, Qantus Airways, Frontier Aviation Inc, Korean Airlines, Air Jamaica, KLM Royal Dutch Airlines, Alitalia, Air France, Aer Lingus, Austrian Airlines, Japan Airlines, Sun Country Airlines Inc, Comair Inc, ATA Aerocondor, Tower Air, Singapore Airlines, Mexicana, Swiss Air, Aero Flot, Air 2000 Ltd Great Britain, Skywest Airlines Inc USA, Allegiant Air, TWA, American Eagle, Southeast Airlines, Cape Air, Air New Zealand, Air Phillipines, USA 3000 (U5), Iceland Air, Scandinavian Airlines Systems, China Airlines, Midway Airlines, Continental Express Inc, OMNI Air Express- (OY), Malaysian Airline System, Sun Jet International Airlines Inc, Britannia Airways Ltd, Northwest International Airways Ltd, Turkish Airlines, Air Pacific, Indian Airlines, Pan American Airways Corp., Thai Airways, Pakistan International Airlines Cor, All Nippon Airways, Sunworld International Airlines Inc, Pace Airlines, Western Pacific Airlines Inc Westpac, Virgin Express, Commercial Airways, China Eastern Airlines, Reno Air, Aloha Islandair Inc, Kuwait Airways, Mountain West, US Express, Cayman Airlines, LOT Polish Airlines, Wiggins Airways, British Midland Airways Ltd, Skywest Airlines Australia, Saudi Arabian Airlines, Royal Wings Airlines, South African Airways, Aeroflot Russian International, Canadian Airlines, EL AL Israeli Airlines, Kuwait Airlines, Egypt Air, Czech Airlines, Avianca, ...]</td>\n",
       "    </tr>\n",
       "    <tr>\n",
       "      <th>6</th>\n",
       "      <td>Claim Type</td>\n",
       "      <td>11</td>\n",
       "      <td>[Property Damage, Passenger Property Loss, nan, Personal Injury, Motor Vehicle, Passenger Theft, Employee Loss (MPCECA), -, Wrongful Death, Bus Terminal, Complaint, Compliment]</td>\n",
       "    </tr>\n",
       "    <tr>\n",
       "      <th>7</th>\n",
       "      <td>Claim Site</td>\n",
       "      <td>6</td>\n",
       "      <td>[Checkpoint, Checked Baggage, Other, Motor Vehicle, nan, Bus Station, -]</td>\n",
       "    </tr>\n",
       "    <tr>\n",
       "      <th>8</th>\n",
       "      <td>Item</td>\n",
       "      <td>4704</td>\n",
       "      <td>[Other, Luggage (all types including footlockers), Cell Phones, Baby - Strollers; car seats; playpen; etc., Professional Equipment, Clothing - Shoes; belts; accessories; etc., Computer - Laptop, Jewelry - Fine, Eyeglasses - (including contact lenses), Photographic Film, Stereo Items &amp; Accessories, Currency, Cameras - Digital, nan, Cosmetics - Perfume; toilet articles; medicines; soaps; etc., Locks, PDA - Personal Data Assistants, Clothing - Shoes; belts; accessories; etc.; Locks, DVD/CD Players, Musical Instruments - Other - Over $250, Fish/Game, Clothing - Shoes; belts; accessories; etc.; Luggage (all types including footlockers); Luggage (all types including footlockers), Clothing - Shoes; belts; accessories; etc.; DVD/CD Players, Cameras - Digital; Clothing - Shoes; belts; accessories; etc.; Clothing - Shoes; belts; accessories; etc., Cameras - Digital; Jewelry - Fine, Medicines, Clothing - Shoes; belts; accessories; etc.; Cosmetics - Perfume; toilet articles; medicines; soaps; etc., Clothing - Shoes; belts; accessories; etc.; Other, Clothing - Shoes; belts; accessories; etc.; Luggage (all types including footlockers), Clothing - Shoes; belts; accessories; etc.; Clothing - Shoes; belts; accessories; etc.; Luggage (all types including footlockers), Currency; Jewelry - Fine, Jewelry - Fine; Other, Cameras - Digital; Cell Phones; Currency, Jewelry - Fine; Jewelry - Fine, Clothing - Shoes; belts; accessories; etc.; Jewelry - Fine, Jewelry - Fine; Locks, Cameras - Digital; Luggage (all types including footlockers), Clothing - Shoes; belts; accessories; etc.; Clothing - Shoes; belts; accessories; etc., Cosmetics - Perfume; toilet articles; medicines; soaps; etc.; Jewelry - Fine, Clothing - Shoes; belts; accessories; etc.; Cosmetics - Perfume; toilet articles; medicines; soaps; etc.; Jewelry - Fine, Cameras - Digital; Computer - Laptop, Cameras - Digital; Cell Phones; Eyeglasses - (including contact lenses); Stereo Items &amp; Accessories, Cosmetics - Perfume; toilet articles; medicines; soaps; etc.; Luggage (all types including footlockers), Cameras - Digital; Computer - Laptop; PDA - Personal Data Assistants, Cameras - Digital; Jewelry - Fine; Other; Watches - Expensive more than $100, Cameras - Digital; Computer - Laptop; Other; Other, Clothing - Shoes; belts; accessories; etc.; Jewelry - Fine; Other, DVD/CD Players; Jewelry - Fine, Clothing - Shoes; belts; accessories; etc.; Clothing - Shoes; belts; accessories; etc.; Cosmetics - Perfume; toilet articles; medicines; soaps; etc.; DVD/CD Players, Clothing - Shoes; belts; accessories; etc.; Cosmetics - Perfume; toilet articles; medicines; soaps; etc.; Luggage (all types including footlockers), Alcoholic beverages; Clothing - Shoes; belts; accessories; etc.; Luggage (all types including footlockers), Automobile Parts, Cameras - Digital; Cell Phones; DVD/CD Players; Jewelry - Fine, Cameras - Digital; Cameras - Digital; Cell Phones, Cell Phones; Other, Cameras - Digital; Stereo Items &amp; Accessories, Eyeglasses - (including contact lenses); Jewelry - Fine; Locks, Cameras - Digital; Clothing - Shoes; belts; accessories; etc., Eyeglasses - (including contact lenses); Jewelry - Fine, Cell Phones; Clothing - Shoes; belts; accessories; etc.; Luggage (all types including footlockers), Clothing - Shoes; belts; accessories; etc.; Currency, Cell Phones; Clothing - Shoes; belts; accessories; etc., DVD/CD Players; Medicines, Cosmetics - Perfume; toilet articles; medicines; soaps; etc.; Jewelry - Fine; Luggage (all types including footlockers), Clothing - Shoes; belts; accessories; etc.; Cosmetics - Perfume; toilet articles; medicines; soaps; etc.; Medicines, Cameras - Digital; Cell Phones; Photographic Film, Clothing - Shoes; belts; accessories; etc.; DVD/CD Players; Luggage (all types including footlockers), Computer - Laptop; PDA - Personal Data Assistants, Other; Other, Clothing - Shoes; belts; accessories; etc.; PDA - Personal Data Assistants, Clothing - Shoes; belts; accessories; etc.; Medicines; Medicines, Clothing - Shoes; belts; accessories; etc.; Computer - Laptop; Cosmetics - Perfume; toilet articles; medicines; soaps; etc.; Medicines, Cameras - Digital; Cameras - Digital; Clothing - Shoes; belts; accessories; etc.; Stereo Items &amp; Accessories, Luggage (all types including footlockers); Medicines, Clothing - Shoes; belts; accessories; etc.; Cosmetics - Perfume; toilet articles; medicines; soaps; etc.; Jewelry - Fine; Medicines, Computer - Laptop; Other, Cameras - Digital; Clothing - Shoes; belts; accessories; etc.; Locks, Luggage (all types including footlockers); Other, Cell Phones; PDA - Personal Data Assistants, Currency; Other, Clothing - Shoes; belts; accessories; etc.; Clothing - Shoes; belts; accessories; etc.; Jewelry - Fine; Other, Clothing - Shoes; belts; accessories; etc.; Cosmetics - Perfume; toilet articles; medicines; soaps; etc.; Other, Eyeglasses - (including contact lenses); Medicines, DVD/CD Players; Locks; Luggage (all types including footlockers); Luggage (all types including footlockers), Cameras - Digital; Clothing - Shoes; belts; accessories; etc.; Luggage (all types including footlockers); Photographic Film, Eyeglasses - (including contact lenses); Other, Cameras - Digital; DVD/CD Players; Other, Cameras - Digital; Cosmetics - Perfume; toilet articles; medicines; soaps; etc., Locks; Luggage (all types including footlockers); Other, Clothing - Shoes; belts; accessories; etc.; Eyeglasses - (including contact lenses), Clothing - Shoes; belts; accessories; etc.; Clothing - Shoes; belts; accessories; etc.; Jewelry - Fine, Clothing - Shoes; belts; accessories; etc.; DVD/CD Players; Jewelry - Fine; Other, Cameras - Digital; Clothing - Shoes; belts; accessories; etc.; Eyeglasses - (including contact lenses); Locks, Locks; Luggage (all types including footlockers), Medicines; Other, Watches - Expensive more than $100, Cosmetics - Perfume; toilet articles; medicines; soaps; etc.; Luggage (all types including footlockers); Other, Cosmetics - Perfume; toilet articles; medicines; soaps; etc.; Locks; Medicines, Clothing - Shoes; belts; accessories; etc.; Luggage (all types including footlockers); Other, Cell Phones; Other; Stereo Items &amp; Accessories, ...]</td>\n",
       "    </tr>\n",
       "    <tr>\n",
       "      <th>9</th>\n",
       "      <td>Claim Amount</td>\n",
       "      <td>36117</td>\n",
       "      <td>[$350.00 , $100.00 , $278.88 , $50.00 , $84.79 , $459.01 , $106.52 , $75.00 , $2;270.09 , $4;457.29 , $79.95 , $43.49 , $16.71 , $450.00 , nan, $200.00 , $110;000.00 , $68.00 , $600.00 , $160.00 , $380.00 , $354.93 , $21.44 , $40.00 , $275.00 , $30.00 , $1;832.22 , $250.00 , $1;200.00 , $678.00 , $428.21 , $176.59 , $1;000.00 , $45.00 , $175.00 , $1;500.00 , $213.00 , $249.00 , $85.00 , $750.00 , $150.00 , $300.00 , $299.98 , $250;000.00 , $50;000.00 , $26.00 , $20.00 , $65.00 , $199.00 , $379.90 , $128.05 , $27.45 , $5;000.00 , $520.00 , $3;250.04 , $2;000.00 , $700.00 , $185.00 , $75.30 , $342.36 , $70.03 , $3;080.69 , $210.00 , $109.99 , $58.17 , $60.00 , $499.00 , $95.00 , $382.99 , $289.00 , $25.00 , $225.00 , $400.00 , $169.00 , $337.83 , $10.00 , $2.50 , $120.00 , $260.00 , $1;801.99 , $24.95 , $263.00 , $208.16 , $165.00 , $1;777.00 , $492.00 , $598.00 , $7;500.00 , $97.00 , $180.00 , $500.00 , $112.00 , $420.00 , $249.99 , $80.00 , $764.97 , $117.94 , $71.00 , $129.00 , $73.83 , ...]</td>\n",
       "    </tr>\n",
       "    <tr>\n",
       "      <th>10</th>\n",
       "      <td>Status</td>\n",
       "      <td>15</td>\n",
       "      <td>[Approved, Settled, Canceled, Denied, Insufficient; one of the following items required: sum certain; statement of fact; signature; location of incident; and date., In litigation, Closed as a contractor claim, In review, Claim entered, nan, Claim has been assigned for further investigation, Pending response from claimant, Deny, -, Settle, Approve in Full]</td>\n",
       "    </tr>\n",
       "    <tr>\n",
       "      <th>11</th>\n",
       "      <td>Close Amount</td>\n",
       "      <td>17162</td>\n",
       "      <td>[$350.00 , $50.00 , $227.92 , $84.79 , $227.00 , $106.52 , $75.00 , nan, $79.95 , $43.49 , $17.00 , $0.00 , $337.40 , $149.08 , $301.69 , $21.00 , $275.00 , $30.00 , $40.00 , $678.00 , $207.99 , $171.99 , $801.90 , $53.38 , $74.55 , $225.00 , $210.00 , $26.00 , $20.00 , $65.00 , $364.07 , $457.80 , $3;250.00 , $100.00 , $700.00 , $144.00 , $237.00 , $70.00 , $3;080.69 , $58.00 , $60.00 , $499.00 , $95.00 , $382.99 , $231.00 , $600.00 , $25.00 , $293.84 , $234.70 , $1;000.00 , $10.00 , $291.67 , $150.00 , $82.90 , $120.00 , $270.00 , $263.00 , $208.00 , $202.50 , $250.00 , $165.00 , $1;777.00 , $492.00 , $35.00 , $112.00 , $420.00 , $200.00 , $162.00 , $80.00 , $726.74 , $71.00 , $450.00 , $197.00 , $74.00 , $280.00 , $52.50 , $1;470.69 , $167.00 , $244.00 , $204.00 , $27.50 , $78.80 , $1;760.00 , $500.00 , $2;342.00 , $37.00 , $49.00 , $229.00 , $775.16 , $742.25 , $435.00 , $45.00 , $15.00 , $223.00 , $569.50 , $116.06 , $782.65 , $75.91 , $332.50 , $31.00 , ...]</td>\n",
       "    </tr>\n",
       "    <tr>\n",
       "      <th>12</th>\n",
       "      <td>Disposition</td>\n",
       "      <td>3</td>\n",
       "      <td>[Approve in Full, Settle, nan, Deny]</td>\n",
       "    </tr>\n",
       "  </tbody>\n",
       "</table>\n",
       "</div>"
      ],
      "text/plain": [
       "      Column Name  Number of Unique  \\\n",
       "0    Claim Number            204258   \n",
       "1   Date Received              4007   \n",
       "2   Incident Date             26807   \n",
       "3    Airport Code               465   \n",
       "4    Airport Name               485   \n",
       "5    Airline Name               318   \n",
       "6      Claim Type                11   \n",
       "7      Claim Site                 6   \n",
       "8            Item              4704   \n",
       "9    Claim Amount             36117   \n",
       "10         Status                15   \n",
       "11   Close Amount             17162   \n",
       "12    Disposition                 3   \n",
       "\n",
       "                                                                                                                                                                                                                                                                                                                                                                                                                                                                                                                                                                                                                                                                                                                                                                                                                                                                                                                                                                                                                                                                                                                                                                                                                                                                                                                                                                                                                                                                                                                                                                                                                                                                                                                                                                                                                                                                                                                                                                                                                                                                                                                                                                                                                                                                                                                                                                                                                                                                                                                                                                                                                                                                                                                                                                                                                                                                                                                                                                                                                                                                                                                                                                                                                                                                                                                                                                                                                                                                                                                                                                                                                                                                                                                                                                                                                                                                                                                                                                                                                                                                                                                                                                                                                                                                                                                                                                                                                                                                                                                                                                                                                                                                                                                                                                                                                                                                                                                                                                                                                                                                                                                                                                                                                                                                                                                                                                                                                                                                                                                                                                                                                                                                                                                                                                                                                                                                                                                                                                                                                                                                                                                                                                                                                                                                                                                                                                                                                                                                 Unique Sample  \n",
       "0                                                                                                                                                                                                                                                                                                                                                                                                                                                                                                                                                                                                                                                                                                                                                                                                                                                                                                                                                                                                                                                                                                                                                                                                                                                                                                                                                                                                                                                                                                                                                                                                                                                                                                                                                                                                                                                                                                                                                                                                                                                                                                                                                                                                                                                                                                                                                                                                                                                                                                                                                                                                                                                                                                                                                                                                                                                                                                                                                                                                                                                                                                                                                                                                                                                                                                                                                                                                                                                                                                                                                                                                                                                                                                                                                                                                                                                                                                                                                                                                                                                                                                                                                                                                                                                                                                                                                                                                                                                                                                                                                                                                                                                                                                                                                                                                                                                                                                                                                                                                                                                                                                                                                                                                                                                                                                                                                                                                                                                                                                                                                                                                 [0909802M, 0202417M, 0202445M, 0909816M, 2005032379513, 2005032479636, 2007050124750, 12772, 14268, 2004102965797, 2005071188575, 2005070788431, 14460, 13334, 0616771L, 15242, 15324, 15361, 0616636L, 0714534M, 0616540L, 16410, 0616723L, 2004092763985, 16403, 0702564M, 16759, 0616777L, 15352, 14907, 17892, 17846, 17201, 2004050550501, 18170, 18202, 18193, 18222, 18171, 18274, 0616726L, 18315, 16961, 17666, 18141, 18301, 0909839M, 15542, 18065, 18109, 18098, 18101, 18394, 0616699L, 18438, 18620, 21003, 21021, 0616631L, 18221, 0616675L, 18804, 0616760L, 18917, 18919, 21134, 19009, 0616624L, 20887, 21013, 19029, 18966, 19133, 23663, 0616802L, 15769, 18181, 23623, 0702504M, 0714563M, 0616579L, 23284, 18386, 18908, 23278, 21111, 21254, 0714547M, 19239, 19039, 19078, 20938, 21052, 21053, 21054, 21253, 0616528L, 19229, 20937, 0616610L, ...]  \n",
       "1                                                                                                                                                                                                                                                                                                                                                                                                                                                                                                                                                                                                                                                                                                                                                                                                                                                                                                                                                                                                                                                                                                                                                                                                                                                                                                                                                                                                                                                                                                                                                                                                                                                                                                                                                                                                                                                                                                                                                                                                                                                                                                                                                                                                                                                                                                                                                                                                                                                                                                                                                                                                                                                                                                                                                                                                                                                                                                                                                                                                                                                                                                                                                                                                                                                                                                                                                                                                                                                                                                                                                                                                                                                                                                                                                                                                                                                                                                                                                                                                                                                                                                                                                                                                                                                                                                                                                                                                                                                                                                                                                                                                                                                                                                                                                                                                                                                                                                                                                                                                                                                                                                                                                                                                                                                                                                                                                             [4-Jan-02, 2-Feb-02, 4-Feb-02, 7-Feb-02, 18-Feb-02, 30-Apr-02, 20-Jun-02, 25-Jun-02, 6-Jul-02, 7-Jul-02, 8-Jul-02, 12-Jul-02, 15-Jul-02, 18-Jul-02, 22-Jul-02, 24-Jul-02, 5-Aug-02, 8-Aug-02, 12-Aug-02, 19-Aug-02, 21-Aug-02, 9-Sep-02, 11-Sep-02, 16-Sep-02, 18-Sep-02, 19-Sep-02, 20-Sep-02, 23-Sep-02, 24-Sep-02, 25-Sep-02, 26-Sep-02, 27-Sep-02, 30-Sep-02, 2-Oct-02, 5-Oct-02, 7-Oct-02, 8-Oct-02, 9-Oct-02, 10-Oct-02, 11-Oct-02, 15-Oct-02, 17-Oct-02, 18-Oct-02, 19-Oct-02, 21-Oct-02, 22-Oct-02, 23-Oct-02, 25-Oct-02, 28-Oct-02, 29-Oct-02, 31-Oct-02, 1-Nov-02, 4-Nov-02, 5-Nov-02, 6-Nov-02, 7-Nov-02, 8-Nov-02, 9-Nov-02, 12-Nov-02, 13-Nov-02, 14-Nov-02, 15-Nov-02, 16-Nov-02, 18-Nov-02, 19-Nov-02, 20-Nov-02, 21-Nov-02, 22-Nov-02, 24-Nov-02, 25-Nov-02, 26-Nov-02, 27-Nov-02, 29-Nov-02, 2-Dec-02, 3-Dec-02, 4-Dec-02, 5-Dec-02, 6-Dec-02, 9-Dec-02, 10-Dec-02, 11-Dec-02, 12-Dec-02, 13-Dec-02, 16-Dec-02, 17-Dec-02, 18-Dec-02, 19-Dec-02, 20-Dec-02, 21-Dec-02, 23-Dec-02, 24-Dec-02, 26-Dec-02, 27-Dec-02, 30-Dec-02, 31-Dec-02, 2-Jan-03, 3-Jan-03, 5-Jan-03, 6-Jan-03, 7-Jan-03, ...]  \n",
       "2                                                                                                                                                                                                                                                                                                                                                                                                                                                                                                                                                                                                                                                                                                                                                                                                                                                                                                                                                                                                                                                                                                                                                                                                                                                                                                                                                                                                                                                                                                                                                                                                                                                                                                                                                                                                                                                                                                                                                                                                                                                                                                                                                                                                                                                                                                                                                                                                                                                                                                                                                                                                                                                                                                                                                                                                                                                                                                                                                                                                                                                                                                                                                                                                                                                                                                                                                                                                                                                                                                                                                                                                                                                                                                                                                                                                                                                                                                                                                                                                                                                                                                                                                                                                                                                                                                                                                                                                                                                                                                                                                                                                                                                                                                                                                                                                                  [12/12/2002 0:00, 1/16/2004 0:00, 11/26/2003 0:00, 1/6/2003 0:00, 2/5/2005 0:00, 2/17/2005 0:00, 4/26/2007 0:00, 5/9/2002 0:00, 6/16/2002 0:00, 5/4/2002 0:00, 6/23/2005 0:00, 6/17/2005 0:00, 6/12/2002 0:00, 6/4/2002 0:00, nan, 5/31/2002 0:00, 3/11/2002 0:00, 3/6/2002 0:00, 7/10/2002 0:00, 7/26/2002 0:00, 7/19/2002 0:00, 6/22/2002 0:00, 7/12/2002 0:00, 7/13/2002 0:00, 6/28/2002 0:00, 8/23/2002 0:00, 8/30/2002 0:00, 8/19/2002 0:00, 8/5/2002 0:00, 8/2/2002 0:00, 8/12/2002 0:00, 7/28/2002 0:00, 7/23/2002 0:00, 8/16/2002 0:00, 8/13/2002 0:00, 9/1/2002 0:00, 8/14/2002 0:00, 12/31/2002 0:00, 7/1/2002 0:00, 8/20/2002 0:00, 8/21/2002 0:00, 8/24/2002 0:00, 7/27/2002 0:00, 8/31/2002 0:00, 8/15/2002 0:00, 9/12/2002 0:00, 8/29/2002 0:00, 9/10/2002 0:00, 7/31/2002 0:00, 8/3/2002 0:00, 8/21/2003 0:00, 9/3/2002 0:00, 9/26/2002 0:00, 8/22/2002 0:00, 8/7/2002 0:00, 7/18/2002 0:00, 9/8/2002 0:00, 9/9/2002 0:00, 9/25/2002 0:00, 4/10/2002 0:00, 10/7/2002 0:00, 9/29/2002 0:00, 9/20/2002 0:00, 9/24/2002 0:00, 9/27/2002 0:00, 9/22/2002 0:00, 9/15/2002 0:00, 10/2/2002 0:00, 9/28/2002 0:00, 9/13/2002 0:00, 9/14/2002 0:00, 8/9/2002 0:00, 10/19/2002 0:00, 10/3/2002 0:00, 9/21/2002 0:00, 10/14/2002 0:00, 10/13/2002 0:00, 8/28/2002 0:00, 10/1/2002 0:00, 10/6/2002 0:00, 10/8/2002 0:00, 9/18/2002 0:00, 10/10/2002 0:00, 10/9/2002 0:00, 10/20/2002 0:00, 9/11/2002 0:00, 10/16/2002 0:00, 10/5/2002 0:00, 10/15/2002 0:00, 10/27/2002 0:00, 10/18/2002 0:00, 10/22/2002 0:00, 10/21/2002 0:00, 10/23/2002 0:00, 10/7/2004 0:00, 7/24/2002 0:00, 10/28/2002 0:00, 9/19/2002 0:00, 10/26/2002 0:00, 9/30/2002 0:00, ...]  \n",
       "3                                                                                                                                                                                                                                                                                                                                                                                                                                                                                                                                                                                                                                                                                                                                                                                                                                                                                                                                                                                                                                                                                                                                                                                                                                                                                                                                                                                                                                                                                                                                                                                                                                                                                                                                                                                                                                                                                                                                                                                                                                                                                                                                                                                                                                                                                                                                                                                                                                                                                                                                                                                                                                                                                                                                                                                                                                                                                                                                                                                                                                                                                                                                                                                                                                                                                                                                                                                                                                                                                                                                                                                                                                                                                                                                                                                                                                                                                                                                                                                                                                                                                                                                                                                                                                                                                                                                                                                                                                                                                                                                                                                                                                                                                                                                                                                                                                                                                                                                                                                                                                                                                                                                                                                                                                                                                                                                                                                                                                                                                                                                                                                                                                                                                                                                                                                                                                                                                                                                                    [EWR, SEA, STL, MIA, MCO, CAK, PHL, BWI, PHX, ATL, ORD, CLT, nan, SDF, RDU, BOS, PVD, CMH, MDW, BDL, JFK, DCA, BHM, TPA, CLE, COS, HOU, TSA, SAT, SYR, MOB, LAX, LGA, PIT, OAK, BNA, SLC, PBI, SMF, DTW, ORF, DFW, PSP, OKC, SAN, TOL, MSP, DEN, LAS, IAH, CVG, SJC, FNT, RIC, ELP, MEM, ABE, RSW, RNO, HNL, IAD, ABQ, PDX, ROC, SNA, AUS, MKE, PWM, FLL, LGB, ITO, GPT, BUR, LEX, JAX, TUL, MSO, TUS, BUF, BTR, ONT, MSY, DAB, DSM, BGM, CHA, CHS, JNU, MHT, IND, GEG, OMA, ISP, TYS, HSV, FWA, MDT, CLL, ALB, BGR, ...]  \n",
       "4                                                                                                                                                                                                                                                                                                                                                                                                                                                                                                                                                                                                                                                                                                                                                                                                                                                                                                                                                                                                                                                                                                                                                                                                                                                                                                                                                                                                                                                                                                                                                                                                                                                                                                                                                                                                                                                                                                                                                                                                                                                                                                                                                                                                                                                                                                                                                                                                                                                                                                                                                                                                                                                                                                                                                                                                                                                                                                                                                                                                                                                                                                                                                                                                                                                                                                                                                                                          [Newark International Airport, Seattle-Tacoma International, Lambert St. Louis International, Miami International Airport, Orlando International Airport, Akron-Canton Regional, Philadelphia International Airport, Baltimore/Washington Intl Thurgood Marshall, Phoenix Sky Harbor International, Hartsfield-Jackson Atlanta International Airport, Chicago O'Hare International Airport, Charlotte/Douglas International Airport, nan, Louisville International, Raleigh-Durham International, Boston (Logan) International Airport, TF Green Airport; Providence, Port Columbus International, Midway International Airport, Bradley International Airport, John F. Kennedy International, Ronald Reagan Washington National Airport, Birmingham International Airport, Tampa International, Cleveland Hopkins International, Colorado Springs Municipal, William P. Hobby, TSA - Non-Specified Airport, San Antonio International, Syracuse-Hancock International, Mobile Regional, Los Angeles International Airport, LaGuardia, Pittsburgh International Airport, Metropolitan Oakland International, Nashville International, Salt Lake City International Airport, Palm Beach International, Sacramento International Airport, Detroit Metropolitan Wayne County Airport, Norfolk International, Dallas-Fort Worth International Airport, Palm Springs International, Will Rogers World, San Diego International, Toledo Express, Minneapolis/ St.Paul International Airport, Denver International Airport, McCarran International, Houston - George Bush Intercontinental Airport, Cincinnati/Northern Kentucky International, Norman Y Mineta San Jose International, Bishop International; Flint, Richmond International, El Paso International Airport, Memphis International Airport, Lehigh Valley International Airport; Allentown, Southwest Florida International, Reno/Tahoe International, Honolulu International Airport, Washington Dulles International, Albuquerque International Sunport Airport, Portland International, Greater Rochester International, John Wayne, Austin-Bergstrom International Airport, General Mitchell International Airport, Portland International Jetport, Ft. Lauderdale-Hollywood International, Long Beach, Hilo International, Gulfport-Biloxi International, Bob Hope, Blue Grass ;Lexington, Jacksonville International, Tulsa International Airport, Missoula International, Tucson International, Buffalo Niagara International, Baton Rouge Metropolitan, Ontario International, New Orleans International, Daytona Beach International, Des Moines International, Greater Binghamton Airport, Chattanooga Metropolitan, Charleston International, Juneau International, Manchester Regional Airport, Indianapolis International, Spokane International, Eppley Airfield, Long Island McArthur; Islip, Mcghee Tyson ;Knoxville, Huntsville International Airport, Ft. Wayne Municipal- Baer Field, Harrisburg International, Easterwood/College Station; TX, Albany International, Bangor International Airport, ...]  \n",
       "5                                                                                                                                                                                                                                                                                                                                                                                                                                                                                                                                                                                                                                                                                                                                                                                                                                                                                                                                                                                                                                                                                                                                                                                                                                                                                                                                                                                                                                                                                                                                                                                                                                                                                                                                                                                                                                                                                                                                                                                                                                                                                                                                                                                                                                                                                                                                                                                                                                                                                                                                                                                                                                                                                                                                                                                                                                                                                                                                                                                                                                                                                                                                                                                                                                                                                                                                                                                                                                                                                                                                                                                                                                                                                                                                                                                                                                                                                                                                                                                                                                                                                                                                                                                                                                                                                                                                                                                                                                                                                                                                               [Continental Airlines, nan, American Airlines, Delta (Song), Air Tran Airlines(do not use), USAir, Southwest Airlines, AirTran Airlines, Northwest Airlines, Delta Air Lines, America West, UAL, Virgin Atlantic, Jet Blue, Alaska Airlines, Aloha Airlines, Tran Meridian Airlines, Spirit Airlines, Frontier Airlines, American West, Air Canada, British Airways, America Trans Air, Aero Mexico, Hawaiian Airlines, Lufthansa, Horizon Air, Lan Airlines, Midwest Express Airlines, Qantus Airways, Frontier Aviation Inc, Korean Airlines, Air Jamaica, KLM Royal Dutch Airlines, Alitalia, Air France, Aer Lingus, Austrian Airlines, Japan Airlines, Sun Country Airlines Inc, Comair Inc, ATA Aerocondor, Tower Air, Singapore Airlines, Mexicana, Swiss Air, Aero Flot, Air 2000 Ltd Great Britain, Skywest Airlines Inc USA, Allegiant Air, TWA, American Eagle, Southeast Airlines, Cape Air, Air New Zealand, Air Phillipines, USA 3000 (U5), Iceland Air, Scandinavian Airlines Systems, China Airlines, Midway Airlines, Continental Express Inc, OMNI Air Express- (OY), Malaysian Airline System, Sun Jet International Airlines Inc, Britannia Airways Ltd, Northwest International Airways Ltd, Turkish Airlines, Air Pacific, Indian Airlines, Pan American Airways Corp., Thai Airways, Pakistan International Airlines Cor, All Nippon Airways, Sunworld International Airlines Inc, Pace Airlines, Western Pacific Airlines Inc Westpac, Virgin Express, Commercial Airways, China Eastern Airlines, Reno Air, Aloha Islandair Inc, Kuwait Airways, Mountain West, US Express, Cayman Airlines, LOT Polish Airlines, Wiggins Airways, British Midland Airways Ltd, Skywest Airlines Australia, Saudi Arabian Airlines, Royal Wings Airlines, South African Airways, Aeroflot Russian International, Canadian Airlines, EL AL Israeli Airlines, Kuwait Airlines, Egypt Air, Czech Airlines, Avianca, ...]  \n",
       "6                                                                                                                                                                                                                                                                                                                                                                                                                                                                                                                                                                                                                                                                                                                                                                                                                                                                                                                                                                                                                                                                                                                                                                                                                                                                                                                                                                                                                                                                                                                                                                                                                                                                                                                                                                                                                                                                                                                                                                                                                                                                                                                                                                                                                                                                                                                                                                                                                                                                                                                                                                                                                                                                                                                                                                                                                                                                                                                                                                                                                                                                                                                                                                                                                                                                                                                                                                                                                                                                                                                                                                                                                                                                                                                                                                                                                                                                                                                                                                                                                                                                                                                                                                                                                                                                                                                                                                                                                                                                                                                                                                                                                                                                                                                                                                                                                                                                                                                                                                                                                                                                                                                                                                                                                                                                                                                                                                                                                                                                                                                                                                                                                                                                                                                                                                                                                                                                                                                                                                                                                                                                                                                                                                                                                                                                                             [Property Damage, Passenger Property Loss, nan, Personal Injury, Motor Vehicle, Passenger Theft, Employee Loss (MPCECA), -, Wrongful Death, Bus Terminal, Complaint, Compliment]  \n",
       "7                                                                                                                                                                                                                                                                                                                                                                                                                                                                                                                                                                                                                                                                                                                                                                                                                                                                                                                                                                                                                                                                                                                                                                                                                                                                                                                                                                                                                                                                                                                                                                                                                                                                                                                                                                                                                                                                                                                                                                                                                                                                                                                                                                                                                                                                                                                                                                                                                                                                                                                                                                                                                                                                                                                                                                                                                                                                                                                                                                                                                                                                                                                                                                                                                                                                                                                                                                                                                                                                                                                                                                                                                                                                                                                                                                                                                                                                                                                                                                                                                                                                                                                                                                                                                                                                                                                                                                                                                                                                                                                                                                                                                                                                                                                                                                                                                                                                                                                                                                                                                                                                                                                                                                                                                                                                                                                                                                                                                                                                                                                                                                                                                                                                                                                                                                                                                                                                                                                                                                                                                                                                                                                                                                                                                                                                                                                                                                                                     [Checkpoint, Checked Baggage, Other, Motor Vehicle, nan, Bus Station, -]  \n",
       "8   [Other, Luggage (all types including footlockers), Cell Phones, Baby - Strollers; car seats; playpen; etc., Professional Equipment, Clothing - Shoes; belts; accessories; etc., Computer - Laptop, Jewelry - Fine, Eyeglasses - (including contact lenses), Photographic Film, Stereo Items & Accessories, Currency, Cameras - Digital, nan, Cosmetics - Perfume; toilet articles; medicines; soaps; etc., Locks, PDA - Personal Data Assistants, Clothing - Shoes; belts; accessories; etc.; Locks, DVD/CD Players, Musical Instruments - Other - Over $250, Fish/Game, Clothing - Shoes; belts; accessories; etc.; Luggage (all types including footlockers); Luggage (all types including footlockers), Clothing - Shoes; belts; accessories; etc.; DVD/CD Players, Cameras - Digital; Clothing - Shoes; belts; accessories; etc.; Clothing - Shoes; belts; accessories; etc., Cameras - Digital; Jewelry - Fine, Medicines, Clothing - Shoes; belts; accessories; etc.; Cosmetics - Perfume; toilet articles; medicines; soaps; etc., Clothing - Shoes; belts; accessories; etc.; Other, Clothing - Shoes; belts; accessories; etc.; Luggage (all types including footlockers), Clothing - Shoes; belts; accessories; etc.; Clothing - Shoes; belts; accessories; etc.; Luggage (all types including footlockers), Currency; Jewelry - Fine, Jewelry - Fine; Other, Cameras - Digital; Cell Phones; Currency, Jewelry - Fine; Jewelry - Fine, Clothing - Shoes; belts; accessories; etc.; Jewelry - Fine, Jewelry - Fine; Locks, Cameras - Digital; Luggage (all types including footlockers), Clothing - Shoes; belts; accessories; etc.; Clothing - Shoes; belts; accessories; etc., Cosmetics - Perfume; toilet articles; medicines; soaps; etc.; Jewelry - Fine, Clothing - Shoes; belts; accessories; etc.; Cosmetics - Perfume; toilet articles; medicines; soaps; etc.; Jewelry - Fine, Cameras - Digital; Computer - Laptop, Cameras - Digital; Cell Phones; Eyeglasses - (including contact lenses); Stereo Items & Accessories, Cosmetics - Perfume; toilet articles; medicines; soaps; etc.; Luggage (all types including footlockers), Cameras - Digital; Computer - Laptop; PDA - Personal Data Assistants, Cameras - Digital; Jewelry - Fine; Other; Watches - Expensive more than $100, Cameras - Digital; Computer - Laptop; Other; Other, Clothing - Shoes; belts; accessories; etc.; Jewelry - Fine; Other, DVD/CD Players; Jewelry - Fine, Clothing - Shoes; belts; accessories; etc.; Clothing - Shoes; belts; accessories; etc.; Cosmetics - Perfume; toilet articles; medicines; soaps; etc.; DVD/CD Players, Clothing - Shoes; belts; accessories; etc.; Cosmetics - Perfume; toilet articles; medicines; soaps; etc.; Luggage (all types including footlockers), Alcoholic beverages; Clothing - Shoes; belts; accessories; etc.; Luggage (all types including footlockers), Automobile Parts, Cameras - Digital; Cell Phones; DVD/CD Players; Jewelry - Fine, Cameras - Digital; Cameras - Digital; Cell Phones, Cell Phones; Other, Cameras - Digital; Stereo Items & Accessories, Eyeglasses - (including contact lenses); Jewelry - Fine; Locks, Cameras - Digital; Clothing - Shoes; belts; accessories; etc., Eyeglasses - (including contact lenses); Jewelry - Fine, Cell Phones; Clothing - Shoes; belts; accessories; etc.; Luggage (all types including footlockers), Clothing - Shoes; belts; accessories; etc.; Currency, Cell Phones; Clothing - Shoes; belts; accessories; etc., DVD/CD Players; Medicines, Cosmetics - Perfume; toilet articles; medicines; soaps; etc.; Jewelry - Fine; Luggage (all types including footlockers), Clothing - Shoes; belts; accessories; etc.; Cosmetics - Perfume; toilet articles; medicines; soaps; etc.; Medicines, Cameras - Digital; Cell Phones; Photographic Film, Clothing - Shoes; belts; accessories; etc.; DVD/CD Players; Luggage (all types including footlockers), Computer - Laptop; PDA - Personal Data Assistants, Other; Other, Clothing - Shoes; belts; accessories; etc.; PDA - Personal Data Assistants, Clothing - Shoes; belts; accessories; etc.; Medicines; Medicines, Clothing - Shoes; belts; accessories; etc.; Computer - Laptop; Cosmetics - Perfume; toilet articles; medicines; soaps; etc.; Medicines, Cameras - Digital; Cameras - Digital; Clothing - Shoes; belts; accessories; etc.; Stereo Items & Accessories, Luggage (all types including footlockers); Medicines, Clothing - Shoes; belts; accessories; etc.; Cosmetics - Perfume; toilet articles; medicines; soaps; etc.; Jewelry - Fine; Medicines, Computer - Laptop; Other, Cameras - Digital; Clothing - Shoes; belts; accessories; etc.; Locks, Luggage (all types including footlockers); Other, Cell Phones; PDA - Personal Data Assistants, Currency; Other, Clothing - Shoes; belts; accessories; etc.; Clothing - Shoes; belts; accessories; etc.; Jewelry - Fine; Other, Clothing - Shoes; belts; accessories; etc.; Cosmetics - Perfume; toilet articles; medicines; soaps; etc.; Other, Eyeglasses - (including contact lenses); Medicines, DVD/CD Players; Locks; Luggage (all types including footlockers); Luggage (all types including footlockers), Cameras - Digital; Clothing - Shoes; belts; accessories; etc.; Luggage (all types including footlockers); Photographic Film, Eyeglasses - (including contact lenses); Other, Cameras - Digital; DVD/CD Players; Other, Cameras - Digital; Cosmetics - Perfume; toilet articles; medicines; soaps; etc., Locks; Luggage (all types including footlockers); Other, Clothing - Shoes; belts; accessories; etc.; Eyeglasses - (including contact lenses), Clothing - Shoes; belts; accessories; etc.; Clothing - Shoes; belts; accessories; etc.; Jewelry - Fine, Clothing - Shoes; belts; accessories; etc.; DVD/CD Players; Jewelry - Fine; Other, Cameras - Digital; Clothing - Shoes; belts; accessories; etc.; Eyeglasses - (including contact lenses); Locks, Locks; Luggage (all types including footlockers), Medicines; Other, Watches - Expensive more than $100, Cosmetics - Perfume; toilet articles; medicines; soaps; etc.; Luggage (all types including footlockers); Other, Cosmetics - Perfume; toilet articles; medicines; soaps; etc.; Locks; Medicines, Clothing - Shoes; belts; accessories; etc.; Luggage (all types including footlockers); Other, Cell Phones; Other; Stereo Items & Accessories, ...]  \n",
       "9                                                                                                                                                                                                                                                                                                                                                                                                                                                                                                                                                                                                                                                                                                                                                                                                                                                                                                                                                                                                                                                                                                                                                                                                                                                                                                                                                                                                                                                                                                                                                                                                                                                                                                                                                                                                                                                                                                                                                                                                                                                                                                                                                                                                                                                                                                                                                                                                                                                                                                                                                                                                                                                                                                                                                                                                                                                                                                                                                                                                                                                                                                                                                                                                                                                                                                                                                                                                                                                                                                                                                                                                                                                                                                                                                                                                                                                                                                                                                                                                                                                                                                                                                                                                                                                                                                                                                                                                                                                                                                                                                                                                                                                                                                                                                                                                                                                                                                                                                                                                                                                                                                                                                                                                                                                                                                                                                                                                                              [$350.00 , $100.00 , $278.88 , $50.00 , $84.79 , $459.01 , $106.52 , $75.00 , $2;270.09 , $4;457.29 , $79.95 , $43.49 , $16.71 , $450.00 , nan, $200.00 , $110;000.00 , $68.00 , $600.00 , $160.00 , $380.00 , $354.93 , $21.44 , $40.00 , $275.00 , $30.00 , $1;832.22 , $250.00 , $1;200.00 , $678.00 , $428.21 , $176.59 , $1;000.00 , $45.00 , $175.00 , $1;500.00 , $213.00 , $249.00 , $85.00 , $750.00 , $150.00 , $300.00 , $299.98 , $250;000.00 , $50;000.00 , $26.00 , $20.00 , $65.00 , $199.00 , $379.90 , $128.05 , $27.45 , $5;000.00 , $520.00 , $3;250.04 , $2;000.00 , $700.00 , $185.00 , $75.30 , $342.36 , $70.03 , $3;080.69 , $210.00 , $109.99 , $58.17 , $60.00 , $499.00 , $95.00 , $382.99 , $289.00 , $25.00 , $225.00 , $400.00 , $169.00 , $337.83 , $10.00 , $2.50 , $120.00 , $260.00 , $1;801.99 , $24.95 , $263.00 , $208.16 , $165.00 , $1;777.00 , $492.00 , $598.00 , $7;500.00 , $97.00 , $180.00 , $500.00 , $112.00 , $420.00 , $249.99 , $80.00 , $764.97 , $117.94 , $71.00 , $129.00 , $73.83 , ...]  \n",
       "10                                                                                                                                                                                                                                                                                                                                                                                                                                                                                                                                                                                                                                                                                                                                                                                                                                                                                                                                                                                                                                                                                                                                                                                                                                                                                                                                                                                                                                                                                                                                                                                                                                                                                                                                                                                                                                                                                                                                                                                                                                                                                                                                                                                                                                                                                                                                                                                                                                                                                                                                                                                                                                                                                                                                                                                                                                                                                                                                                                                                                                                                                                                                                                                                                                                                                                                                                                                                                                                                                                                                                                                                                                                                                                                                                                                                                                                                                                                                                                                                                                                                                                                                                                                                                                                                                                                                                                                                                                                                                                                                                                                                                                                                                                                                                                                                                                                                                                                                                                                                                                                                                                                                                                                                                                                                                                                                                                                                                                                                                                                                                                                                                                                                                                                                                                                                                                                                                                                                                                                                                                                                                                       [Approved, Settled, Canceled, Denied, Insufficient; one of the following items required: sum certain; statement of fact; signature; location of incident; and date., In litigation, Closed as a contractor claim, In review, Claim entered, nan, Claim has been assigned for further investigation, Pending response from claimant, Deny, -, Settle, Approve in Full]  \n",
       "11                                                                                                                                                                                                                                                                                                                                                                                                                                                                                                                                                                                                                                                                                                                                                                                                                                                                                                                                                                                                                                                                                                                                                                                                                                                                                                                                                                                                                                                                                                                                                                                                                                                                                                                                                                                                                                                                                                                                                                                                                                                                                                                                                                                                                                                                                                                                                                                                                                                                                                                                                                                                                                                                                                                                                                                                                                                                                                                                                                                                                                                                                                                                                                                                                                                                                                                                                                                                                                                                                                                                                                                                                                                                                                                                                                                                                                                                                                                                                                                                                                                                                                                                                                                                                                                                                                                                                                                                                                                                                                                                                                                                                                                                                                                                                                                                                                                                                                                                                                                                                                                                                                                                                                                                                                                                                                                                                                                                                                                          [$350.00 , $50.00 , $227.92 , $84.79 , $227.00 , $106.52 , $75.00 , nan, $79.95 , $43.49 , $17.00 , $0.00 , $337.40 , $149.08 , $301.69 , $21.00 , $275.00 , $30.00 , $40.00 , $678.00 , $207.99 , $171.99 , $801.90 , $53.38 , $74.55 , $225.00 , $210.00 , $26.00 , $20.00 , $65.00 , $364.07 , $457.80 , $3;250.00 , $100.00 , $700.00 , $144.00 , $237.00 , $70.00 , $3;080.69 , $58.00 , $60.00 , $499.00 , $95.00 , $382.99 , $231.00 , $600.00 , $25.00 , $293.84 , $234.70 , $1;000.00 , $10.00 , $291.67 , $150.00 , $82.90 , $120.00 , $270.00 , $263.00 , $208.00 , $202.50 , $250.00 , $165.00 , $1;777.00 , $492.00 , $35.00 , $112.00 , $420.00 , $200.00 , $162.00 , $80.00 , $726.74 , $71.00 , $450.00 , $197.00 , $74.00 , $280.00 , $52.50 , $1;470.69 , $167.00 , $244.00 , $204.00 , $27.50 , $78.80 , $1;760.00 , $500.00 , $2;342.00 , $37.00 , $49.00 , $229.00 , $775.16 , $742.25 , $435.00 , $45.00 , $15.00 , $223.00 , $569.50 , $116.06 , $782.65 , $75.91 , $332.50 , $31.00 , ...]  \n",
       "12                                                                                                                                                                                                                                                                                                                                                                                                                                                                                                                                                                                                                                                                                                                                                                                                                                                                                                                                                                                                                                                                                                                                                                                                                                                                                                                                                                                                                                                                                                                                                                                                                                                                                                                                                                                                                                                                                                                                                                                                                                                                                                                                                                                                                                                                                                                                                                                                                                                                                                                                                                                                                                                                                                                                                                                                                                                                                                                                                                                                                                                                                                                                                                                                                                                                                                                                                                                                                                                                                                                                                                                                                                                                                                                                                                                                                                                                                                                                                                                                                                                                                                                                                                                                                                                                                                                                                                                                                                                                                                                                                                                                                                                                                                                                                                                                                                                                                                                                                                                                                                                                                                                                                                                                                                                                                                                                                                                                                                                                                                                                                                                                                                                                                                                                                                                                                                                                                                                                                                                                                                                                                                                                                                                                                                                                                                                                                                                                                                        [Approve in Full, Settle, nan, Deny]  "
      ]
     },
     "execution_count": 6,
     "metadata": {},
     "output_type": "execute_result"
    }
   ],
   "source": [
    "# Melihat data unik di setiap kolom dalam dataset\n",
    "\n",
    "pd.set_option('display.max_colwidth', None)\n",
    "listItem = []\n",
    "for col in df.columns :\n",
    "    listItem.append( [col, df[col].nunique(), df[col].unique()])\n",
    "\n",
    "tabel1Desc = pd.DataFrame(columns=['Column Name', 'Number of Unique', 'Unique Sample'],\n",
    "                     data=listItem)\n",
    "tabel1Desc"
   ]
  },
  {
   "attachments": {},
   "cell_type": "markdown",
   "metadata": {},
   "source": [
    "Berdasarkan informasi di atas, kita bisa mendapat beberapa temuan awal yaitu :\n",
    "* Dataset tsa_claims memiliki 13 kolom dan 204267 baris\n",
    "* Terdapat data kosong di semua kolom terkecuali kolom Claim Number. Setiap data kosong diwakili oleh NaN.\n",
    "* Kolom Claim Number berisikan nomor unik dari setiap klaim yang diajukan penumpang, sehingga tidak relevan dalam analisis dan dapat dihapus.\n",
    "* Kolom Date Received dan Incident Date seharusnya memiliki tipe data DateTime karena berkaitan dengan waktu, bukan objek.\n",
    "* Terdapat duplikat value pada kolom Airport Code yang saling berhubungan dengan kolom Airport Name.\n",
    "* Kolom Airline Name berisikan nama maskapai yang dipakai oleh penumpang, namun kolom ini tidak relevan dengan tujuan analisis sehingga dapat dihapus.\n",
    "* Kolom Claim Amount berisikan harga klaim yang diajukan penumpang, namun kolom ini tidak relevan dengan tujuan analisis sehingga dapat dihapus.\n",
    "* Kolom Close Amount berisikan harga klaim yang dibayarkan pada penumpang, namun kolom ini tidak relevan dengan tujuan analisis sehingga dapat dihapus.\n",
    "* Kolom item berisikan item/barang yang diajukan dalam klaim oleh penumpang, namun kolom ini tidak relevan dengan tujuan analisis sehingga dapat dihapus.\n",
    "* Kolom Status dan Disposition berisikan status proses dari pengajuan klaim, sehingga tidak relevan dalam analisis dan dapat dihapus."
   ]
  },
  {
   "cell_type": "code",
   "execution_count": 7,
   "metadata": {},
   "outputs": [],
   "source": [
    "# Menghapus kolom yang tidak relevan dalam analisis\n",
    "\n",
    "df.drop(columns=[\"Airline Name\", \"Item\",\"Claim Amount\", \"Claim Number\", \"Status\", \"Close Amount\", \"Disposition\"], inplace=True)\n"
   ]
  },
  {
   "cell_type": "code",
   "execution_count": 8,
   "metadata": {},
   "outputs": [
    {
     "name": "stdout",
     "output_type": "stream",
     "text": [
      "<class 'pandas.core.frame.DataFrame'>\n",
      "RangeIndex: 204267 entries, 0 to 204266\n",
      "Data columns (total 6 columns):\n",
      " #   Column         Non-Null Count   Dtype \n",
      "---  ------         --------------   ----- \n",
      " 0   Date Received  204004 non-null  object\n",
      " 1   Incident Date  202084 non-null  object\n",
      " 2   Airport Code   195743 non-null  object\n",
      " 3   Airport Name   195743 non-null  object\n",
      " 4   Claim Type     196354 non-null  object\n",
      " 5   Claim Site     203527 non-null  object\n",
      "dtypes: object(6)\n",
      "memory usage: 9.4+ MB\n"
     ]
    }
   ],
   "source": [
    "# Melihat informasi kolom setalah dilakukan penghapusan beberapa kolom yang tidak relevan dalam analisis\n",
    "\n",
    "df.info()"
   ]
  },
  {
   "attachments": {},
   "cell_type": "markdown",
   "metadata": {},
   "source": [
    "# Missing Value"
   ]
  },
  {
   "cell_type": "code",
   "execution_count": 9,
   "metadata": {},
   "outputs": [
    {
     "data": {
      "text/plain": [
       "Date Received    0.128753\n",
       "Incident Date    1.068699\n",
       "Airport Code     4.172970\n",
       "Airport Name     4.172970\n",
       "Claim Type       3.873851\n",
       "Claim Site       0.362271\n",
       "dtype: float64"
      ]
     },
     "execution_count": 9,
     "metadata": {},
     "output_type": "execute_result"
    }
   ],
   "source": [
    "# Persentase missing value\n",
    "\n",
    "df.isna().sum()/df.shape[0]*100"
   ]
  },
  {
   "cell_type": "code",
   "execution_count": 10,
   "metadata": {},
   "outputs": [
    {
     "data": {
      "text/plain": [
       "<Axes: >"
      ]
     },
     "execution_count": 10,
     "metadata": {},
     "output_type": "execute_result"
    },
    {
     "data": {
      "image/png": "[encoded data removed]",
      "text/plain": [
       "<Figure size 1000x1000 with 2 Axes>"
      ]
     },
     "metadata": {},
     "output_type": "display_data"
    }
   ],
   "source": [
    "# Sebaran missing value dalam data\n",
    "\n",
    "plt.figure(figsize=(10,10))\n",
    "sns.heatmap(df[['Date Received','Incident Date','Airport Code','Airport Name','Claim Type','Claim Site']].isna())"
   ]
  },
  {
   "attachments": {},
   "cell_type": "markdown",
   "metadata": {},
   "source": [
    "Beberapa kolom yang tidak relevan dalam analisis telah dihapus, sehingga kolom-kolom yang masih memiliki missing value yaitu Date Received, Incident Date, Airport Code, Airport Name, Claim Type, dan Claim Site. Berdasarkan persentase missing value dan heatmap di atas, dapat diperoleh informasi secara garis besar :\n",
    "\n",
    "* *Missing value* di kolom `Airport Code`, `Airport Name`, dan `Claim Type` memiliki proporsi yang paling besar di antara yang lainnya, dimana *missing value* di kolom `Airport Code`, `Airport Name` sebesar 4.2% dan di kolom `Claim Type` sebesar 3.9%.\n",
    "\n",
    "Terdapat dua cara dalam menangani *missing value*, yaitu :\n",
    "* Cara pertama dengan menghapus baris/kolom yang berisi *missing value*.\n",
    "* Cara kedua dengan mengisi data yang hilang. Ada beberapa metode yang bisa digunakan untuk mengisi missing value, cara yang paling baik adalah dengan mengisi data yang hilang dengan nilai sebenarnya, atau sedekat mungkin dengan nilai asli. Jika masih ada kolom yang tidak bisa diisi, bisa diisi dengan angka *mean, median* atau *modus*. Menghapus data akan menjadi opsi terakhir.\n",
    "\n",
    "\n",
    "Setelah melihat informasi mengenai anomali-anomali yang ada pada dataset secara garis besar, langkah selanjutnya dapat dilakukan penanganan terhadap anomali-anomali yang ada secara lebih mendalam."
   ]
  },
  {
   "attachments": {},
   "cell_type": "markdown",
   "metadata": {},
   "source": [
    "# Date Received dan Incident Date \n",
    "Kolom Date Received dan Incident Date sama sama berisikan waktu yang spesifik. Date Received memiliki missing value sebesar 0.13% dan Incident Date sebesar 1.07%."
   ]
  },
  {
   "cell_type": "code",
   "execution_count": 11,
   "metadata": {},
   "outputs": [
    {
     "data": {
      "text/plain": [
       "Date Received     263\n",
       "Incident Date    2183\n",
       "dtype: int64"
      ]
     },
     "execution_count": 11,
     "metadata": {},
     "output_type": "execute_result"
    }
   ],
   "source": [
    "# Jumlah missing value pada kolom Date Received dan Incident Date\n",
    "df[['Date Received','Incident Date']].isna().sum()"
   ]
  },
  {
   "attachments": {},
   "cell_type": "markdown",
   "metadata": {},
   "source": [
    "Untuk penanganan missing value pada kedua kolom tersebut dapat dilakukan penghapusan karena proporsinya yang kecil serta tidak ada cara lain yang cukup meyakinkan untuk menambahkan value yang baru. Hal ini terjadi karena kedua kolom tersebut berisikan waktu yang spesifik."
   ]
  },
  {
   "cell_type": "code",
   "execution_count": 12,
   "metadata": {},
   "outputs": [],
   "source": [
    "# Menghapus Missing Value pada kolom Date Received dan Incident Date\n",
    "\n",
    "df.dropna(subset=['Date Received','Incident Date'],inplace=True)"
   ]
  },
  {
   "cell_type": "code",
   "execution_count": 13,
   "metadata": {},
   "outputs": [
    {
     "data": {
      "text/plain": [
       "Date Received       0\n",
       "Incident Date       0\n",
       "Airport Code     7030\n",
       "Airport Name     7030\n",
       "Claim Type       6403\n",
       "Claim Site        532\n",
       "dtype: int64"
      ]
     },
     "execution_count": 13,
     "metadata": {},
     "output_type": "execute_result"
    }
   ],
   "source": [
    "df.isna().sum()"
   ]
  },
  {
   "attachments": {},
   "cell_type": "markdown",
   "metadata": {},
   "source": [
    "Setelah menangani missing value, pada pengecekan lebih lanjut tipe data pada kolom `Date Received` dan `Incident Date` adalah object, karena tidak sesuai dengan value yang ada di dalamnya sehingga perlu diubah terlebih dahulu menjadi tipe data date time."
   ]
  },
  {
   "cell_type": "code",
   "execution_count": 14,
   "metadata": {},
   "outputs": [
    {
     "name": "stdout",
     "output_type": "stream",
     "text": [
      "<class 'pandas.core.frame.DataFrame'>\n",
      "Int64Index: 201945 entries, 0 to 204266\n",
      "Data columns (total 6 columns):\n",
      " #   Column         Non-Null Count   Dtype         \n",
      "---  ------         --------------   -----         \n",
      " 0   Date Received  201945 non-null  datetime64[ns]\n",
      " 1   Incident Date  201781 non-null  datetime64[ns]\n",
      " 2   Airport Code   194915 non-null  object        \n",
      " 3   Airport Name   194915 non-null  object        \n",
      " 4   Claim Type     195542 non-null  object        \n",
      " 5   Claim Site     201413 non-null  object        \n",
      "dtypes: datetime64[ns](2), object(4)\n",
      "memory usage: 10.8+ MB\n"
     ]
    }
   ],
   "source": [
    "# Mengubah tipe data Date Received dan Incident Date menjadi date time\n",
    "\n",
    "df['Date Received'] = pd.to_datetime(df['Date Received'])\n",
    "df['Incident Date'] = pd.to_datetime(df['Incident Date'], errors='coerce')\n",
    "df.info()"
   ]
  },
  {
   "attachments": {},
   "cell_type": "markdown",
   "metadata": {},
   "source": [
    "Pada kolom Incident Date terdapat error pada penulisan beberapa value sehingga tidak dapat diubah ke dalam tipe data date time. Value tersebut tidak bisa diisi atau diganti dengan value yang lain, oleh karena itu data tersebut diubah menjadi data kosong dan kemudian dilakukan penghapusan kembali."
   ]
  },
  {
   "cell_type": "code",
   "execution_count": 15,
   "metadata": {},
   "outputs": [
    {
     "data": {
      "text/plain": [
       "164"
      ]
     },
     "execution_count": 15,
     "metadata": {},
     "output_type": "execute_result"
    }
   ],
   "source": [
    "# Mengecek missing value pada Incident Date\n",
    "\n",
    "df['Incident Date'].isnull().sum()"
   ]
  },
  {
   "cell_type": "code",
   "execution_count": 16,
   "metadata": {},
   "outputs": [],
   "source": [
    "# Menghapus missing value pada Incident Date\n",
    "\n",
    "df.dropna(subset=['Incident Date'],inplace=True)"
   ]
  },
  {
   "cell_type": "code",
   "execution_count": 17,
   "metadata": {},
   "outputs": [
    {
     "data": {
      "text/plain": [
       "0"
      ]
     },
     "execution_count": 17,
     "metadata": {},
     "output_type": "execute_result"
    }
   ],
   "source": [
    "df['Incident Date'].isna().sum()"
   ]
  },
  {
   "attachments": {},
   "cell_type": "markdown",
   "metadata": {},
   "source": [
    "Setelah menangani missing value dan juga mengubah tipe data menjadi date time, dilakukan pengecekan lebih mendalam terkait data pada kolom Date Received dan Incident Date."
   ]
  },
  {
   "cell_type": "code",
   "execution_count": 18,
   "metadata": {},
   "outputs": [
    {
     "data": {
      "text/plain": [
       "1994        1\n",
       "1996        1\n",
       "2000        4\n",
       "2002      932\n",
       "2003    21115\n",
       "2004    29531\n",
       "2005    24353\n",
       "2006    18993\n",
       "2007    18558\n",
       "2008    16395\n",
       "2009    12770\n",
       "2010    10925\n",
       "2011    10905\n",
       "2012    10069\n",
       "2013     9698\n",
       "2014     8855\n",
       "2015     8667\n",
       "2020        1\n",
       "2025        5\n",
       "2040        1\n",
       "2044        1\n",
       "2055        1\n",
       "Name: Date Received, dtype: int64"
      ]
     },
     "execution_count": 18,
     "metadata": {},
     "output_type": "execute_result"
    }
   ],
   "source": [
    "# Mengecek tahun dari kolom Date Received\n",
    "\n",
    "df['Date Received'].dt.year.value_counts().sort_index()"
   ]
  },
  {
   "cell_type": "code",
   "execution_count": 19,
   "metadata": {},
   "outputs": [
    {
     "data": {
      "text/plain": [
       "1996        1\n",
       "2000       14\n",
       "2001       15\n",
       "2002     2123\n",
       "2003    24465\n",
       "2004    28953\n",
       "2005    22964\n",
       "2006    18796\n",
       "2007    18261\n",
       "2008    15887\n",
       "2009    11172\n",
       "2010    12215\n",
       "2011    10994\n",
       "2012     9984\n",
       "2013     9536\n",
       "2014     8680\n",
       "2015     7721\n",
       "Name: Incident Date, dtype: int64"
      ]
     },
     "execution_count": 19,
     "metadata": {},
     "output_type": "execute_result"
    }
   ],
   "source": [
    "# Mengecek tahun dari kolom Incident Date\n",
    "\n",
    "df['Incident Date'].dt.year.value_counts().sort_index()"
   ]
  },
  {
   "attachments": {},
   "cell_type": "markdown",
   "metadata": {},
   "source": [
    "Dari pengecekan data di atas, diperoleh informasi bahwa terdapat value yang memiliki waktu (tahun) tidak sesuai dengan pernyataan rentang dataset dari tahun 2002 - 2015. Oleh karena itu data tersebut akan dihapus karena proporsi kekeliruan value yang rendah, jarak tahun yang terlalu jauh, serta tidak ada cara sesuai yang dapat menggantikan value-value tersebut."
   ]
  },
  {
   "cell_type": "code",
   "execution_count": 20,
   "metadata": {},
   "outputs": [],
   "source": [
    "# Menghilangkan value yang memiliki tahun tidak sesuai dengan rentang tahun 2002 - 2015\n",
    "\n",
    "df = df[df['Date Received'].dt.year.isin(range(2002,2016))]\n",
    "df = df[df['Incident Date'].dt.year.isin(range(2002,2016))]\n"
   ]
  },
  {
   "cell_type": "code",
   "execution_count": 21,
   "metadata": {},
   "outputs": [
    {
     "data": {
      "text/plain": [
       "2002      932\n",
       "2003    21111\n",
       "2004    29516\n",
       "2005    24350\n",
       "2006    18990\n",
       "2007    18555\n",
       "2008    16393\n",
       "2009    12770\n",
       "2010    10925\n",
       "2011    10905\n",
       "2012    10069\n",
       "2013     9698\n",
       "2014     8855\n",
       "2015     8667\n",
       "Name: Date Received, dtype: int64"
      ]
     },
     "execution_count": 21,
     "metadata": {},
     "output_type": "execute_result"
    }
   ],
   "source": [
    "df['Date Received'].dt.year.value_counts().sort_index()"
   ]
  },
  {
   "cell_type": "code",
   "execution_count": 22,
   "metadata": {},
   "outputs": [
    {
     "data": {
      "text/plain": [
       "2002     2123\n",
       "2003    24463\n",
       "2004    28952\n",
       "2005    22956\n",
       "2006    18793\n",
       "2007    18260\n",
       "2008    15887\n",
       "2009    11172\n",
       "2010    12215\n",
       "2011    10994\n",
       "2012     9984\n",
       "2013     9536\n",
       "2014     8680\n",
       "2015     7721\n",
       "Name: Incident Date, dtype: int64"
      ]
     },
     "execution_count": 22,
     "metadata": {},
     "output_type": "execute_result"
    }
   ],
   "source": [
    "df['Incident Date'].dt.year.value_counts().sort_index()"
   ]
  },
  {
   "attachments": {},
   "cell_type": "markdown",
   "metadata": {},
   "source": [
    "Kolom Date Received berisi waktu saat pengajuan klaim dibuat dan kolom Incident Date berisikan waktu saat terjadinya kejadian, sehingga waktu dalam Date Received tentunya harus lebih baru daripada waktu Incident Date. Namun, setelah pengecekan lebih lanjut terdapat beberapa value yang tidak sesuai, dimana waktu dari Incident date lebih baru daripada waktu Date Received. OLeh karena itu data tersebut harus dihapus karena tidak bisa diubah atau digantikan dengan value yang lain karena berkaitan dengan waktu yang spesifik."
   ]
  },
  {
   "cell_type": "code",
   "execution_count": 23,
   "metadata": {},
   "outputs": [
    {
     "data": {
      "text/html": [
       "<div>\n",
       "<style scoped>\n",
       "    .dataframe tbody tr th:only-of-type {\n",
       "        vertical-align: middle;\n",
       "    }\n",
       "\n",
       "    .dataframe tbody tr th {\n",
       "        vertical-align: top;\n",
       "    }\n",
       "\n",
       "    .dataframe thead th {\n",
       "        text-align: right;\n",
       "    }\n",
       "</style>\n",
       "<table border=\"1\" class=\"dataframe\">\n",
       "  <thead>\n",
       "    <tr style=\"text-align: right;\">\n",
       "      <th></th>\n",
       "      <th>Date Received</th>\n",
       "      <th>Incident Date</th>\n",
       "      <th>Airport Code</th>\n",
       "      <th>Airport Name</th>\n",
       "      <th>Claim Type</th>\n",
       "      <th>Claim Site</th>\n",
       "    </tr>\n",
       "  </thead>\n",
       "  <tbody>\n",
       "    <tr>\n",
       "      <th>0</th>\n",
       "      <td>2002-01-04</td>\n",
       "      <td>2002-12-12 00:00:00</td>\n",
       "      <td>EWR</td>\n",
       "      <td>Newark International Airport</td>\n",
       "      <td>Property Damage</td>\n",
       "      <td>Checkpoint</td>\n",
       "    </tr>\n",
       "    <tr>\n",
       "      <th>1</th>\n",
       "      <td>2002-02-02</td>\n",
       "      <td>2004-01-16 00:00:00</td>\n",
       "      <td>SEA</td>\n",
       "      <td>Seattle-Tacoma International</td>\n",
       "      <td>Property Damage</td>\n",
       "      <td>Checked Baggage</td>\n",
       "    </tr>\n",
       "    <tr>\n",
       "      <th>2</th>\n",
       "      <td>2002-02-04</td>\n",
       "      <td>2003-11-26 00:00:00</td>\n",
       "      <td>STL</td>\n",
       "      <td>Lambert St. Louis International</td>\n",
       "      <td>Property Damage</td>\n",
       "      <td>Checked Baggage</td>\n",
       "    </tr>\n",
       "    <tr>\n",
       "      <th>3</th>\n",
       "      <td>2002-02-07</td>\n",
       "      <td>2003-01-06 00:00:00</td>\n",
       "      <td>MIA</td>\n",
       "      <td>Miami International Airport</td>\n",
       "      <td>Property Damage</td>\n",
       "      <td>Checkpoint</td>\n",
       "    </tr>\n",
       "    <tr>\n",
       "      <th>4</th>\n",
       "      <td>2002-02-18</td>\n",
       "      <td>2005-02-05 00:00:00</td>\n",
       "      <td>MCO</td>\n",
       "      <td>Orlando International Airport</td>\n",
       "      <td>Property Damage</td>\n",
       "      <td>Checkpoint</td>\n",
       "    </tr>\n",
       "    <tr>\n",
       "      <th>...</th>\n",
       "      <td>...</td>\n",
       "      <td>...</td>\n",
       "      <td>...</td>\n",
       "      <td>...</td>\n",
       "      <td>...</td>\n",
       "      <td>...</td>\n",
       "    </tr>\n",
       "    <tr>\n",
       "      <th>185745</th>\n",
       "      <td>2013-11-16</td>\n",
       "      <td>2013-11-16 11:22:00</td>\n",
       "      <td>EWR</td>\n",
       "      <td>Newark International Airport</td>\n",
       "      <td>Passenger Property Loss</td>\n",
       "      <td>Checkpoint</td>\n",
       "    </tr>\n",
       "    <tr>\n",
       "      <th>185827</th>\n",
       "      <td>2013-11-20</td>\n",
       "      <td>2013-11-20 06:00:00</td>\n",
       "      <td>LAX</td>\n",
       "      <td>Los Angeles International Airport</td>\n",
       "      <td>Property Damage</td>\n",
       "      <td>Checked Baggage</td>\n",
       "    </tr>\n",
       "    <tr>\n",
       "      <th>186051</th>\n",
       "      <td>2013-12-02</td>\n",
       "      <td>2013-12-02 07:00:00</td>\n",
       "      <td>DFW</td>\n",
       "      <td>Dallas-Fort Worth International Airport</td>\n",
       "      <td>Property Damage</td>\n",
       "      <td>Checked Baggage</td>\n",
       "    </tr>\n",
       "    <tr>\n",
       "      <th>186298</th>\n",
       "      <td>2013-12-11</td>\n",
       "      <td>2013-12-11 12:20:00</td>\n",
       "      <td>-</td>\n",
       "      <td>-</td>\n",
       "      <td>Property Damage</td>\n",
       "      <td>Checkpoint</td>\n",
       "    </tr>\n",
       "    <tr>\n",
       "      <th>186449</th>\n",
       "      <td>2013-12-17</td>\n",
       "      <td>2013-12-17 06:05:00</td>\n",
       "      <td>CLT</td>\n",
       "      <td>Charlotte/Douglas International Airport</td>\n",
       "      <td>Passenger Property Loss</td>\n",
       "      <td>Checkpoint</td>\n",
       "    </tr>\n",
       "  </tbody>\n",
       "</table>\n",
       "<p>1710 rows × 6 columns</p>\n",
       "</div>"
      ],
      "text/plain": [
       "       Date Received       Incident Date Airport Code  \\\n",
       "0         2002-01-04 2002-12-12 00:00:00          EWR   \n",
       "1         2002-02-02 2004-01-16 00:00:00          SEA   \n",
       "2         2002-02-04 2003-11-26 00:00:00          STL   \n",
       "3         2002-02-07 2003-01-06 00:00:00          MIA   \n",
       "4         2002-02-18 2005-02-05 00:00:00          MCO   \n",
       "...              ...                 ...          ...   \n",
       "185745    2013-11-16 2013-11-16 11:22:00          EWR   \n",
       "185827    2013-11-20 2013-11-20 06:00:00          LAX   \n",
       "186051    2013-12-02 2013-12-02 07:00:00          DFW   \n",
       "186298    2013-12-11 2013-12-11 12:20:00            -   \n",
       "186449    2013-12-17 2013-12-17 06:05:00          CLT   \n",
       "\n",
       "                                    Airport Name               Claim Type  \\\n",
       "0                   Newark International Airport          Property Damage   \n",
       "1                   Seattle-Tacoma International          Property Damage   \n",
       "2                Lambert St. Louis International          Property Damage   \n",
       "3                    Miami International Airport          Property Damage   \n",
       "4                  Orlando International Airport          Property Damage   \n",
       "...                                          ...                      ...   \n",
       "185745              Newark International Airport  Passenger Property Loss   \n",
       "185827        Los Angeles International Airport           Property Damage   \n",
       "186051  Dallas-Fort Worth International Airport           Property Damage   \n",
       "186298                                         -          Property Damage   \n",
       "186449   Charlotte/Douglas International Airport  Passenger Property Loss   \n",
       "\n",
       "             Claim Site  \n",
       "0            Checkpoint  \n",
       "1       Checked Baggage  \n",
       "2       Checked Baggage  \n",
       "3            Checkpoint  \n",
       "4            Checkpoint  \n",
       "...                 ...  \n",
       "185745       Checkpoint  \n",
       "185827  Checked Baggage  \n",
       "186051  Checked Baggage  \n",
       "186298       Checkpoint  \n",
       "186449       Checkpoint  \n",
       "\n",
       "[1710 rows x 6 columns]"
      ]
     },
     "execution_count": 23,
     "metadata": {},
     "output_type": "execute_result"
    }
   ],
   "source": [
    "df.loc[df['Incident Date'] > df['Date Received']]"
   ]
  },
  {
   "cell_type": "code",
   "execution_count": 24,
   "metadata": {},
   "outputs": [
    {
     "data": {
      "text/html": [
       "<div>\n",
       "<style scoped>\n",
       "    .dataframe tbody tr th:only-of-type {\n",
       "        vertical-align: middle;\n",
       "    }\n",
       "\n",
       "    .dataframe tbody tr th {\n",
       "        vertical-align: top;\n",
       "    }\n",
       "\n",
       "    .dataframe thead th {\n",
       "        text-align: right;\n",
       "    }\n",
       "</style>\n",
       "<table border=\"1\" class=\"dataframe\">\n",
       "  <thead>\n",
       "    <tr style=\"text-align: right;\">\n",
       "      <th></th>\n",
       "      <th>Date Received</th>\n",
       "      <th>Incident Date</th>\n",
       "      <th>Airport Code</th>\n",
       "      <th>Airport Name</th>\n",
       "      <th>Claim Type</th>\n",
       "      <th>Claim Site</th>\n",
       "    </tr>\n",
       "  </thead>\n",
       "  <tbody>\n",
       "    <tr>\n",
       "      <th>0</th>\n",
       "      <td>2002-06-20</td>\n",
       "      <td>2002-05-09</td>\n",
       "      <td>BWI</td>\n",
       "      <td>Baltimore/Washington Intl Thurgood Marshall</td>\n",
       "      <td>NaN</td>\n",
       "      <td>Checkpoint</td>\n",
       "    </tr>\n",
       "    <tr>\n",
       "      <th>1</th>\n",
       "      <td>2002-06-20</td>\n",
       "      <td>2002-06-16</td>\n",
       "      <td>PHX</td>\n",
       "      <td>Phoenix Sky Harbor International</td>\n",
       "      <td>Property Damage</td>\n",
       "      <td>Checkpoint</td>\n",
       "    </tr>\n",
       "    <tr>\n",
       "      <th>2</th>\n",
       "      <td>2002-06-25</td>\n",
       "      <td>2002-05-04</td>\n",
       "      <td>ATL</td>\n",
       "      <td>Hartsfield-Jackson Atlanta International Airport</td>\n",
       "      <td>Passenger Property Loss</td>\n",
       "      <td>Checkpoint</td>\n",
       "    </tr>\n",
       "    <tr>\n",
       "      <th>3</th>\n",
       "      <td>2002-07-08</td>\n",
       "      <td>2002-06-12</td>\n",
       "      <td>BWI</td>\n",
       "      <td>Baltimore/Washington Intl Thurgood Marshall</td>\n",
       "      <td>NaN</td>\n",
       "      <td>Checkpoint</td>\n",
       "    </tr>\n",
       "    <tr>\n",
       "      <th>4</th>\n",
       "      <td>2002-07-08</td>\n",
       "      <td>2002-06-04</td>\n",
       "      <td>BWI</td>\n",
       "      <td>Baltimore/Washington Intl Thurgood Marshall</td>\n",
       "      <td>NaN</td>\n",
       "      <td>Other</td>\n",
       "    </tr>\n",
       "  </tbody>\n",
       "</table>\n",
       "</div>"
      ],
      "text/plain": [
       "  Date Received Incident Date Airport Code  \\\n",
       "0    2002-06-20    2002-05-09          BWI   \n",
       "1    2002-06-20    2002-06-16          PHX   \n",
       "2    2002-06-25    2002-05-04          ATL   \n",
       "3    2002-07-08    2002-06-12          BWI   \n",
       "4    2002-07-08    2002-06-04          BWI   \n",
       "\n",
       "                                       Airport Name               Claim Type  \\\n",
       "0       Baltimore/Washington Intl Thurgood Marshall                      NaN   \n",
       "1                  Phoenix Sky Harbor International          Property Damage   \n",
       "2  Hartsfield-Jackson Atlanta International Airport  Passenger Property Loss   \n",
       "3       Baltimore/Washington Intl Thurgood Marshall                      NaN   \n",
       "4       Baltimore/Washington Intl Thurgood Marshall                      NaN   \n",
       "\n",
       "   Claim Site  \n",
       "0  Checkpoint  \n",
       "1  Checkpoint  \n",
       "2  Checkpoint  \n",
       "3  Checkpoint  \n",
       "4       Other  "
      ]
     },
     "metadata": {},
     "output_type": "display_data"
    },
    {
     "data": {
      "text/html": [
       "<div>\n",
       "<style scoped>\n",
       "    .dataframe tbody tr th:only-of-type {\n",
       "        vertical-align: middle;\n",
       "    }\n",
       "\n",
       "    .dataframe tbody tr th {\n",
       "        vertical-align: top;\n",
       "    }\n",
       "\n",
       "    .dataframe thead th {\n",
       "        text-align: right;\n",
       "    }\n",
       "</style>\n",
       "<table border=\"1\" class=\"dataframe\">\n",
       "  <thead>\n",
       "    <tr style=\"text-align: right;\">\n",
       "      <th></th>\n",
       "      <th>Date Received</th>\n",
       "      <th>Incident Date</th>\n",
       "      <th>Airport Code</th>\n",
       "      <th>Airport Name</th>\n",
       "      <th>Claim Type</th>\n",
       "      <th>Claim Site</th>\n",
       "    </tr>\n",
       "  </thead>\n",
       "  <tbody>\n",
       "    <tr>\n",
       "      <th>200021</th>\n",
       "      <td>2015-11-20</td>\n",
       "      <td>2015-10-16</td>\n",
       "      <td>-</td>\n",
       "      <td>-</td>\n",
       "      <td>Property Damage</td>\n",
       "      <td>Checked Baggage</td>\n",
       "    </tr>\n",
       "    <tr>\n",
       "      <th>200022</th>\n",
       "      <td>2015-12-17</td>\n",
       "      <td>2015-12-02</td>\n",
       "      <td>-</td>\n",
       "      <td>-</td>\n",
       "      <td>Property Damage</td>\n",
       "      <td>Checked Baggage</td>\n",
       "    </tr>\n",
       "    <tr>\n",
       "      <th>200023</th>\n",
       "      <td>2015-12-22</td>\n",
       "      <td>2015-12-20</td>\n",
       "      <td>-</td>\n",
       "      <td>-</td>\n",
       "      <td>Passenger Property Loss</td>\n",
       "      <td>Checked Baggage</td>\n",
       "    </tr>\n",
       "    <tr>\n",
       "      <th>200024</th>\n",
       "      <td>2015-12-30</td>\n",
       "      <td>2015-12-28</td>\n",
       "      <td>-</td>\n",
       "      <td>-</td>\n",
       "      <td>Passenger Property Loss</td>\n",
       "      <td>Checked Baggage</td>\n",
       "    </tr>\n",
       "    <tr>\n",
       "      <th>200025</th>\n",
       "      <td>2015-12-31</td>\n",
       "      <td>2015-11-23</td>\n",
       "      <td>-</td>\n",
       "      <td>-</td>\n",
       "      <td>Passenger Property Loss</td>\n",
       "      <td>Checkpoint</td>\n",
       "    </tr>\n",
       "  </tbody>\n",
       "</table>\n",
       "</div>"
      ],
      "text/plain": [
       "       Date Received Incident Date Airport Code Airport Name  \\\n",
       "200021    2015-11-20    2015-10-16            -            -   \n",
       "200022    2015-12-17    2015-12-02            -            -   \n",
       "200023    2015-12-22    2015-12-20            -            -   \n",
       "200024    2015-12-30    2015-12-28            -            -   \n",
       "200025    2015-12-31    2015-11-23            -            -   \n",
       "\n",
       "                     Claim Type       Claim Site  \n",
       "200021          Property Damage  Checked Baggage  \n",
       "200022          Property Damage  Checked Baggage  \n",
       "200023  Passenger Property Loss  Checked Baggage  \n",
       "200024  Passenger Property Loss  Checked Baggage  \n",
       "200025  Passenger Property Loss       Checkpoint  "
      ]
     },
     "metadata": {},
     "output_type": "display_data"
    }
   ],
   "source": [
    "index_date = df[df['Incident Date'] > df['Date Received']].index\n",
    "df.drop(index=index_date, inplace=True)\n",
    "df.reset_index(drop=True, inplace=True)\n",
    "display(df.head(), df.tail())\n"
   ]
  },
  {
   "attachments": {},
   "cell_type": "markdown",
   "metadata": {},
   "source": [
    "# Airport Code dan Airport Name\n",
    "Selanjutnya dilakukan pengecekan pada kolom Airport Code dan Airport Name, dimana kedua kolom ini saling berhubungan. Kedua kolom tersebut berisikan data yang bersifat kategorikal. Untuk menangani missing value dari kedua kolom tersebut, tidak ada cara yang baik dan cukup meyakinkan untuk mengisi value Airport Code dan Airport Name. Oleh karena itu, missing value dari kedua kolom tersebut akan dihapus.  "
   ]
  },
  {
   "cell_type": "code",
   "execution_count": 25,
   "metadata": {},
   "outputs": [
    {
     "data": {
      "text/plain": [
       "Airport Code    6940\n",
       "Airport Name    6940\n",
       "dtype: int64"
      ]
     },
     "execution_count": 25,
     "metadata": {},
     "output_type": "execute_result"
    }
   ],
   "source": [
    "# Jumlah missing value pada kolom Airport Code dan Airport Name\n",
    "df[['Airport Code','Airport Name']].isna().sum()"
   ]
  },
  {
   "cell_type": "code",
   "execution_count": 26,
   "metadata": {},
   "outputs": [],
   "source": [
    "# Menghapus missing value pada kolom Airport Code dan Airport Name\n",
    "\n",
    "df.dropna(subset=['Airport Code', 'Airport Name'], inplace = True)"
   ]
  },
  {
   "cell_type": "code",
   "execution_count": 27,
   "metadata": {},
   "outputs": [
    {
     "data": {
      "text/plain": [
       "Airport Code    0\n",
       "Airport Name    0\n",
       "dtype: int64"
      ]
     },
     "execution_count": 27,
     "metadata": {},
     "output_type": "execute_result"
    }
   ],
   "source": [
    "# Mengecek kembali missing value setelah dilakukan penghapusan\n",
    "\n",
    "df[['Airport Code','Airport Name']].isna().sum()"
   ]
  },
  {
   "attachments": {},
   "cell_type": "markdown",
   "metadata": {},
   "source": [
    "Berdasarkan data di atas dapat dilihat bahwa kolom Airport Code dan Airport Name sudah tidak lagi memiliki missing value. Langkah selanjutkan akan dilakukan pengecekan lebih lanjut terkait data pada Airport Code dan Airport Name. "
   ]
  },
  {
   "cell_type": "code",
   "execution_count": 28,
   "metadata": {},
   "outputs": [
    {
     "name": "stdout",
     "output_type": "stream",
     "text": [
      "Airport Code\n",
      "BOS          [Boston (Logan) International Airport, Boston (Logan) International Airport ]\n",
      "BUR                                                                  [Bob Hope, Bob Hope ]\n",
      "BZN                            [Gallatin Field, Bozeman Yellowstone International Airport]\n",
      "DEN                          [Denver International Airport, Denver International Airport ]\n",
      "DFW    [Dallas-Fort Worth International Airport, Dallas-Fort Worth International Airport ]\n",
      "DUJ                                    [Dubois Jefferson County, Dubois Jefferson County ]\n",
      "EAR                                [Kearney Municipal Airport, Kearney Municipal Airport ]\n",
      "HIB                                [Chisolm-Hibbing Municipal, Chisolm-Hibbing Municipal ]\n",
      "INL                                            [Falls International, Falls International ]\n",
      "JHM                                                    [Kapalua Airport, Kapalua Airport ]\n",
      "LAX                [Los Angeles International Airport, Los Angeles International Airport ]\n",
      "LGA                                                                [LaGuardia, LaGuardia ]\n",
      "MCW                          [Mason City Municipal Airport, Mason City Municipal Airport ]\n",
      "MKK                                                    [Molokai Airport, Molokai Airport ]\n",
      "MMH                                                        [Mammoth Lakes , Mammoth Lakes]\n",
      "OAJ                          [Albert J Ellis; Jacksonville,  Albert J Ellis; Jacksonville]\n",
      "PGV                                    [Pitt-Greenville Airport, Pitt-Greenville Airport ]\n",
      "PNS                                  [Pensacola Regional, Pensacola International Airport]\n",
      "SHD                                                [Shenandoah Valley, Shenandoah Valley ]\n",
      "SWF                                                      [Stewart  Field, Stewart  Field ]\n",
      "Name: Airport Name, dtype: object\n",
      "20\n"
     ]
    }
   ],
   "source": [
    "# Menampilkan Airport Code yang memiliki Airport Name lebih dari satu (Duplikat)\n",
    "\n",
    "Ap_code_name = df.groupby(\"Airport Code\")['Airport Name'].nunique().sort_values(ascending=False)\n",
    "print(df[df['Airport Code'].isin(Ap_code_name[Ap_code_name > 1].index)].groupby(\"Airport Code\")['Airport Name'].unique())\n",
    "print(len(df[df['Airport Code'].isin(Ap_code_name[Ap_code_name > 1].index)].groupby('Airport Code')['Airport Name'].nunique()))"
   ]
  },
  {
   "attachments": {},
   "cell_type": "markdown",
   "metadata": {},
   "source": [
    "Berdasarkan data di atas, dapat dilihat bahwa terdapat 20 value dari Airport Code yang memiliki Airport Name lebih dari satu. Selain itu juga terdapat spasi yang berlebih pada penulisan beberapa Airport Name. Airport Code merupakan kode unik untuk setiap Airport Name. Pada AIrport Code PNS terdapat terdapat Airport Name yang berbeda karena penulisan yang berbeda yaitu Pensacola Regional yang seharusnya adalah Pensacola International Airport. Oleh karena itu value Pensacola Regional tersebut harus diganti. Sedangkan pada Airport code BZN terdapat Airport Name Gallatin Field. Value tersebut tidak perlu diganti karena Gallatin Field merupakan nama lain dari bandara Bozeman Yellowstone International Airport yang saat itu belum dilakukan penggantian nama.  "
   ]
  },
  {
   "cell_type": "code",
   "execution_count": 29,
   "metadata": {},
   "outputs": [],
   "source": [
    "# Menghilangkan spasi berlebih\n",
    "\n",
    "df['Airport Code'] = df['Airport Code'].str.strip()\n",
    "df['Airport Name'] = df['Airport Name'].str.strip()\n"
   ]
  },
  {
   "cell_type": "code",
   "execution_count": 30,
   "metadata": {},
   "outputs": [],
   "source": [
    "# Mengubah value Pensacola Regional\n",
    "\n",
    "df['Airport Name'] = df['Airport Name'].replace(to_replace= 'Pensacola Regional', value= 'Pensacola International Airport')"
   ]
  },
  {
   "attachments": {},
   "cell_type": "markdown",
   "metadata": {},
   "source": [
    "Pada kolom Airport Code dan Airport Name terdapat value berupa (-) sebanyak 441. Value tersebut tidak dapat diganti dengan value yang lain, oleh karena itu harus dilakukan penghapusan."
   ]
  },
  {
   "cell_type": "code",
   "execution_count": 31,
   "metadata": {},
   "outputs": [
    {
     "data": {
      "text/html": [
       "<div>\n",
       "<style scoped>\n",
       "    .dataframe tbody tr th:only-of-type {\n",
       "        vertical-align: middle;\n",
       "    }\n",
       "\n",
       "    .dataframe tbody tr th {\n",
       "        vertical-align: top;\n",
       "    }\n",
       "\n",
       "    .dataframe thead th {\n",
       "        text-align: right;\n",
       "    }\n",
       "</style>\n",
       "<table border=\"1\" class=\"dataframe\">\n",
       "  <thead>\n",
       "    <tr style=\"text-align: right;\">\n",
       "      <th></th>\n",
       "      <th>Date Received</th>\n",
       "      <th>Incident Date</th>\n",
       "      <th>Airport Code</th>\n",
       "      <th>Airport Name</th>\n",
       "      <th>Claim Type</th>\n",
       "      <th>Claim Site</th>\n",
       "    </tr>\n",
       "  </thead>\n",
       "  <tbody>\n",
       "    <tr>\n",
       "      <th>141265</th>\n",
       "      <td>2010-01-19</td>\n",
       "      <td>2010-01-19 00:00:00</td>\n",
       "      <td>-</td>\n",
       "      <td>-</td>\n",
       "      <td>Personal Injury</td>\n",
       "      <td>Checkpoint</td>\n",
       "    </tr>\n",
       "    <tr>\n",
       "      <th>141504</th>\n",
       "      <td>2010-01-28</td>\n",
       "      <td>2010-01-04 13:00:00</td>\n",
       "      <td>-</td>\n",
       "      <td>-</td>\n",
       "      <td>Property Damage</td>\n",
       "      <td>-</td>\n",
       "    </tr>\n",
       "    <tr>\n",
       "      <th>141661</th>\n",
       "      <td>2010-02-03</td>\n",
       "      <td>2010-01-23 19:00:00</td>\n",
       "      <td>-</td>\n",
       "      <td>-</td>\n",
       "      <td>Passenger Property Loss</td>\n",
       "      <td>Checked Baggage</td>\n",
       "    </tr>\n",
       "    <tr>\n",
       "      <th>141663</th>\n",
       "      <td>2010-02-04</td>\n",
       "      <td>2010-02-04 00:00:00</td>\n",
       "      <td>-</td>\n",
       "      <td>-</td>\n",
       "      <td>-</td>\n",
       "      <td>-</td>\n",
       "    </tr>\n",
       "    <tr>\n",
       "      <th>141664</th>\n",
       "      <td>2010-02-04</td>\n",
       "      <td>2010-01-02 00:00:00</td>\n",
       "      <td>-</td>\n",
       "      <td>-</td>\n",
       "      <td>-</td>\n",
       "      <td>-</td>\n",
       "    </tr>\n",
       "    <tr>\n",
       "      <th>...</th>\n",
       "      <td>...</td>\n",
       "      <td>...</td>\n",
       "      <td>...</td>\n",
       "      <td>...</td>\n",
       "      <td>...</td>\n",
       "      <td>...</td>\n",
       "    </tr>\n",
       "    <tr>\n",
       "      <th>200021</th>\n",
       "      <td>2015-11-20</td>\n",
       "      <td>2015-10-16 00:00:00</td>\n",
       "      <td>-</td>\n",
       "      <td>-</td>\n",
       "      <td>Property Damage</td>\n",
       "      <td>Checked Baggage</td>\n",
       "    </tr>\n",
       "    <tr>\n",
       "      <th>200022</th>\n",
       "      <td>2015-12-17</td>\n",
       "      <td>2015-12-02 00:00:00</td>\n",
       "      <td>-</td>\n",
       "      <td>-</td>\n",
       "      <td>Property Damage</td>\n",
       "      <td>Checked Baggage</td>\n",
       "    </tr>\n",
       "    <tr>\n",
       "      <th>200023</th>\n",
       "      <td>2015-12-22</td>\n",
       "      <td>2015-12-20 00:00:00</td>\n",
       "      <td>-</td>\n",
       "      <td>-</td>\n",
       "      <td>Passenger Property Loss</td>\n",
       "      <td>Checked Baggage</td>\n",
       "    </tr>\n",
       "    <tr>\n",
       "      <th>200024</th>\n",
       "      <td>2015-12-30</td>\n",
       "      <td>2015-12-28 00:00:00</td>\n",
       "      <td>-</td>\n",
       "      <td>-</td>\n",
       "      <td>Passenger Property Loss</td>\n",
       "      <td>Checked Baggage</td>\n",
       "    </tr>\n",
       "    <tr>\n",
       "      <th>200025</th>\n",
       "      <td>2015-12-31</td>\n",
       "      <td>2015-11-23 00:00:00</td>\n",
       "      <td>-</td>\n",
       "      <td>-</td>\n",
       "      <td>Passenger Property Loss</td>\n",
       "      <td>Checkpoint</td>\n",
       "    </tr>\n",
       "  </tbody>\n",
       "</table>\n",
       "<p>421 rows × 6 columns</p>\n",
       "</div>"
      ],
      "text/plain": [
       "       Date Received       Incident Date Airport Code Airport Name  \\\n",
       "141265    2010-01-19 2010-01-19 00:00:00            -            -   \n",
       "141504    2010-01-28 2010-01-04 13:00:00            -            -   \n",
       "141661    2010-02-03 2010-01-23 19:00:00            -            -   \n",
       "141663    2010-02-04 2010-02-04 00:00:00            -            -   \n",
       "141664    2010-02-04 2010-01-02 00:00:00            -            -   \n",
       "...              ...                 ...          ...          ...   \n",
       "200021    2015-11-20 2015-10-16 00:00:00            -            -   \n",
       "200022    2015-12-17 2015-12-02 00:00:00            -            -   \n",
       "200023    2015-12-22 2015-12-20 00:00:00            -            -   \n",
       "200024    2015-12-30 2015-12-28 00:00:00            -            -   \n",
       "200025    2015-12-31 2015-11-23 00:00:00            -            -   \n",
       "\n",
       "                     Claim Type       Claim Site  \n",
       "141265          Personal Injury       Checkpoint  \n",
       "141504          Property Damage                -  \n",
       "141661  Passenger Property Loss  Checked Baggage  \n",
       "141663                        -                -  \n",
       "141664                        -                -  \n",
       "...                         ...              ...  \n",
       "200021          Property Damage  Checked Baggage  \n",
       "200022          Property Damage  Checked Baggage  \n",
       "200023  Passenger Property Loss  Checked Baggage  \n",
       "200024  Passenger Property Loss  Checked Baggage  \n",
       "200025  Passenger Property Loss       Checkpoint  \n",
       "\n",
       "[421 rows x 6 columns]"
      ]
     },
     "execution_count": 31,
     "metadata": {},
     "output_type": "execute_result"
    }
   ],
   "source": [
    "# Menampilkan data yang memiliki value - pada Airport Code dan Airport Name\n",
    "\n",
    "df.loc[df[\"Airport Code\"] == \"-\"]"
   ]
  },
  {
   "cell_type": "code",
   "execution_count": 32,
   "metadata": {},
   "outputs": [
    {
     "data": {
      "text/html": [
       "<div>\n",
       "<style scoped>\n",
       "    .dataframe tbody tr th:only-of-type {\n",
       "        vertical-align: middle;\n",
       "    }\n",
       "\n",
       "    .dataframe tbody tr th {\n",
       "        vertical-align: top;\n",
       "    }\n",
       "\n",
       "    .dataframe thead th {\n",
       "        text-align: right;\n",
       "    }\n",
       "</style>\n",
       "<table border=\"1\" class=\"dataframe\">\n",
       "  <thead>\n",
       "    <tr style=\"text-align: right;\">\n",
       "      <th></th>\n",
       "      <th>Date Received</th>\n",
       "      <th>Incident Date</th>\n",
       "      <th>Airport Code</th>\n",
       "      <th>Airport Name</th>\n",
       "      <th>Claim Type</th>\n",
       "      <th>Claim Site</th>\n",
       "    </tr>\n",
       "  </thead>\n",
       "  <tbody>\n",
       "    <tr>\n",
       "      <th>36940</th>\n",
       "      <td>2004-06-29</td>\n",
       "      <td>2004-05-26</td>\n",
       "      <td>ZZX</td>\n",
       "      <td>Non TSA Airport (motor vehicle)</td>\n",
       "      <td>Property Damage</td>\n",
       "      <td>Checked Baggage</td>\n",
       "    </tr>\n",
       "    <tr>\n",
       "      <th>66233</th>\n",
       "      <td>2005-07-28</td>\n",
       "      <td>2005-07-11</td>\n",
       "      <td>ZZX</td>\n",
       "      <td>Non TSA Airport (motor vehicle)</td>\n",
       "      <td>Property Damage</td>\n",
       "      <td>Checked Baggage</td>\n",
       "    </tr>\n",
       "    <tr>\n",
       "      <th>81238</th>\n",
       "      <td>2006-04-24</td>\n",
       "      <td>2006-02-24</td>\n",
       "      <td>ZZX</td>\n",
       "      <td>Non TSA Airport (motor vehicle)</td>\n",
       "      <td>Property Damage</td>\n",
       "      <td>Other</td>\n",
       "    </tr>\n",
       "    <tr>\n",
       "      <th>103497</th>\n",
       "      <td>2007-07-09</td>\n",
       "      <td>2007-05-30</td>\n",
       "      <td>ZZX</td>\n",
       "      <td>Non TSA Airport (motor vehicle)</td>\n",
       "      <td>Motor Vehicle</td>\n",
       "      <td>Motor Vehicle</td>\n",
       "    </tr>\n",
       "    <tr>\n",
       "      <th>104731</th>\n",
       "      <td>2007-08-01</td>\n",
       "      <td>2007-06-07</td>\n",
       "      <td>ZZX</td>\n",
       "      <td>Non TSA Airport (motor vehicle)</td>\n",
       "      <td>Motor Vehicle</td>\n",
       "      <td>Motor Vehicle</td>\n",
       "    </tr>\n",
       "    <tr>\n",
       "      <th>...</th>\n",
       "      <td>...</td>\n",
       "      <td>...</td>\n",
       "      <td>...</td>\n",
       "      <td>...</td>\n",
       "      <td>...</td>\n",
       "      <td>...</td>\n",
       "    </tr>\n",
       "    <tr>\n",
       "      <th>199962</th>\n",
       "      <td>2015-09-29</td>\n",
       "      <td>2015-09-22</td>\n",
       "      <td>ZZX</td>\n",
       "      <td>Non TSA Airport (motor vehicle)</td>\n",
       "      <td>Motor Vehicle</td>\n",
       "      <td>Motor Vehicle</td>\n",
       "    </tr>\n",
       "    <tr>\n",
       "      <th>199963</th>\n",
       "      <td>2015-10-13</td>\n",
       "      <td>2015-07-16</td>\n",
       "      <td>ZZX</td>\n",
       "      <td>Non TSA Airport (motor vehicle)</td>\n",
       "      <td>Motor Vehicle</td>\n",
       "      <td>Motor Vehicle</td>\n",
       "    </tr>\n",
       "    <tr>\n",
       "      <th>199964</th>\n",
       "      <td>2015-10-20</td>\n",
       "      <td>2015-09-29</td>\n",
       "      <td>ZZX</td>\n",
       "      <td>Non TSA Airport (motor vehicle)</td>\n",
       "      <td>Motor Vehicle</td>\n",
       "      <td>Motor Vehicle</td>\n",
       "    </tr>\n",
       "    <tr>\n",
       "      <th>199965</th>\n",
       "      <td>2015-12-08</td>\n",
       "      <td>2014-12-03</td>\n",
       "      <td>ZZX</td>\n",
       "      <td>Non TSA Airport (motor vehicle)</td>\n",
       "      <td>Motor Vehicle</td>\n",
       "      <td>Motor Vehicle</td>\n",
       "    </tr>\n",
       "    <tr>\n",
       "      <th>199966</th>\n",
       "      <td>2015-12-15</td>\n",
       "      <td>2015-05-08</td>\n",
       "      <td>ZZX</td>\n",
       "      <td>Non TSA Airport (motor vehicle)</td>\n",
       "      <td>Motor Vehicle</td>\n",
       "      <td>Motor Vehicle</td>\n",
       "    </tr>\n",
       "  </tbody>\n",
       "</table>\n",
       "<p>249 rows × 6 columns</p>\n",
       "</div>"
      ],
      "text/plain": [
       "       Date Received Incident Date Airport Code  \\\n",
       "36940     2004-06-29    2004-05-26          ZZX   \n",
       "66233     2005-07-28    2005-07-11          ZZX   \n",
       "81238     2006-04-24    2006-02-24          ZZX   \n",
       "103497    2007-07-09    2007-05-30          ZZX   \n",
       "104731    2007-08-01    2007-06-07          ZZX   \n",
       "...              ...           ...          ...   \n",
       "199962    2015-09-29    2015-09-22          ZZX   \n",
       "199963    2015-10-13    2015-07-16          ZZX   \n",
       "199964    2015-10-20    2015-09-29          ZZX   \n",
       "199965    2015-12-08    2014-12-03          ZZX   \n",
       "199966    2015-12-15    2015-05-08          ZZX   \n",
       "\n",
       "                           Airport Name       Claim Type       Claim Site  \n",
       "36940   Non TSA Airport (motor vehicle)  Property Damage  Checked Baggage  \n",
       "66233   Non TSA Airport (motor vehicle)  Property Damage  Checked Baggage  \n",
       "81238   Non TSA Airport (motor vehicle)  Property Damage            Other  \n",
       "103497  Non TSA Airport (motor vehicle)    Motor Vehicle    Motor Vehicle  \n",
       "104731  Non TSA Airport (motor vehicle)    Motor Vehicle    Motor Vehicle  \n",
       "...                                 ...              ...              ...  \n",
       "199962  Non TSA Airport (motor vehicle)    Motor Vehicle    Motor Vehicle  \n",
       "199963  Non TSA Airport (motor vehicle)    Motor Vehicle    Motor Vehicle  \n",
       "199964  Non TSA Airport (motor vehicle)    Motor Vehicle    Motor Vehicle  \n",
       "199965  Non TSA Airport (motor vehicle)    Motor Vehicle    Motor Vehicle  \n",
       "199966  Non TSA Airport (motor vehicle)    Motor Vehicle    Motor Vehicle  \n",
       "\n",
       "[249 rows x 6 columns]"
      ]
     },
     "execution_count": 32,
     "metadata": {},
     "output_type": "execute_result"
    }
   ],
   "source": [
    "df.loc[df[\"Airport Name\"] == \"Non TSA Airport (motor vehicle)\"]"
   ]
  },
  {
   "cell_type": "code",
   "execution_count": 33,
   "metadata": {},
   "outputs": [
    {
     "data": {
      "text/plain": [
       "Airport Code\n",
       "-                                                   [-]\n",
       "ABE    [Lehigh Valley International Airport; Allentown]\n",
       "ABI                                  [Abilene Regional]\n",
       "ABQ         [Albuquerque International Sunport Airport]\n",
       "ABR                         [Aberdeen Regional Airport]\n",
       "                             ...                       \n",
       "YKM                    [Yakima Air Terminal-Mcallister]\n",
       "YNG                        [Youngstown-Warren Regional]\n",
       "YUM                        [Yuma International Airport]\n",
       "ZZX                   [Non TSA Airport (motor vehicle)]\n",
       "ZZZ                       [Unspecified Personal Injury]\n",
       "Name: Airport Name, Length: 465, dtype: object"
      ]
     },
     "execution_count": 33,
     "metadata": {},
     "output_type": "execute_result"
    }
   ],
   "source": [
    "df.groupby('Airport Code')['Airport Name'].unique()"
   ]
  },
  {
   "cell_type": "code",
   "execution_count": 34,
   "metadata": {},
   "outputs": [],
   "source": [
    "# Menghilangkan data yang memiliki value (-) pada Airport Code dan Airport Name\n",
    "\n",
    "df_baru = df.loc[df[\"Airport Name\"] != \"-\"]\n",
    "df = df_baru"
   ]
  },
  {
   "attachments": {},
   "cell_type": "markdown",
   "metadata": {},
   "source": [
    "Selain (-), pada kolom Airport Name juga terdapat value berupa *Unspecified Personal  Injury* dam *Non TSA Airport (motor vehicle)*. Padahal seharusnya kolom Airport Name hanya berisikan nama nama bandara. Baik value *Unspecified Personal  Injury* dan *Non TSA Airport (motor vehicle)*, keduanya tidak bisa diganti dengan value nama bandara tertentu karena akan menimbulkan bisa saat melakukan analisis nantinya. Oleh karena itu data data yang memiliki value tersebut akan dihapus."
   ]
  },
  {
   "cell_type": "code",
   "execution_count": 35,
   "metadata": {},
   "outputs": [
    {
     "data": {
      "text/html": [
       "<div>\n",
       "<style scoped>\n",
       "    .dataframe tbody tr th:only-of-type {\n",
       "        vertical-align: middle;\n",
       "    }\n",
       "\n",
       "    .dataframe tbody tr th {\n",
       "        vertical-align: top;\n",
       "    }\n",
       "\n",
       "    .dataframe thead th {\n",
       "        text-align: right;\n",
       "    }\n",
       "</style>\n",
       "<table border=\"1\" class=\"dataframe\">\n",
       "  <thead>\n",
       "    <tr style=\"text-align: right;\">\n",
       "      <th></th>\n",
       "      <th>Date Received</th>\n",
       "      <th>Incident Date</th>\n",
       "      <th>Airport Code</th>\n",
       "      <th>Airport Name</th>\n",
       "      <th>Claim Type</th>\n",
       "      <th>Claim Site</th>\n",
       "    </tr>\n",
       "  </thead>\n",
       "  <tbody>\n",
       "    <tr>\n",
       "      <th>164793</th>\n",
       "      <td>2012-03-05</td>\n",
       "      <td>2010-03-09 00:00:00</td>\n",
       "      <td>ZZZ</td>\n",
       "      <td>Unspecified Personal Injury</td>\n",
       "      <td>Personal Injury</td>\n",
       "      <td>Other</td>\n",
       "    </tr>\n",
       "    <tr>\n",
       "      <th>168476</th>\n",
       "      <td>2012-07-17</td>\n",
       "      <td>2012-05-14 00:00:00</td>\n",
       "      <td>ZZZ</td>\n",
       "      <td>Unspecified Personal Injury</td>\n",
       "      <td>Personal Injury</td>\n",
       "      <td>Motor Vehicle</td>\n",
       "    </tr>\n",
       "    <tr>\n",
       "      <th>171621</th>\n",
       "      <td>2012-11-09</td>\n",
       "      <td>2012-10-15 00:00:00</td>\n",
       "      <td>ZZZ</td>\n",
       "      <td>Unspecified Personal Injury</td>\n",
       "      <td>Personal Injury</td>\n",
       "      <td>Other</td>\n",
       "    </tr>\n",
       "    <tr>\n",
       "      <th>176104</th>\n",
       "      <td>2013-05-01</td>\n",
       "      <td>2013-03-01 21:40:00</td>\n",
       "      <td>ZZZ</td>\n",
       "      <td>Unspecified Personal Injury</td>\n",
       "      <td>Personal Injury</td>\n",
       "      <td>Checkpoint</td>\n",
       "    </tr>\n",
       "    <tr>\n",
       "      <th>177227</th>\n",
       "      <td>2013-06-12</td>\n",
       "      <td>2012-06-09 02:00:00</td>\n",
       "      <td>ZZZ</td>\n",
       "      <td>Unspecified Personal Injury</td>\n",
       "      <td>Personal Injury</td>\n",
       "      <td>Other</td>\n",
       "    </tr>\n",
       "    <tr>\n",
       "      <th>178860</th>\n",
       "      <td>2013-08-07</td>\n",
       "      <td>2013-08-02 00:00:00</td>\n",
       "      <td>ZZZ</td>\n",
       "      <td>Unspecified Personal Injury</td>\n",
       "      <td>Personal Injury</td>\n",
       "      <td>Motor Vehicle</td>\n",
       "    </tr>\n",
       "    <tr>\n",
       "      <th>180863</th>\n",
       "      <td>2013-10-22</td>\n",
       "      <td>2013-03-08 00:00:00</td>\n",
       "      <td>ZZZ</td>\n",
       "      <td>Unspecified Personal Injury</td>\n",
       "      <td>Personal Injury</td>\n",
       "      <td>Motor Vehicle</td>\n",
       "    </tr>\n",
       "    <tr>\n",
       "      <th>180928</th>\n",
       "      <td>2013-10-25</td>\n",
       "      <td>2013-09-26 00:00:00</td>\n",
       "      <td>ZZZ</td>\n",
       "      <td>Unspecified Personal Injury</td>\n",
       "      <td>Personal Injury</td>\n",
       "      <td>Motor Vehicle</td>\n",
       "    </tr>\n",
       "    <tr>\n",
       "      <th>181619</th>\n",
       "      <td>2013-11-21</td>\n",
       "      <td>2013-11-09 09:00:00</td>\n",
       "      <td>ZZZ</td>\n",
       "      <td>Unspecified Personal Injury</td>\n",
       "      <td>Complaint</td>\n",
       "      <td>Other</td>\n",
       "    </tr>\n",
       "    <tr>\n",
       "      <th>182595</th>\n",
       "      <td>2014-02-03</td>\n",
       "      <td>2012-02-04 00:00:00</td>\n",
       "      <td>ZZZ</td>\n",
       "      <td>Unspecified Personal Injury</td>\n",
       "      <td>Personal Injury</td>\n",
       "      <td>Other</td>\n",
       "    </tr>\n",
       "    <tr>\n",
       "      <th>183622</th>\n",
       "      <td>2014-02-10</td>\n",
       "      <td>2013-03-20 00:00:00</td>\n",
       "      <td>ZZZ</td>\n",
       "      <td>Unspecified Personal Injury</td>\n",
       "      <td>Personal Injury</td>\n",
       "      <td>Motor Vehicle</td>\n",
       "    </tr>\n",
       "    <tr>\n",
       "      <th>185419</th>\n",
       "      <td>2014-05-12</td>\n",
       "      <td>2013-01-21 00:00:00</td>\n",
       "      <td>ZZZ</td>\n",
       "      <td>Unspecified Personal Injury</td>\n",
       "      <td>Personal Injury</td>\n",
       "      <td>Other</td>\n",
       "    </tr>\n",
       "    <tr>\n",
       "      <th>199967</th>\n",
       "      <td>2015-07-16</td>\n",
       "      <td>2013-07-18 00:00:00</td>\n",
       "      <td>ZZZ</td>\n",
       "      <td>Unspecified Personal Injury</td>\n",
       "      <td>Personal Injury</td>\n",
       "      <td>Other</td>\n",
       "    </tr>\n",
       "    <tr>\n",
       "      <th>199968</th>\n",
       "      <td>2015-10-16</td>\n",
       "      <td>2014-11-12 00:00:00</td>\n",
       "      <td>ZZZ</td>\n",
       "      <td>Unspecified Personal Injury</td>\n",
       "      <td>Personal Injury</td>\n",
       "      <td>Motor Vehicle</td>\n",
       "    </tr>\n",
       "  </tbody>\n",
       "</table>\n",
       "</div>"
      ],
      "text/plain": [
       "       Date Received       Incident Date Airport Code  \\\n",
       "164793    2012-03-05 2010-03-09 00:00:00          ZZZ   \n",
       "168476    2012-07-17 2012-05-14 00:00:00          ZZZ   \n",
       "171621    2012-11-09 2012-10-15 00:00:00          ZZZ   \n",
       "176104    2013-05-01 2013-03-01 21:40:00          ZZZ   \n",
       "177227    2013-06-12 2012-06-09 02:00:00          ZZZ   \n",
       "178860    2013-08-07 2013-08-02 00:00:00          ZZZ   \n",
       "180863    2013-10-22 2013-03-08 00:00:00          ZZZ   \n",
       "180928    2013-10-25 2013-09-26 00:00:00          ZZZ   \n",
       "181619    2013-11-21 2013-11-09 09:00:00          ZZZ   \n",
       "182595    2014-02-03 2012-02-04 00:00:00          ZZZ   \n",
       "183622    2014-02-10 2013-03-20 00:00:00          ZZZ   \n",
       "185419    2014-05-12 2013-01-21 00:00:00          ZZZ   \n",
       "199967    2015-07-16 2013-07-18 00:00:00          ZZZ   \n",
       "199968    2015-10-16 2014-11-12 00:00:00          ZZZ   \n",
       "\n",
       "                       Airport Name       Claim Type     Claim Site  \n",
       "164793  Unspecified Personal Injury  Personal Injury          Other  \n",
       "168476  Unspecified Personal Injury  Personal Injury  Motor Vehicle  \n",
       "171621  Unspecified Personal Injury  Personal Injury          Other  \n",
       "176104  Unspecified Personal Injury  Personal Injury     Checkpoint  \n",
       "177227  Unspecified Personal Injury  Personal Injury          Other  \n",
       "178860  Unspecified Personal Injury  Personal Injury  Motor Vehicle  \n",
       "180863  Unspecified Personal Injury  Personal Injury  Motor Vehicle  \n",
       "180928  Unspecified Personal Injury  Personal Injury  Motor Vehicle  \n",
       "181619  Unspecified Personal Injury        Complaint          Other  \n",
       "182595  Unspecified Personal Injury  Personal Injury          Other  \n",
       "183622  Unspecified Personal Injury  Personal Injury  Motor Vehicle  \n",
       "185419  Unspecified Personal Injury  Personal Injury          Other  \n",
       "199967  Unspecified Personal Injury  Personal Injury          Other  \n",
       "199968  Unspecified Personal Injury  Personal Injury  Motor Vehicle  "
      ]
     },
     "execution_count": 35,
     "metadata": {},
     "output_type": "execute_result"
    }
   ],
   "source": [
    "# Menampilkan data yang memiliki value Unspecified Personal Injury pada Airport Name\n",
    "\n",
    "df.loc[df[\"Airport Name\"] == \"Unspecified Personal Injury\"]"
   ]
  },
  {
   "cell_type": "code",
   "execution_count": 36,
   "metadata": {},
   "outputs": [],
   "source": [
    "# Menghilangkan data yang memiliki value Unspecified Personal Injury pada Airport Name\n",
    "\n",
    "df_baru = df.loc[df[\"Airport Name\"] != \"Unspecified Personal Injury\"]\n",
    "df = df_baru"
   ]
  },
  {
   "cell_type": "code",
   "execution_count": 37,
   "metadata": {},
   "outputs": [
    {
     "data": {
      "text/html": [
       "<div>\n",
       "<style scoped>\n",
       "    .dataframe tbody tr th:only-of-type {\n",
       "        vertical-align: middle;\n",
       "    }\n",
       "\n",
       "    .dataframe tbody tr th {\n",
       "        vertical-align: top;\n",
       "    }\n",
       "\n",
       "    .dataframe thead th {\n",
       "        text-align: right;\n",
       "    }\n",
       "</style>\n",
       "<table border=\"1\" class=\"dataframe\">\n",
       "  <thead>\n",
       "    <tr style=\"text-align: right;\">\n",
       "      <th></th>\n",
       "      <th>Date Received</th>\n",
       "      <th>Incident Date</th>\n",
       "      <th>Airport Code</th>\n",
       "      <th>Airport Name</th>\n",
       "      <th>Claim Type</th>\n",
       "      <th>Claim Site</th>\n",
       "    </tr>\n",
       "  </thead>\n",
       "  <tbody>\n",
       "    <tr>\n",
       "      <th>36940</th>\n",
       "      <td>2004-06-29</td>\n",
       "      <td>2004-05-26</td>\n",
       "      <td>ZZX</td>\n",
       "      <td>Non TSA Airport (motor vehicle)</td>\n",
       "      <td>Property Damage</td>\n",
       "      <td>Checked Baggage</td>\n",
       "    </tr>\n",
       "    <tr>\n",
       "      <th>66233</th>\n",
       "      <td>2005-07-28</td>\n",
       "      <td>2005-07-11</td>\n",
       "      <td>ZZX</td>\n",
       "      <td>Non TSA Airport (motor vehicle)</td>\n",
       "      <td>Property Damage</td>\n",
       "      <td>Checked Baggage</td>\n",
       "    </tr>\n",
       "    <tr>\n",
       "      <th>81238</th>\n",
       "      <td>2006-04-24</td>\n",
       "      <td>2006-02-24</td>\n",
       "      <td>ZZX</td>\n",
       "      <td>Non TSA Airport (motor vehicle)</td>\n",
       "      <td>Property Damage</td>\n",
       "      <td>Other</td>\n",
       "    </tr>\n",
       "    <tr>\n",
       "      <th>103497</th>\n",
       "      <td>2007-07-09</td>\n",
       "      <td>2007-05-30</td>\n",
       "      <td>ZZX</td>\n",
       "      <td>Non TSA Airport (motor vehicle)</td>\n",
       "      <td>Motor Vehicle</td>\n",
       "      <td>Motor Vehicle</td>\n",
       "    </tr>\n",
       "    <tr>\n",
       "      <th>104731</th>\n",
       "      <td>2007-08-01</td>\n",
       "      <td>2007-06-07</td>\n",
       "      <td>ZZX</td>\n",
       "      <td>Non TSA Airport (motor vehicle)</td>\n",
       "      <td>Motor Vehicle</td>\n",
       "      <td>Motor Vehicle</td>\n",
       "    </tr>\n",
       "    <tr>\n",
       "      <th>...</th>\n",
       "      <td>...</td>\n",
       "      <td>...</td>\n",
       "      <td>...</td>\n",
       "      <td>...</td>\n",
       "      <td>...</td>\n",
       "      <td>...</td>\n",
       "    </tr>\n",
       "    <tr>\n",
       "      <th>199962</th>\n",
       "      <td>2015-09-29</td>\n",
       "      <td>2015-09-22</td>\n",
       "      <td>ZZX</td>\n",
       "      <td>Non TSA Airport (motor vehicle)</td>\n",
       "      <td>Motor Vehicle</td>\n",
       "      <td>Motor Vehicle</td>\n",
       "    </tr>\n",
       "    <tr>\n",
       "      <th>199963</th>\n",
       "      <td>2015-10-13</td>\n",
       "      <td>2015-07-16</td>\n",
       "      <td>ZZX</td>\n",
       "      <td>Non TSA Airport (motor vehicle)</td>\n",
       "      <td>Motor Vehicle</td>\n",
       "      <td>Motor Vehicle</td>\n",
       "    </tr>\n",
       "    <tr>\n",
       "      <th>199964</th>\n",
       "      <td>2015-10-20</td>\n",
       "      <td>2015-09-29</td>\n",
       "      <td>ZZX</td>\n",
       "      <td>Non TSA Airport (motor vehicle)</td>\n",
       "      <td>Motor Vehicle</td>\n",
       "      <td>Motor Vehicle</td>\n",
       "    </tr>\n",
       "    <tr>\n",
       "      <th>199965</th>\n",
       "      <td>2015-12-08</td>\n",
       "      <td>2014-12-03</td>\n",
       "      <td>ZZX</td>\n",
       "      <td>Non TSA Airport (motor vehicle)</td>\n",
       "      <td>Motor Vehicle</td>\n",
       "      <td>Motor Vehicle</td>\n",
       "    </tr>\n",
       "    <tr>\n",
       "      <th>199966</th>\n",
       "      <td>2015-12-15</td>\n",
       "      <td>2015-05-08</td>\n",
       "      <td>ZZX</td>\n",
       "      <td>Non TSA Airport (motor vehicle)</td>\n",
       "      <td>Motor Vehicle</td>\n",
       "      <td>Motor Vehicle</td>\n",
       "    </tr>\n",
       "  </tbody>\n",
       "</table>\n",
       "<p>249 rows × 6 columns</p>\n",
       "</div>"
      ],
      "text/plain": [
       "       Date Received Incident Date Airport Code  \\\n",
       "36940     2004-06-29    2004-05-26          ZZX   \n",
       "66233     2005-07-28    2005-07-11          ZZX   \n",
       "81238     2006-04-24    2006-02-24          ZZX   \n",
       "103497    2007-07-09    2007-05-30          ZZX   \n",
       "104731    2007-08-01    2007-06-07          ZZX   \n",
       "...              ...           ...          ...   \n",
       "199962    2015-09-29    2015-09-22          ZZX   \n",
       "199963    2015-10-13    2015-07-16          ZZX   \n",
       "199964    2015-10-20    2015-09-29          ZZX   \n",
       "199965    2015-12-08    2014-12-03          ZZX   \n",
       "199966    2015-12-15    2015-05-08          ZZX   \n",
       "\n",
       "                           Airport Name       Claim Type       Claim Site  \n",
       "36940   Non TSA Airport (motor vehicle)  Property Damage  Checked Baggage  \n",
       "66233   Non TSA Airport (motor vehicle)  Property Damage  Checked Baggage  \n",
       "81238   Non TSA Airport (motor vehicle)  Property Damage            Other  \n",
       "103497  Non TSA Airport (motor vehicle)    Motor Vehicle    Motor Vehicle  \n",
       "104731  Non TSA Airport (motor vehicle)    Motor Vehicle    Motor Vehicle  \n",
       "...                                 ...              ...              ...  \n",
       "199962  Non TSA Airport (motor vehicle)    Motor Vehicle    Motor Vehicle  \n",
       "199963  Non TSA Airport (motor vehicle)    Motor Vehicle    Motor Vehicle  \n",
       "199964  Non TSA Airport (motor vehicle)    Motor Vehicle    Motor Vehicle  \n",
       "199965  Non TSA Airport (motor vehicle)    Motor Vehicle    Motor Vehicle  \n",
       "199966  Non TSA Airport (motor vehicle)    Motor Vehicle    Motor Vehicle  \n",
       "\n",
       "[249 rows x 6 columns]"
      ]
     },
     "execution_count": 37,
     "metadata": {},
     "output_type": "execute_result"
    }
   ],
   "source": [
    "# Menampilkan data yang memiliki value Non TSA Airport (motor vehicle) pada Airport Name\n",
    "\n",
    "df.loc[df[\"Airport Name\"] == \"Non TSA Airport (motor vehicle)\"]"
   ]
  },
  {
   "cell_type": "code",
   "execution_count": 38,
   "metadata": {},
   "outputs": [],
   "source": [
    "# Menghilangkan data yang memiliki value Non TSA Airport (motor vehicle) pada Airport Name\n",
    "\n",
    "df_baru = df.loc[df[\"Airport Name\"] != \"Non TSA Airport (motor vehicle)\"]\n",
    "df = df_baru"
   ]
  },
  {
   "attachments": {},
   "cell_type": "markdown",
   "metadata": {},
   "source": [
    "# Claim Type dan Claim Site\n",
    "Claim Type dan Claim Site merupakan data kategorikal. Untuk menangani missing value pada data tersebut dapat dilakukan dengan membuat kategori Other. "
   ]
  },
  {
   "cell_type": "code",
   "execution_count": 39,
   "metadata": {},
   "outputs": [
    {
     "data": {
      "text/plain": [
       "Claim Type    5381\n",
       "Claim Site     341\n",
       "dtype: int64"
      ]
     },
     "execution_count": 39,
     "metadata": {},
     "output_type": "execute_result"
    }
   ],
   "source": [
    "# Jumlah missing value pada Claim Type dan Claim Site\n",
    "\n",
    "df[['Claim Type', 'Claim Site']].isna().sum()"
   ]
  },
  {
   "cell_type": "code",
   "execution_count": 40,
   "metadata": {},
   "outputs": [],
   "source": [
    "# Mengubah missing value pada kolom Claim Type dan Claim Site dengan other\n",
    "\n",
    "df[['Claim Type', 'Claim Site']] = df[['Claim Type', 'Claim Site']].fillna('Other')"
   ]
  },
  {
   "cell_type": "code",
   "execution_count": 41,
   "metadata": {},
   "outputs": [
    {
     "data": {
      "text/plain": [
       "Claim Type    0\n",
       "Claim Site    0\n",
       "dtype: int64"
      ]
     },
     "execution_count": 41,
     "metadata": {},
     "output_type": "execute_result"
    }
   ],
   "source": [
    "# Jumlah missing value setelah dilakukan pengubahan missing value menjadi Other\n",
    "\n",
    "df[['Claim Type', 'Claim Site']].isna().sum()"
   ]
  },
  {
   "attachments": {},
   "cell_type": "markdown",
   "metadata": {},
   "source": [
    "Berdasarkan informasi di atas, kolom Claim Type dan Claim Site sudah tidak lagi memiliki missing value. Setelah dilakukan pengecekan lebih lanjut, pada kolom Claim Type dan Claim Site terdapat beberapa value (-). Value tersebut akan diubah juga menjadi kategori Other."
   ]
  },
  {
   "attachments": {},
   "cell_type": "markdown",
   "metadata": {},
   "source": [
    "* Claim Type"
   ]
  },
  {
   "cell_type": "code",
   "execution_count": 42,
   "metadata": {},
   "outputs": [
    {
     "data": {
      "text/plain": [
       "Passenger Property Loss    113569\n",
       "Property Damage             70757\n",
       "Other                        5381\n",
       "Personal Injury              1372\n",
       "Employee Loss (MPCECA)        460\n",
       "Passenger Theft               446\n",
       "-                             196\n",
       "Motor Vehicle                 171\n",
       "Complaint                      44\n",
       "Wrongful Death                  3\n",
       "Compliment                      2\n",
       "Bus Terminal                    1\n",
       "Name: Claim Type, dtype: int64"
      ]
     },
     "execution_count": 42,
     "metadata": {},
     "output_type": "execute_result"
    }
   ],
   "source": [
    "# Jumlah setiap value pada kolom Claim Type\n",
    "\n",
    "df['Claim Type'].value_counts()"
   ]
  },
  {
   "cell_type": "code",
   "execution_count": 43,
   "metadata": {},
   "outputs": [],
   "source": [
    "# Mengubah value - pada kolom Claim Type menjadi Other\n",
    "\n",
    "df.loc[df['Claim Type'] == '-', 'Claim Type'] = 'Other'"
   ]
  },
  {
   "cell_type": "code",
   "execution_count": 44,
   "metadata": {},
   "outputs": [
    {
     "data": {
      "text/plain": [
       "Passenger Property Loss    113569\n",
       "Property Damage             70757\n",
       "Other                        5577\n",
       "Personal Injury              1372\n",
       "Employee Loss (MPCECA)        460\n",
       "Passenger Theft               446\n",
       "Motor Vehicle                 171\n",
       "Complaint                      44\n",
       "Wrongful Death                  3\n",
       "Compliment                      2\n",
       "Bus Terminal                    1\n",
       "Name: Claim Type, dtype: int64"
      ]
     },
     "execution_count": 44,
     "metadata": {},
     "output_type": "execute_result"
    }
   ],
   "source": [
    "# Jumlah setiap value pada kolom Claim Type setelah dilakukan pengubahan\n",
    "\n",
    "df['Claim Type'].value_counts()"
   ]
  },
  {
   "attachments": {},
   "cell_type": "markdown",
   "metadata": {},
   "source": [
    "* Claim Site"
   ]
  },
  {
   "cell_type": "code",
   "execution_count": 45,
   "metadata": {},
   "outputs": [
    {
     "data": {
      "text/plain": [
       "Checked Baggage    152237\n",
       "Checkpoint          38133\n",
       "Other                1654\n",
       "Motor Vehicle         195\n",
       "-                     168\n",
       "Bus Station            15\n",
       "Name: Claim Site, dtype: int64"
      ]
     },
     "execution_count": 45,
     "metadata": {},
     "output_type": "execute_result"
    }
   ],
   "source": [
    "# Jumlah setiap value pada kolom Claim Type\n",
    "\n",
    "df['Claim Site'].value_counts()"
   ]
  },
  {
   "cell_type": "code",
   "execution_count": 46,
   "metadata": {},
   "outputs": [],
   "source": [
    "# Mengubah value - pada kolom Claim Site menjadi Other\n",
    "\n",
    "df.loc[df['Claim Site'] == '-', 'Claim Site'] = 'Other'"
   ]
  },
  {
   "cell_type": "code",
   "execution_count": 47,
   "metadata": {},
   "outputs": [
    {
     "data": {
      "text/plain": [
       "Checked Baggage    152237\n",
       "Checkpoint          38133\n",
       "Other                1822\n",
       "Motor Vehicle         195\n",
       "Bus Station            15\n",
       "Name: Claim Site, dtype: int64"
      ]
     },
     "execution_count": 47,
     "metadata": {},
     "output_type": "execute_result"
    }
   ],
   "source": [
    "# Jumlah setiap value pada kolom Claim Site setelah dilakukan pengubahan\n",
    "\n",
    "df['Claim Site'].value_counts()"
   ]
  },
  {
   "cell_type": "code",
   "execution_count": 48,
   "metadata": {},
   "outputs": [
    {
     "data": {
      "text/plain": [
       "Date Received    0\n",
       "Incident Date    0\n",
       "Airport Code     0\n",
       "Airport Name     0\n",
       "Claim Type       0\n",
       "Claim Site       0\n",
       "dtype: int64"
      ]
     },
     "execution_count": 48,
     "metadata": {},
     "output_type": "execute_result"
    }
   ],
   "source": [
    "# Semua kolom yang akan dipakai dalam analisis sudah tidak ada missing value\n",
    "\n",
    "df.isna().sum()\n"
   ]
  },
  {
   "attachments": {},
   "cell_type": "markdown",
   "metadata": {},
   "source": [
    "# Cleaned Data\n",
    "Tahapan Understanding dan Cleaning Data sudah selesai, berikut informasi umum dari data yang sudah dibersihkan."
   ]
  },
  {
   "cell_type": "code",
   "execution_count": 49,
   "metadata": {},
   "outputs": [
    {
     "name": "stdout",
     "output_type": "stream",
     "text": [
      "(192402, 6)\n"
     ]
    },
    {
     "data": {
      "text/html": [
       "<div>\n",
       "<style scoped>\n",
       "    .dataframe tbody tr th:only-of-type {\n",
       "        vertical-align: middle;\n",
       "    }\n",
       "\n",
       "    .dataframe tbody tr th {\n",
       "        vertical-align: top;\n",
       "    }\n",
       "\n",
       "    .dataframe thead th {\n",
       "        text-align: right;\n",
       "    }\n",
       "</style>\n",
       "<table border=\"1\" class=\"dataframe\">\n",
       "  <thead>\n",
       "    <tr style=\"text-align: right;\">\n",
       "      <th></th>\n",
       "      <th>dataFeatures</th>\n",
       "      <th>dataType</th>\n",
       "      <th>null</th>\n",
       "      <th>unique</th>\n",
       "      <th>uniqueSample</th>\n",
       "    </tr>\n",
       "  </thead>\n",
       "  <tbody>\n",
       "    <tr>\n",
       "      <th>0</th>\n",
       "      <td>Date Received</td>\n",
       "      <td>datetime64[ns]</td>\n",
       "      <td>0</td>\n",
       "      <td>3892</td>\n",
       "      <td>[2007-04-24T00:00:00.000000000, 2014-01-31T00:00:00.000000000]</td>\n",
       "    </tr>\n",
       "    <tr>\n",
       "      <th>1</th>\n",
       "      <td>Incident Date</td>\n",
       "      <td>datetime64[ns]</td>\n",
       "      <td>0</td>\n",
       "      <td>26029</td>\n",
       "      <td>[2010-06-15T13:00:00.000000000, 2011-10-08T04:24:00.000000000]</td>\n",
       "    </tr>\n",
       "    <tr>\n",
       "      <th>2</th>\n",
       "      <td>Airport Code</td>\n",
       "      <td>object</td>\n",
       "      <td>0</td>\n",
       "      <td>462</td>\n",
       "      <td>[CRQ, PVU]</td>\n",
       "    </tr>\n",
       "    <tr>\n",
       "      <th>3</th>\n",
       "      <td>Airport Name</td>\n",
       "      <td>object</td>\n",
       "      <td>0</td>\n",
       "      <td>463</td>\n",
       "      <td>[Port Columbus International, Crescent City]</td>\n",
       "    </tr>\n",
       "    <tr>\n",
       "      <th>4</th>\n",
       "      <td>Claim Type</td>\n",
       "      <td>object</td>\n",
       "      <td>0</td>\n",
       "      <td>11</td>\n",
       "      <td>[Passenger Theft, Personal Injury]</td>\n",
       "    </tr>\n",
       "    <tr>\n",
       "      <th>5</th>\n",
       "      <td>Claim Site</td>\n",
       "      <td>object</td>\n",
       "      <td>0</td>\n",
       "      <td>5</td>\n",
       "      <td>[Bus Station, Other]</td>\n",
       "    </tr>\n",
       "  </tbody>\n",
       "</table>\n",
       "</div>"
      ],
      "text/plain": [
       "    dataFeatures        dataType  null  unique  \\\n",
       "0  Date Received  datetime64[ns]     0    3892   \n",
       "1  Incident Date  datetime64[ns]     0   26029   \n",
       "2   Airport Code          object     0     462   \n",
       "3   Airport Name          object     0     463   \n",
       "4     Claim Type          object     0      11   \n",
       "5     Claim Site          object     0       5   \n",
       "\n",
       "                                                     uniqueSample  \n",
       "0  [2007-04-24T00:00:00.000000000, 2014-01-31T00:00:00.000000000]  \n",
       "1  [2010-06-15T13:00:00.000000000, 2011-10-08T04:24:00.000000000]  \n",
       "2                                                      [CRQ, PVU]  \n",
       "3                    [Port Columbus International, Crescent City]  \n",
       "4                              [Passenger Theft, Personal Injury]  \n",
       "5                                            [Bus Station, Other]  "
      ]
     },
     "execution_count": 49,
     "metadata": {},
     "output_type": "execute_result"
    }
   ],
   "source": [
    "listItem = []\n",
    "for col in df.columns :\n",
    "    listItem.append([col, df[col].dtype, df[col].isna().sum(),\n",
    "                    df[col].nunique(), list(df[col].drop_duplicates().sample(2).values)]);\n",
    "\n",
    "dfDesc = pd.DataFrame(columns=['dataFeatures', 'dataType', 'null', 'unique', 'uniqueSample'],\n",
    "                    data=listItem)\n",
    "print(df.shape)\n",
    "dfDesc"
   ]
  },
  {
   "attachments": {},
   "cell_type": "markdown",
   "metadata": {},
   "source": [
    "Sebelum proses data cleaning, dataset tsa_claims secara keseluruhan memiliki 13 kolom dan 204267 baris. Setelah melalui proses data cleaning, sekarang dataset memiliki 6 kolom dan 192402 baris. Sekitar 11 ribu lebih data telah dihapus, baik data kosong, ataupun data yang tidak relevan pada kolom serta tidak dapat diganti dengan value lain.  "
   ]
  },
  {
   "attachments": {},
   "cell_type": "markdown",
   "metadata": {},
   "source": [
    "#  Data Analysis\n",
    "Proses data cleaning sudah seselai dilakukan. Selanjutkan data yang sudah bersih akan dianalisis untuk mencari tahu **Bagaimana karakteristik klaim yang diajukan oleh para penumpang di bandara**. "
   ]
  },
  {
   "cell_type": "code",
   "execution_count": 50,
   "metadata": {},
   "outputs": [
    {
     "name": "stdout",
     "output_type": "stream",
     "text": [
      "Jumlah Airport : 462, \n",
      "Jumlah Klaim : 192402\n"
     ]
    }
   ],
   "source": [
    "# Melihat jumlah airport dan jumlah klaim yang diajukan\n",
    "\n",
    "jumlah_airport = df['Airport Code'].value_counts()\n",
    "print(f'''Jumlah Airport : {jumlah_airport.count()}, \n",
    "Jumlah Klaim : {jumlah_airport.sum()}''')"
   ]
  },
  {
   "attachments": {},
   "cell_type": "markdown",
   "metadata": {},
   "source": [
    "Terdapat 462 airport dengan jumlah klaim yang diajukan sebanyak 192402. Analisis data akan dilakukan dengan melihat karakteristik :\n",
    "* Perkembangan jumlah klaim yang diajukan setiap tahun (2002 - 2015) \n",
    "* Jumlah klaim yang diajukan pada setiap bandara\n",
    "* Jenis klaim apa saja yang paling banyak dilaporkan\n",
    "* Titik lokasi yang paling banyak menerima pengajuan klaim"
   ]
  },
  {
   "attachments": {},
   "cell_type": "markdown",
   "metadata": {},
   "source": [
    "# Perkembangan jumlah klaim yang diajukan penumpang dari tahun 2002 - 2015"
   ]
  },
  {
   "cell_type": "code",
   "execution_count": 51,
   "metadata": {},
   "outputs": [
    {
     "data": {
      "text/html": [
       "<div>\n",
       "<style scoped>\n",
       "    .dataframe tbody tr th:only-of-type {\n",
       "        vertical-align: middle;\n",
       "    }\n",
       "\n",
       "    .dataframe tbody tr th {\n",
       "        vertical-align: top;\n",
       "    }\n",
       "\n",
       "    .dataframe thead th {\n",
       "        text-align: right;\n",
       "    }\n",
       "</style>\n",
       "<table border=\"1\" class=\"dataframe\">\n",
       "  <thead>\n",
       "    <tr style=\"text-align: right;\">\n",
       "      <th></th>\n",
       "      <th>Date Received</th>\n",
       "      <th>Incident Date</th>\n",
       "      <th>Airport Code</th>\n",
       "      <th>Airport Name</th>\n",
       "      <th>Claim Type</th>\n",
       "      <th>Claim Site</th>\n",
       "      <th>Year</th>\n",
       "    </tr>\n",
       "  </thead>\n",
       "  <tbody>\n",
       "    <tr>\n",
       "      <th>0</th>\n",
       "      <td>2002-06-20</td>\n",
       "      <td>2002-05-09</td>\n",
       "      <td>BWI</td>\n",
       "      <td>Baltimore/Washington Intl Thurgood Marshall</td>\n",
       "      <td>Other</td>\n",
       "      <td>Checkpoint</td>\n",
       "      <td>2002</td>\n",
       "    </tr>\n",
       "    <tr>\n",
       "      <th>1</th>\n",
       "      <td>2002-06-20</td>\n",
       "      <td>2002-06-16</td>\n",
       "      <td>PHX</td>\n",
       "      <td>Phoenix Sky Harbor International</td>\n",
       "      <td>Property Damage</td>\n",
       "      <td>Checkpoint</td>\n",
       "      <td>2002</td>\n",
       "    </tr>\n",
       "    <tr>\n",
       "      <th>2</th>\n",
       "      <td>2002-06-25</td>\n",
       "      <td>2002-05-04</td>\n",
       "      <td>ATL</td>\n",
       "      <td>Hartsfield-Jackson Atlanta International Airport</td>\n",
       "      <td>Passenger Property Loss</td>\n",
       "      <td>Checkpoint</td>\n",
       "      <td>2002</td>\n",
       "    </tr>\n",
       "    <tr>\n",
       "      <th>3</th>\n",
       "      <td>2002-07-08</td>\n",
       "      <td>2002-06-12</td>\n",
       "      <td>BWI</td>\n",
       "      <td>Baltimore/Washington Intl Thurgood Marshall</td>\n",
       "      <td>Other</td>\n",
       "      <td>Checkpoint</td>\n",
       "      <td>2002</td>\n",
       "    </tr>\n",
       "    <tr>\n",
       "      <th>4</th>\n",
       "      <td>2002-07-08</td>\n",
       "      <td>2002-06-04</td>\n",
       "      <td>BWI</td>\n",
       "      <td>Baltimore/Washington Intl Thurgood Marshall</td>\n",
       "      <td>Other</td>\n",
       "      <td>Other</td>\n",
       "      <td>2002</td>\n",
       "    </tr>\n",
       "  </tbody>\n",
       "</table>\n",
       "</div>"
      ],
      "text/plain": [
       "  Date Received Incident Date Airport Code  \\\n",
       "0    2002-06-20    2002-05-09          BWI   \n",
       "1    2002-06-20    2002-06-16          PHX   \n",
       "2    2002-06-25    2002-05-04          ATL   \n",
       "3    2002-07-08    2002-06-12          BWI   \n",
       "4    2002-07-08    2002-06-04          BWI   \n",
       "\n",
       "                                       Airport Name               Claim Type  \\\n",
       "0       Baltimore/Washington Intl Thurgood Marshall                    Other   \n",
       "1                  Phoenix Sky Harbor International          Property Damage   \n",
       "2  Hartsfield-Jackson Atlanta International Airport  Passenger Property Loss   \n",
       "3       Baltimore/Washington Intl Thurgood Marshall                    Other   \n",
       "4       Baltimore/Washington Intl Thurgood Marshall                    Other   \n",
       "\n",
       "   Claim Site  Year  \n",
       "0  Checkpoint  2002  \n",
       "1  Checkpoint  2002  \n",
       "2  Checkpoint  2002  \n",
       "3  Checkpoint  2002  \n",
       "4       Other  2002  "
      ]
     },
     "execution_count": 51,
     "metadata": {},
     "output_type": "execute_result"
    }
   ],
   "source": [
    "df['Year'] = df['Date Received'].dt.year\n",
    "df.head()"
   ]
  },
  {
   "cell_type": "code",
   "execution_count": 52,
   "metadata": {},
   "outputs": [
    {
     "data": {
      "text/html": [
       "<div>\n",
       "<style scoped>\n",
       "    .dataframe tbody tr th:only-of-type {\n",
       "        vertical-align: middle;\n",
       "    }\n",
       "\n",
       "    .dataframe tbody tr th {\n",
       "        vertical-align: top;\n",
       "    }\n",
       "\n",
       "    .dataframe thead th {\n",
       "        text-align: right;\n",
       "    }\n",
       "</style>\n",
       "<table border=\"1\" class=\"dataframe\">\n",
       "  <thead>\n",
       "    <tr style=\"text-align: right;\">\n",
       "      <th></th>\n",
       "      <th>Year</th>\n",
       "      <th>Airport Code</th>\n",
       "    </tr>\n",
       "  </thead>\n",
       "  <tbody>\n",
       "    <tr>\n",
       "      <th>0</th>\n",
       "      <td>2002</td>\n",
       "      <td>837</td>\n",
       "    </tr>\n",
       "    <tr>\n",
       "      <th>1</th>\n",
       "      <td>2003</td>\n",
       "      <td>17287</td>\n",
       "    </tr>\n",
       "    <tr>\n",
       "      <th>2</th>\n",
       "      <td>2004</td>\n",
       "      <td>27245</td>\n",
       "    </tr>\n",
       "    <tr>\n",
       "      <th>3</th>\n",
       "      <td>2005</td>\n",
       "      <td>23480</td>\n",
       "    </tr>\n",
       "    <tr>\n",
       "      <th>4</th>\n",
       "      <td>2006</td>\n",
       "      <td>18476</td>\n",
       "    </tr>\n",
       "    <tr>\n",
       "      <th>5</th>\n",
       "      <td>2007</td>\n",
       "      <td>18191</td>\n",
       "    </tr>\n",
       "    <tr>\n",
       "      <th>6</th>\n",
       "      <td>2008</td>\n",
       "      <td>16119</td>\n",
       "    </tr>\n",
       "    <tr>\n",
       "      <th>7</th>\n",
       "      <td>2009</td>\n",
       "      <td>12538</td>\n",
       "    </tr>\n",
       "    <tr>\n",
       "      <th>8</th>\n",
       "      <td>2010</td>\n",
       "      <td>10720</td>\n",
       "    </tr>\n",
       "    <tr>\n",
       "      <th>9</th>\n",
       "      <td>2011</td>\n",
       "      <td>10735</td>\n",
       "    </tr>\n",
       "    <tr>\n",
       "      <th>10</th>\n",
       "      <td>2012</td>\n",
       "      <td>9912</td>\n",
       "    </tr>\n",
       "    <tr>\n",
       "      <th>11</th>\n",
       "      <td>2013</td>\n",
       "      <td>9542</td>\n",
       "    </tr>\n",
       "    <tr>\n",
       "      <th>12</th>\n",
       "      <td>2014</td>\n",
       "      <td>8750</td>\n",
       "    </tr>\n",
       "    <tr>\n",
       "      <th>13</th>\n",
       "      <td>2015</td>\n",
       "      <td>8570</td>\n",
       "    </tr>\n",
       "  </tbody>\n",
       "</table>\n",
       "</div>"
      ],
      "text/plain": [
       "    Year  Airport Code\n",
       "0   2002           837\n",
       "1   2003         17287\n",
       "2   2004         27245\n",
       "3   2005         23480\n",
       "4   2006         18476\n",
       "5   2007         18191\n",
       "6   2008         16119\n",
       "7   2009         12538\n",
       "8   2010         10720\n",
       "9   2011         10735\n",
       "10  2012          9912\n",
       "11  2013          9542\n",
       "12  2014          8750\n",
       "13  2015          8570"
      ]
     },
     "execution_count": 52,
     "metadata": {},
     "output_type": "execute_result"
    }
   ],
   "source": [
    "claim_year = df.groupby('Year', as_index= False)['Airport Code'].count()\n",
    "claim_year"
   ]
  },
  {
   "cell_type": "code",
   "execution_count": 53,
   "metadata": {},
   "outputs": [
    {
     "name": "stderr",
     "output_type": "stream",
     "text": [
      "C:\\Users\\haqib\\AppData\\Local\\Temp\\ipykernel_30912\\1019148204.py:4: MatplotlibDeprecationWarning: The seaborn styles shipped by Matplotlib are deprecated since 3.6, as they no longer correspond to the styles shipped by seaborn. However, they will remain available as 'seaborn-v0_8-<style>'. Alternatively, directly use the seaborn API instead.\n",
      "  plt.style.use('seaborn')\n"
     ]
    },
    {
     "data": {
      "image/png": "[encoded data removed]",
      "text/plain": [
       "<Figure size 800x600 with 1 Axes>"
      ]
     },
     "metadata": {},
     "output_type": "display_data"
    }
   ],
   "source": [
    "x = claim_year['Year']\n",
    "y = claim_year['Airport Code']\n",
    "\n",
    "plt.style.use('seaborn')\n",
    "plt.figure(figsize=(8,6))\n",
    "plt.plot(x, y)\n",
    "plt.title('Jumlah Klaim setiap Tahun')\n",
    "plt.xlabel('Tahun', size=15)\n",
    "plt.ylabel('Jumlah Klaim')\n",
    "plt.show()"
   ]
  },
  {
   "attachments": {},
   "cell_type": "markdown",
   "metadata": {},
   "source": [
    "Berdasarkan Line Plot di atas, terlihat bahwa jumlah klaim yang paling sedikit terjadi pada tahun 2002. Kemudian pada tahun 2004 terjadi lonjakan yang tajam dan merupakan jumlah klaim tertinggi dari rentang tahun 2002 sampai 2015. Namun setelah tahun 2004, jumlah klaim cenderung menurun.\n"
   ]
  },
  {
   "attachments": {},
   "cell_type": "markdown",
   "metadata": {},
   "source": [
    "# Jumlah Klaim yang Diajukan pada Setiap Bandara"
   ]
  },
  {
   "cell_type": "code",
   "execution_count": 54,
   "metadata": {},
   "outputs": [
    {
     "data": {
      "text/html": [
       "<div>\n",
       "<style scoped>\n",
       "    .dataframe tbody tr th:only-of-type {\n",
       "        vertical-align: middle;\n",
       "    }\n",
       "\n",
       "    .dataframe tbody tr th {\n",
       "        vertical-align: top;\n",
       "    }\n",
       "\n",
       "    .dataframe thead th {\n",
       "        text-align: right;\n",
       "    }\n",
       "</style>\n",
       "<table border=\"1\" class=\"dataframe\">\n",
       "  <thead>\n",
       "    <tr style=\"text-align: right;\">\n",
       "      <th></th>\n",
       "      <th>Airport Code</th>\n",
       "      <th>Jumlah Klaim</th>\n",
       "    </tr>\n",
       "  </thead>\n",
       "  <tbody>\n",
       "    <tr>\n",
       "      <th>0</th>\n",
       "      <td>ABE</td>\n",
       "      <td>127</td>\n",
       "    </tr>\n",
       "    <tr>\n",
       "      <th>1</th>\n",
       "      <td>ABI</td>\n",
       "      <td>44</td>\n",
       "    </tr>\n",
       "    <tr>\n",
       "      <th>2</th>\n",
       "      <td>ABQ</td>\n",
       "      <td>926</td>\n",
       "    </tr>\n",
       "    <tr>\n",
       "      <th>3</th>\n",
       "      <td>ABR</td>\n",
       "      <td>31</td>\n",
       "    </tr>\n",
       "    <tr>\n",
       "      <th>4</th>\n",
       "      <td>ABY</td>\n",
       "      <td>37</td>\n",
       "    </tr>\n",
       "    <tr>\n",
       "      <th>...</th>\n",
       "      <td>...</td>\n",
       "      <td>...</td>\n",
       "    </tr>\n",
       "    <tr>\n",
       "      <th>457</th>\n",
       "      <td>XNA</td>\n",
       "      <td>121</td>\n",
       "    </tr>\n",
       "    <tr>\n",
       "      <th>458</th>\n",
       "      <td>YAK</td>\n",
       "      <td>15</td>\n",
       "    </tr>\n",
       "    <tr>\n",
       "      <th>459</th>\n",
       "      <td>YKM</td>\n",
       "      <td>44</td>\n",
       "    </tr>\n",
       "    <tr>\n",
       "      <th>460</th>\n",
       "      <td>YNG</td>\n",
       "      <td>24</td>\n",
       "    </tr>\n",
       "    <tr>\n",
       "      <th>461</th>\n",
       "      <td>YUM</td>\n",
       "      <td>32</td>\n",
       "    </tr>\n",
       "  </tbody>\n",
       "</table>\n",
       "<p>462 rows × 2 columns</p>\n",
       "</div>"
      ],
      "text/plain": [
       "    Airport Code  Jumlah Klaim\n",
       "0            ABE           127\n",
       "1            ABI            44\n",
       "2            ABQ           926\n",
       "3            ABR            31\n",
       "4            ABY            37\n",
       "..           ...           ...\n",
       "457          XNA           121\n",
       "458          YAK            15\n",
       "459          YKM            44\n",
       "460          YNG            24\n",
       "461          YUM            32\n",
       "\n",
       "[462 rows x 2 columns]"
      ]
     },
     "execution_count": 54,
     "metadata": {},
     "output_type": "execute_result"
    }
   ],
   "source": [
    "claim_by_airport = df.groupby('Airport Code', as_index= False)['Claim Type'].count()\n",
    "claim_by_airport.rename(columns = {'Claim Type' : 'Jumlah Klaim'}, inplace= True)\n",
    "claim_by_airport"
   ]
  },
  {
   "cell_type": "code",
   "execution_count": 55,
   "metadata": {},
   "outputs": [
    {
     "data": {
      "text/html": [
       "<div>\n",
       "<style scoped>\n",
       "    .dataframe tbody tr th:only-of-type {\n",
       "        vertical-align: middle;\n",
       "    }\n",
       "\n",
       "    .dataframe tbody tr th {\n",
       "        vertical-align: top;\n",
       "    }\n",
       "\n",
       "    .dataframe thead th {\n",
       "        text-align: right;\n",
       "    }\n",
       "</style>\n",
       "<table border=\"1\" class=\"dataframe\">\n",
       "  <thead>\n",
       "    <tr style=\"text-align: right;\">\n",
       "      <th></th>\n",
       "      <th>Jumlah Klaim</th>\n",
       "    </tr>\n",
       "  </thead>\n",
       "  <tbody>\n",
       "    <tr>\n",
       "      <th>count</th>\n",
       "      <td>462.000000</td>\n",
       "    </tr>\n",
       "    <tr>\n",
       "      <th>mean</th>\n",
       "      <td>416.454545</td>\n",
       "    </tr>\n",
       "    <tr>\n",
       "      <th>std</th>\n",
       "      <td>1163.376363</td>\n",
       "    </tr>\n",
       "    <tr>\n",
       "      <th>min</th>\n",
       "      <td>1.000000</td>\n",
       "    </tr>\n",
       "    <tr>\n",
       "      <th>25%</th>\n",
       "      <td>7.000000</td>\n",
       "    </tr>\n",
       "    <tr>\n",
       "      <th>50%</th>\n",
       "      <td>33.000000</td>\n",
       "    </tr>\n",
       "    <tr>\n",
       "      <th>75%</th>\n",
       "      <td>180.500000</td>\n",
       "    </tr>\n",
       "    <tr>\n",
       "      <th>max</th>\n",
       "      <td>9451.000000</td>\n",
       "    </tr>\n",
       "  </tbody>\n",
       "</table>\n",
       "</div>"
      ],
      "text/plain": [
       "       Jumlah Klaim\n",
       "count    462.000000\n",
       "mean     416.454545\n",
       "std     1163.376363\n",
       "min        1.000000\n",
       "25%        7.000000\n",
       "50%       33.000000\n",
       "75%      180.500000\n",
       "max     9451.000000"
      ]
     },
     "execution_count": 55,
     "metadata": {},
     "output_type": "execute_result"
    }
   ],
   "source": [
    "claim_by_airport.describe()"
   ]
  },
  {
   "cell_type": "code",
   "execution_count": 70,
   "metadata": {},
   "outputs": [
    {
     "data": {
      "text/plain": [
       "<Axes: xlabel='Jumlah Klaim'>"
      ]
     },
     "execution_count": 70,
     "metadata": {},
     "output_type": "execute_result"
    },
    {
     "data": {
      "image/png": "[encoded data removed]",
      "text/plain": [
       "<Figure size 1000x400 with 1 Axes>"
      ]
     },
     "metadata": {},
     "output_type": "display_data"
    }
   ],
   "source": [
    "plt.figure(figsize = (10,4))\n",
    "sns.boxplot(x = claim_by_airport['Jumlah Klaim'])"
   ]
  },
  {
   "cell_type": "code",
   "execution_count": 86,
   "metadata": {},
   "outputs": [
    {
     "data": {
      "text/plain": [
       "78"
      ]
     },
     "execution_count": 86,
     "metadata": {},
     "output_type": "execute_result"
    }
   ],
   "source": [
    "Q1 = claim_by_airport['Jumlah Klaim'].describe()['25%']\n",
    "Q3 = claim_by_airport['Jumlah Klaim'].describe()['75%']\n",
    "IQR = Q3 - Q1\n",
    "upper = Q3 + 1.5*IQR\n",
    "\n",
    "jumlah_outlier = claim_by_airport[claim_by_airport['Jumlah Klaim']> upper]['Airport Code'].count()\n",
    "jumlah_outlier"
   ]
  },
  {
   "cell_type": "code",
   "execution_count": 87,
   "metadata": {},
   "outputs": [
    {
     "name": "stdout",
     "output_type": "stream",
     "text": [
      "KstestResult(statistic=0.9101503009522537, pvalue=0.0, statistic_location=2, statistic_sign=-1)\n",
      "Distribusi tidak normal\n"
     ]
    }
   ],
   "source": [
    "# Uji Distribusi Normal pada Jumlah Klaim\n",
    "from scipy.stats import kstest\n",
    "stat, pval = kstest(claim_by_airport['Jumlah Klaim'], 'norm')\n",
    "print(kstest(claim_by_airport['Jumlah Klaim'], 'norm'))\n",
    "if pval<=0.05:\n",
    "    print('Distribusi tidak normal') #Ha\n",
    "else: \n",
    "    print('distribusi normal') #Ho "
   ]
  },
  {
   "attachments": {},
   "cell_type": "markdown",
   "metadata": {},
   "source": [
    "Berdasarkan uji distribusi normal di atas, terlihat bahwa data dari Jumlah Klaim tidak terdistribusi normal. Hal ini terjadi karena banyaknya *outlier* yang dapat dilihat dari diagram di atas. Terdapat 78 bandara yang termasuk ke dalam outlier. Data bandara yang termasuk outlier tersebut tidak akan dihapus karena tujuan dilakukannya analisis ini salah satunya adalah untuk mengetahu bandara yang paling banyak menerima klaim dari penumpang. Oleh karena itu bandara-bandara yang termasuk ke dalam outlier tersebut akan dianalisis lebih lanjut."
   ]
  },
  {
   "cell_type": "code",
   "execution_count": 90,
   "metadata": {},
   "outputs": [],
   "source": [
    "# Jumlah airport yang termasuk outlier\n",
    "total_airport = claim_by_airport[claim_by_airport['Jumlah Klaim']> upper]\n",
    "\n",
    "total_airport_mean = total_airport['Jumlah Klaim'].mean()"
   ]
  },
  {
   "cell_type": "code",
   "execution_count": 95,
   "metadata": {},
   "outputs": [
    {
     "data": {
      "text/html": [
       "<div>\n",
       "<style scoped>\n",
       "    .dataframe tbody tr th:only-of-type {\n",
       "        vertical-align: middle;\n",
       "    }\n",
       "\n",
       "    .dataframe tbody tr th {\n",
       "        vertical-align: top;\n",
       "    }\n",
       "\n",
       "    .dataframe thead th {\n",
       "        text-align: right;\n",
       "    }\n",
       "</style>\n",
       "<table border=\"1\" class=\"dataframe\">\n",
       "  <thead>\n",
       "    <tr style=\"text-align: right;\">\n",
       "      <th></th>\n",
       "      <th>Airport Code</th>\n",
       "      <th>Jumlah Klaim</th>\n",
       "    </tr>\n",
       "  </thead>\n",
       "  <tbody>\n",
       "    <tr>\n",
       "      <th>245</th>\n",
       "      <td>LAX</td>\n",
       "      <td>9451</td>\n",
       "    </tr>\n",
       "    <tr>\n",
       "      <th>231</th>\n",
       "      <td>JFK</td>\n",
       "      <td>9122</td>\n",
       "    </tr>\n",
       "    <tr>\n",
       "      <th>137</th>\n",
       "      <td>EWR</td>\n",
       "      <td>6769</td>\n",
       "    </tr>\n",
       "    <tr>\n",
       "      <th>320</th>\n",
       "      <td>ORD</td>\n",
       "      <td>6738</td>\n",
       "    </tr>\n",
       "    <tr>\n",
       "      <th>287</th>\n",
       "      <td>MIA</td>\n",
       "      <td>6336</td>\n",
       "    </tr>\n",
       "    <tr>\n",
       "      <th>275</th>\n",
       "      <td>MCO</td>\n",
       "      <td>6323</td>\n",
       "    </tr>\n",
       "    <tr>\n",
       "      <th>27</th>\n",
       "      <td>ATL</td>\n",
       "      <td>5792</td>\n",
       "    </tr>\n",
       "    <tr>\n",
       "      <th>397</th>\n",
       "      <td>SEA</td>\n",
       "      <td>5344</td>\n",
       "    </tr>\n",
       "    <tr>\n",
       "      <th>338</th>\n",
       "      <td>PHX</td>\n",
       "      <td>4994</td>\n",
       "    </tr>\n",
       "    <tr>\n",
       "      <th>243</th>\n",
       "      <td>LAS</td>\n",
       "      <td>4991</td>\n",
       "    </tr>\n",
       "    <tr>\n",
       "      <th>337</th>\n",
       "      <td>PHL</td>\n",
       "      <td>4610</td>\n",
       "    </tr>\n",
       "    <tr>\n",
       "      <th>110</th>\n",
       "      <td>DFW</td>\n",
       "      <td>4344</td>\n",
       "    </tr>\n",
       "    <tr>\n",
       "      <th>55</th>\n",
       "      <td>BOS</td>\n",
       "      <td>4075</td>\n",
       "    </tr>\n",
       "    <tr>\n",
       "      <th>147</th>\n",
       "      <td>FLL</td>\n",
       "      <td>4055</td>\n",
       "    </tr>\n",
       "    <tr>\n",
       "      <th>109</th>\n",
       "      <td>DEN</td>\n",
       "      <td>3886</td>\n",
       "    </tr>\n",
       "    <tr>\n",
       "      <th>205</th>\n",
       "      <td>IAD</td>\n",
       "      <td>3867</td>\n",
       "    </tr>\n",
       "    <tr>\n",
       "      <th>255</th>\n",
       "      <td>LGA</td>\n",
       "      <td>3820</td>\n",
       "    </tr>\n",
       "    <tr>\n",
       "      <th>433</th>\n",
       "      <td>TPA</td>\n",
       "      <td>3303</td>\n",
       "    </tr>\n",
       "    <tr>\n",
       "      <th>207</th>\n",
       "      <td>IAH</td>\n",
       "      <td>3212</td>\n",
       "    </tr>\n",
       "    <tr>\n",
       "      <th>303</th>\n",
       "      <td>MSP</td>\n",
       "      <td>3155</td>\n",
       "    </tr>\n",
       "    <tr>\n",
       "      <th>384</th>\n",
       "      <td>SAN</td>\n",
       "      <td>3019</td>\n",
       "    </tr>\n",
       "    <tr>\n",
       "      <th>118</th>\n",
       "      <td>DTW</td>\n",
       "      <td>2902</td>\n",
       "    </tr>\n",
       "    <tr>\n",
       "      <th>68</th>\n",
       "      <td>BWI</td>\n",
       "      <td>2831</td>\n",
       "    </tr>\n",
       "  </tbody>\n",
       "</table>\n",
       "</div>"
      ],
      "text/plain": [
       "    Airport Code  Jumlah Klaim\n",
       "245          LAX          9451\n",
       "231          JFK          9122\n",
       "137          EWR          6769\n",
       "320          ORD          6738\n",
       "287          MIA          6336\n",
       "275          MCO          6323\n",
       "27           ATL          5792\n",
       "397          SEA          5344\n",
       "338          PHX          4994\n",
       "243          LAS          4991\n",
       "337          PHL          4610\n",
       "110          DFW          4344\n",
       "55           BOS          4075\n",
       "147          FLL          4055\n",
       "109          DEN          3886\n",
       "205          IAD          3867\n",
       "255          LGA          3820\n",
       "433          TPA          3303\n",
       "207          IAH          3212\n",
       "303          MSP          3155\n",
       "384          SAN          3019\n",
       "118          DTW          2902\n",
       "68           BWI          2831"
      ]
     },
     "execution_count": 95,
     "metadata": {},
     "output_type": "execute_result"
    }
   ],
   "source": [
    "# Airport dengan jumlah klaim di atas rata-rata\n",
    "t_airport = total_airport[total_airport['Jumlah Klaim'] > total_airport_mean].sort_values('Jumlah Klaim', ascending = False)\n",
    "t_airport\n"
   ]
  },
  {
   "cell_type": "code",
   "execution_count": 96,
   "metadata": {},
   "outputs": [
    {
     "data": {
      "text/html": [
       "<div>\n",
       "<style scoped>\n",
       "    .dataframe tbody tr th:only-of-type {\n",
       "        vertical-align: middle;\n",
       "    }\n",
       "\n",
       "    .dataframe tbody tr th {\n",
       "        vertical-align: top;\n",
       "    }\n",
       "\n",
       "    .dataframe thead th {\n",
       "        text-align: right;\n",
       "    }\n",
       "</style>\n",
       "<table border=\"1\" class=\"dataframe\">\n",
       "  <thead>\n",
       "    <tr style=\"text-align: right;\">\n",
       "      <th></th>\n",
       "      <th>Jumlah Klaim</th>\n",
       "    </tr>\n",
       "  </thead>\n",
       "  <tbody>\n",
       "    <tr>\n",
       "      <th>count</th>\n",
       "      <td>23.000000</td>\n",
       "    </tr>\n",
       "    <tr>\n",
       "      <th>mean</th>\n",
       "      <td>4910.391304</td>\n",
       "    </tr>\n",
       "    <tr>\n",
       "      <th>std</th>\n",
       "      <td>1856.291801</td>\n",
       "    </tr>\n",
       "    <tr>\n",
       "      <th>min</th>\n",
       "      <td>2831.000000</td>\n",
       "    </tr>\n",
       "    <tr>\n",
       "      <th>25%</th>\n",
       "      <td>3561.500000</td>\n",
       "    </tr>\n",
       "    <tr>\n",
       "      <th>50%</th>\n",
       "      <td>4344.000000</td>\n",
       "    </tr>\n",
       "    <tr>\n",
       "      <th>75%</th>\n",
       "      <td>6057.500000</td>\n",
       "    </tr>\n",
       "    <tr>\n",
       "      <th>max</th>\n",
       "      <td>9451.000000</td>\n",
       "    </tr>\n",
       "  </tbody>\n",
       "</table>\n",
       "</div>"
      ],
      "text/plain": [
       "       Jumlah Klaim\n",
       "count     23.000000\n",
       "mean    4910.391304\n",
       "std     1856.291801\n",
       "min     2831.000000\n",
       "25%     3561.500000\n",
       "50%     4344.000000\n",
       "75%     6057.500000\n",
       "max     9451.000000"
      ]
     },
     "execution_count": 96,
     "metadata": {},
     "output_type": "execute_result"
    }
   ],
   "source": [
    "t_airport.describe()"
   ]
  },
  {
   "cell_type": "code",
   "execution_count": 97,
   "metadata": {},
   "outputs": [
    {
     "name": "stderr",
     "output_type": "stream",
     "text": [
      "C:\\Users\\haqib\\AppData\\Local\\Temp\\ipykernel_30912\\1851538415.py:1: MatplotlibDeprecationWarning: The seaborn styles shipped by Matplotlib are deprecated since 3.6, as they no longer correspond to the styles shipped by seaborn. However, they will remain available as 'seaborn-v0_8-<style>'. Alternatively, directly use the seaborn API instead.\n",
      "  plt.style.use('seaborn')\n"
     ]
    },
    {
     "data": {
      "image/png": "[encoded data removed]",
      "text/plain": [
       "<Figure size 1200x800 with 1 Axes>"
      ]
     },
     "metadata": {},
     "output_type": "display_data"
    }
   ],
   "source": [
    "plt.style.use('seaborn')\n",
    "plt.figure(figsize=(12, 8))\n",
    "plt.title('Bandara dengan Jumlah Klaim di Atas Rata-Rata', size='xx-large') \n",
    "plt.bar(t_airport['Airport Code'], t_airport['Jumlah Klaim'])\n",
    "plt.xlabel('Bandara', size='x-large')\n",
    "plt.ylabel('Jumlah Klaim', size='x-large')\n",
    "plt.show()"
   ]
  },
  {
   "attachments": {},
   "cell_type": "markdown",
   "metadata": {},
   "source": [
    "Berdasarkan grafik di atas, terlihat bahwa bandara yang paling banyak menerima klaim adalah bandara dengan kode LAX (Los Angeles International Airport) yaitu sebanyak 9451 klaim, kemudian diikuti oleh bandara JFK (John F. Kennedy Airport) dengan jumlah klaim sebanyak 9122. Berdasarkan data yang dilansir dari [Wikipedia](https://en.wikipedia.org/wiki/List_of_the_busiest_airports_in_the_United_States), Los Angeles International Airport dan John F. Kennedy Airport merupakan bandara yang termasuk ke dalam bandara tersibuk di Amerika Serikat. Begitupun dengan mayoritas bandara-bandara yang ada pada grafik juga termasuk ke dalam *list* bandara tersibuk di Amerika Serikat. Oleh karena itu, wajar jika bandara-bandara tersebut memiliki jumlah klaim yang tinggi karena tingginya arus lalu lintas penumpang.   "
   ]
  },
  {
   "attachments": {},
   "cell_type": "markdown",
   "metadata": {},
   "source": [
    "# Jenis Klaim yang Paling Banyak Dilaporkan\n",
    "Setelah melakukan analisis bandara yang paling banyak menerima klaim, selanjutnya akan dianalisis jenis klaim yang paling banyak dilaporkan oleh penumpang di bandara."
   ]
  },
  {
   "cell_type": "code",
   "execution_count": 98,
   "metadata": {},
   "outputs": [
    {
     "data": {
      "text/plain": [
       "Passenger Property Loss    113569\n",
       "Property Damage             70757\n",
       "Other                        5577\n",
       "Personal Injury              1372\n",
       "Employee Loss (MPCECA)        460\n",
       "Passenger Theft               446\n",
       "Motor Vehicle                 171\n",
       "Complaint                      44\n",
       "Wrongful Death                  3\n",
       "Compliment                      2\n",
       "Bus Terminal                    1\n",
       "Name: Claim Type, dtype: int64"
      ]
     },
     "execution_count": 98,
     "metadata": {},
     "output_type": "execute_result"
    }
   ],
   "source": [
    "df['Claim Type'].value_counts()"
   ]
  },
  {
   "cell_type": "code",
   "execution_count": 102,
   "metadata": {},
   "outputs": [
    {
     "data": {
      "text/html": [
       "<div>\n",
       "<style scoped>\n",
       "    .dataframe tbody tr th:only-of-type {\n",
       "        vertical-align: middle;\n",
       "    }\n",
       "\n",
       "    .dataframe tbody tr th {\n",
       "        vertical-align: top;\n",
       "    }\n",
       "\n",
       "    .dataframe thead th {\n",
       "        text-align: right;\n",
       "    }\n",
       "</style>\n",
       "<table border=\"1\" class=\"dataframe\">\n",
       "  <thead>\n",
       "    <tr style=\"text-align: right;\">\n",
       "      <th></th>\n",
       "      <th>Claim Type</th>\n",
       "      <th>Frequency</th>\n",
       "    </tr>\n",
       "  </thead>\n",
       "  <tbody>\n",
       "    <tr>\n",
       "      <th>0</th>\n",
       "      <td>Bus Terminal</td>\n",
       "      <td>1</td>\n",
       "    </tr>\n",
       "    <tr>\n",
       "      <th>1</th>\n",
       "      <td>Complaint</td>\n",
       "      <td>44</td>\n",
       "    </tr>\n",
       "    <tr>\n",
       "      <th>2</th>\n",
       "      <td>Compliment</td>\n",
       "      <td>2</td>\n",
       "    </tr>\n",
       "    <tr>\n",
       "      <th>3</th>\n",
       "      <td>Employee Loss (MPCECA)</td>\n",
       "      <td>460</td>\n",
       "    </tr>\n",
       "    <tr>\n",
       "      <th>4</th>\n",
       "      <td>Motor Vehicle</td>\n",
       "      <td>171</td>\n",
       "    </tr>\n",
       "    <tr>\n",
       "      <th>5</th>\n",
       "      <td>Other</td>\n",
       "      <td>5577</td>\n",
       "    </tr>\n",
       "    <tr>\n",
       "      <th>6</th>\n",
       "      <td>Passenger Property Loss</td>\n",
       "      <td>113569</td>\n",
       "    </tr>\n",
       "    <tr>\n",
       "      <th>7</th>\n",
       "      <td>Passenger Theft</td>\n",
       "      <td>446</td>\n",
       "    </tr>\n",
       "    <tr>\n",
       "      <th>8</th>\n",
       "      <td>Personal Injury</td>\n",
       "      <td>1372</td>\n",
       "    </tr>\n",
       "    <tr>\n",
       "      <th>9</th>\n",
       "      <td>Property Damage</td>\n",
       "      <td>70757</td>\n",
       "    </tr>\n",
       "    <tr>\n",
       "      <th>10</th>\n",
       "      <td>Wrongful Death</td>\n",
       "      <td>3</td>\n",
       "    </tr>\n",
       "  </tbody>\n",
       "</table>\n",
       "</div>"
      ],
      "text/plain": [
       "                 Claim Type  Frequency\n",
       "0              Bus Terminal          1\n",
       "1                 Complaint         44\n",
       "2                Compliment          2\n",
       "3    Employee Loss (MPCECA)        460\n",
       "4             Motor Vehicle        171\n",
       "5                     Other       5577\n",
       "6   Passenger Property Loss     113569\n",
       "7           Passenger Theft        446\n",
       "8           Personal Injury       1372\n",
       "9           Property Damage      70757\n",
       "10           Wrongful Death          3"
      ]
     },
     "execution_count": 102,
     "metadata": {},
     "output_type": "execute_result"
    }
   ],
   "source": [
    "claim_type = df.groupby('Claim Type', as_index=False)['Claim Type'].value_counts()\n",
    "claim_type.rename(columns = {'count' : 'Frequency'}, inplace= True)\n",
    "claim_type"
   ]
  },
  {
   "cell_type": "code",
   "execution_count": 111,
   "metadata": {},
   "outputs": [
    {
     "name": "stderr",
     "output_type": "stream",
     "text": [
      "C:\\Users\\haqib\\AppData\\Local\\Temp\\ipykernel_30912\\3422134452.py:1: MatplotlibDeprecationWarning: The seaborn styles shipped by Matplotlib are deprecated since 3.6, as they no longer correspond to the styles shipped by seaborn. However, they will remain available as 'seaborn-v0_8-<style>'. Alternatively, directly use the seaborn API instead.\n",
      "  plt.style.use('seaborn')\n"
     ]
    },
    {
     "data": {
      "image/png": "[encoded data removed]",
      "text/plain": [
       "<Figure size 2000x400 with 1 Axes>"
      ]
     },
     "metadata": {},
     "output_type": "display_data"
    }
   ],
   "source": [
    "plt.style.use('seaborn')\n",
    "plt.figure(figsize=(22,4))\n",
    "plt.title('Jenis Klaim yang Paling Banyak Dilaporkan', size='xx-large') \n",
    "plt.bar(claim_type['Claim Type'], claim_type['Frequency'])\n",
    "plt.xlabel('Jenis Klaim', size='x-large')\n",
    "plt.ylabel('Jumlah', size='x-large')\n",
    "plt.show()"
   ]
  }
 ],
 "metadata": {
  "kernelspec": {
   "display_name": "Python 3",
   "language": "python",
   "name": "python3"
  },
  "language_info": {
   "codemirror_mode": {
    "name": "ipython",
    "version": 3
   },
   "file_extension": ".py",
   "mimetype": "text/x-python",
   "name": "python",
   "nbconvert_exporter": "python",
   "pygments_lexer": "ipython3",
   "version": "3.10.10"
  },
  "orig_nbformat": 4
 },
 "nbformat": 4,
 "nbformat_minor": 2
}
